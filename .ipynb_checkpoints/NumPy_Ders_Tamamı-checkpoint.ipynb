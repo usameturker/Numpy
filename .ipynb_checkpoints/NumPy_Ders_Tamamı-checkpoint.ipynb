{
 "cells": [
  {
   "cell_type": "markdown",
   "id": "33278200-03ce-4c6f-a801-52b269138f64",
   "metadata": {},
   "source": [
    "# Veri Analizi (Data Analysis) Nedir ?"
   ]
  },
  {
   "cell_type": "markdown",
   "id": "021680e7-c9c3-48dd-beb8-1f43947196c5",
   "metadata": {},
   "source": [
    "Veriyi ; \n",
    "\n",
    "\t     >> İnceleme (Inspecting)\n",
    "\t     >> Temizleme (Cleansing)\n",
    "\t     >> Dönüştürme (Transforming)\n",
    "\t     >> Modelleme (Modeling)\n",
    "         \n",
    "        sürecine(işlemler dizisine)  *Veri Analizi (Data Analysis)* denilir."
   ]
  },
  {
   "cell_type": "markdown",
   "id": "01726cd5-3691-48b4-a815-a81b901edfa6",
   "metadata": {},
   "source": [
    "Veri Analizi ;\n",
    "\t\n",
    "\t-Kullanışlı Bilgi Keşfetme\n",
    "\t-Veriden Sonuç Çıkarma\n",
    "\t-Karar Vermeyi Destekleme\n",
    "    \n",
    "\n",
    "amaçlarıyla yapılır."
   ]
  },
  {
   "cell_type": "markdown",
   "id": "e5895431-1ad7-4240-8415-fd952c3de25e",
   "metadata": {},
   "source": [
    "****\n",
    "# NumPy Nedir ?"
   ]
  },
  {
   "cell_type": "markdown",
   "id": "90f4061a-da75-4909-8494-c9c927d61a9b",
   "metadata": {},
   "source": [
    "# Python'da Module Import İşlemi "
   ]
  },
  {
   "cell_type": "code",
   "execution_count": 62,
   "id": "5844c666-801d-4441-9c00-c81cc51b3ed9",
   "metadata": {},
   "outputs": [
    {
     "data": {
      "text/plain": [
       "'C:\\\\Users\\\\yaras\\\\NumPy_Ders'"
      ]
     },
     "execution_count": 62,
     "metadata": {},
     "output_type": "execute_result"
    }
   ],
   "source": [
    "import os    # os module'unu import et\n",
    "os.getcwd()  # os module'une ait getcwd() fonksiyonunu çağır.\n",
    "             # Eğer os module'unu import etmeseydik bu module e ait fonksiyonu kullanamazdık."
   ]
  },
  {
   "cell_type": "markdown",
   "id": "ce70fed6-9134-46dc-a05d-027c211ba5b6",
   "metadata": {},
   "source": [
    "**getcwd() mevcut olarak çalıştığımız dosya konumunu bize getiren fonksiyondur, \n",
    "sistemde şuanda bulunduğumuz dosya konumunu bize getirdi.**"
   ]
  },
  {
   "cell_type": "code",
   "execution_count": 64,
   "id": "7664211a-af12-4721-b626-2bfd1e0e678b",
   "metadata": {},
   "outputs": [
    {
     "data": {
      "text/plain": [
       "'win32'"
      ]
     },
     "execution_count": 64,
     "metadata": {},
     "output_type": "execute_result"
    }
   ],
   "source": [
    "import sys     # sys module'unu çağırdık\n",
    "sys.platform   # sys module'une ait bir attribute'ü-- \"platform\" attribute'unu kullandık.\n",
    "               # Dikkat edin bu sefer bir fonksiyon değil bir attribute-yani özellik kullandık."
   ]
  },
  {
   "cell_type": "code",
   "execution_count": 65,
   "id": "0194a5d3-51ed-4d47-8904-2274c9690fba",
   "metadata": {},
   "outputs": [
    {
     "name": "stdout",
     "output_type": "stream",
     "text": [
      "3.10.8 (tags/v3.10.8:aaaf517, Oct 11 2022, 16:50:30) [MSC v.1933 64 bit (AMD64)]\n"
     ]
    }
   ],
   "source": [
    "print(sys.version)"
   ]
  },
  {
   "cell_type": "code",
   "execution_count": 66,
   "id": "17a2c688-ff07-4eb6-8ec3-6bdd37076c99",
   "metadata": {},
   "outputs": [
    {
     "data": {
      "text/plain": [
       "datetime.date(2022, 11, 12)"
      ]
     },
     "execution_count": 66,
     "metadata": {},
     "output_type": "execute_result"
    }
   ],
   "source": [
    "import datetime\n",
    "datetime.date.today()"
   ]
  },
  {
   "cell_type": "code",
   "execution_count": 67,
   "id": "76b2918e-a2be-4874-91e8-a36994821b39",
   "metadata": {},
   "outputs": [
    {
     "data": {
      "text/plain": [
       "'2022-11-12'"
      ]
     },
     "execution_count": 67,
     "metadata": {},
     "output_type": "execute_result"
    }
   ],
   "source": [
    "datetime.date.isoformat(datetime.date.today())    # Bugünün tarihini bir string olarak alıyoruz."
   ]
  },
  {
   "cell_type": "code",
   "execution_count": 68,
   "id": "557d4ec4-b192-403d-8353-20b1e3f8b9d8",
   "metadata": {},
   "outputs": [
    {
     "data": {
      "text/plain": [
       "12"
      ]
     },
     "execution_count": 68,
     "metadata": {},
     "output_type": "execute_result"
    }
   ],
   "source": [
    "datetime.date.today().day"
   ]
  },
  {
   "cell_type": "code",
   "execution_count": 69,
   "id": "7a46cc30-3bbd-4d32-9b7b-77a5d69a090c",
   "metadata": {},
   "outputs": [
    {
     "data": {
      "text/plain": [
       "11"
      ]
     },
     "execution_count": 69,
     "metadata": {},
     "output_type": "execute_result"
    }
   ],
   "source": [
    "datetime.date.today().month"
   ]
  },
  {
   "cell_type": "code",
   "execution_count": 70,
   "id": "5a5c7fbe-c659-4829-8b08-05a3d8de7571",
   "metadata": {},
   "outputs": [
    {
     "data": {
      "text/plain": [
       "2022"
      ]
     },
     "execution_count": 70,
     "metadata": {},
     "output_type": "execute_result"
    }
   ],
   "source": [
    "datetime.date.today().year"
   ]
  },
  {
   "cell_type": "markdown",
   "id": "e60f7e8f-3b63-444b-aace-d8406ada699f",
   "metadata": {},
   "source": [
    "****"
   ]
  },
  {
   "cell_type": "code",
   "execution_count": 71,
   "id": "be383ea4-128f-4a59-989f-770ac72e3e42",
   "metadata": {},
   "outputs": [
    {
     "data": {
      "text/plain": [
       "28"
      ]
     },
     "execution_count": 71,
     "metadata": {},
     "output_type": "execute_result"
    }
   ],
   "source": [
    "import sys\n",
    "\n",
    "x = 5\n",
    "\n",
    "sys.getsizeof(x) # getsizeof() ; Python'da bir object'in bellekte tuttuğu alanı byte cinsinden veren fonksiyondur.\n"
   ]
  },
  {
   "cell_type": "markdown",
   "id": "44a0dc94-de19-4c25-acf8-5be066b3ffb5",
   "metadata": {},
   "source": [
    "# NumPy Module'unu Import Ediyoruz"
   ]
  },
  {
   "cell_type": "markdown",
   "id": "149d590b-f688-456e-a073-0c754430867e",
   "metadata": {},
   "source": [
    "**NumPy Python Standard Library içerisinde bulunan bir module değildir.**"
   ]
  },
  {
   "cell_type": "markdown",
   "id": "10781104-ab86-43e3-9b81-9fddafa318c9",
   "metadata": {},
   "source": [
    "**-->NumPy module'unu import etmek için önce ;\n",
    "     NumPy module'unu Python pip aracı ile install etmemiz gerekiyor.\n",
    "     \"pip\" aracı bize Standard Library'de bulunmayan module'leri/package'leri dışarıdan install etmeyi sağlar.**\n",
    "    "
   ]
  },
  {
   "cell_type": "markdown",
   "id": "d2062da8-315f-4f22-a957-6899275ef84d",
   "metadata": {},
   "source": [
    "**--> Önce NumPy'yi \"pip\" ile install edelim :**"
   ]
  },
  {
   "cell_type": "markdown",
   "id": "cd5126fc-4e08-4c2f-ab4d-ac08f7a20268",
   "metadata": {},
   "source": [
    "Öncelikle Terminal Window(Komut Penceresini) açıyoruz. Windows'ta \"cmd\" olarak biliniyor.\n",
    "Daha sonra Terminalde ;\n",
    "    \n",
    "**pip install numpy**\n",
    "    \n",
    "komutunu girerek NumPy yi sistemimize yüklüyoruz. \n",
    "    \n",
    "Artık NumPy module'unu import edebiliriz.\n"
   ]
  },
  {
   "cell_type": "markdown",
   "id": "0a84ac89-b6db-4c42-bfb7-d42c2d2bf2b2",
   "metadata": {},
   "source": [
    "**NumPy Import Adımı :**"
   ]
  },
  {
   "cell_type": "code",
   "execution_count": null,
   "id": "8c1b1b0d-6bd5-45f3-942d-24331a6d7707",
   "metadata": {},
   "outputs": [],
   "source": [
    "import numpy as np"
   ]
  },
  {
   "cell_type": "markdown",
   "id": "4b9be653-0013-4d5d-b173-5b3f439152ea",
   "metadata": {},
   "source": [
    "**|--> Import ederken NumPy module'unu ismiyle çok sık çağıracağımız için \n",
    "\"as np\" şeklinde ismini np olarak yeniden düzenliyoruz. \n",
    "Böylece NumPy'yi çağırırken \"np\" yazarak kolayca çağırabiliriz.** "
   ]
  },
  {
   "cell_type": "markdown",
   "id": "f5f0bf1e-3a53-4c89-8ded-877ef8fbca85",
   "metadata": {},
   "source": [
    "# NumPy ile Array Oluşturmak"
   ]
  },
  {
   "cell_type": "code",
   "execution_count": 73,
   "id": "cf323809-f84a-4b6a-b74a-b7c582c10f83",
   "metadata": {},
   "outputs": [
    {
     "data": {
      "text/plain": [
       "array([1, 2, 3, 4])"
      ]
     },
     "execution_count": 73,
     "metadata": {},
     "output_type": "execute_result"
    }
   ],
   "source": [
    "import numpy as np\n",
    "\n",
    "np.array([1, 2, 3, 4])"
   ]
  },
  {
   "cell_type": "markdown",
   "id": "baf33387-ec1c-4189-a774-f9e06fbf17eb",
   "metadata": {},
   "source": [
    "**Oluşturduğumuz array'i bir variable'a assign ederek (atamasını yaparak) kullanabiliriz:**"
   ]
  },
  {
   "cell_type": "code",
   "execution_count": 74,
   "id": "0692ebed-a633-4899-ab01-d6296683e974",
   "metadata": {},
   "outputs": [
    {
     "name": "stdout",
     "output_type": "stream",
     "text": [
      "[1 2 3 4]\n"
     ]
    }
   ],
   "source": [
    "a = np.array([1, 2, 3, 4])\n",
    "print(a)"
   ]
  },
  {
   "cell_type": "code",
   "execution_count": 78,
   "id": "b8026b92-2106-4a1f-8027-86bed266e284",
   "metadata": {},
   "outputs": [
    {
     "name": "stdout",
     "output_type": "stream",
     "text": [
      "[0.  0.5 1.  1.5 2. ]\n"
     ]
    }
   ],
   "source": [
    "b = np.array([0, 0.5, 1, 1.5, 2]) # Float tipinde objelerden de array oluşturabiliriz.\n",
    "print(b)"
   ]
  },
  {
   "cell_type": "code",
   "execution_count": null,
   "id": "b76b00c0-261c-4128-aceb-363d3c75ba3b",
   "metadata": {},
   "outputs": [],
   "source": []
  },
  {
   "cell_type": "markdown",
   "id": "2d11a1a7-7077-4fba-9afc-a137d89cb198",
   "metadata": {
    "tags": []
   },
   "source": [
    "## Creating Array from Lists"
   ]
  },
  {
   "cell_type": "code",
   "execution_count": 184,
   "id": "ec0ccc7a-d15f-4018-bcd4-d284227002d4",
   "metadata": {},
   "outputs": [
    {
     "name": "stdout",
     "output_type": "stream",
     "text": [
      "[1 2 3 4 5]\n"
     ]
    }
   ],
   "source": [
    "my_list = [1, 2, 3, 4, 5]  # List oluşturduk\n",
    "\n",
    "arr = np.array(my_list)\n",
    "print(arr)"
   ]
  },
  {
   "cell_type": "markdown",
   "id": "d65deb3a-a25a-4f6e-b1c8-8b3912b368d4",
   "metadata": {},
   "source": [
    "****\n",
    "## asarray( )"
   ]
  },
  {
   "cell_type": "markdown",
   "id": "1e16d2b9-5170-4aaf-9a85-9e4f5e7a4079",
   "metadata": {},
   "source": [
    "__Parametre olarak bir array_like alır. Yani array benzeri, array'e dönüştürülebilecek  \n",
    "list, tuple vs. bir girdi alır.  \n",
    "Bu girdiyi bir array'e dönüştürür. Geriye bir NumPy array / ndarray döndürür.__"
   ]
  },
  {
   "cell_type": "code",
   "execution_count": 345,
   "id": "455d6e27-ab24-4eb2-b692-a26b203f267e",
   "metadata": {},
   "outputs": [],
   "source": [
    "my_list = [1, 2]\n",
    "my_array = np.asarray(my_list)"
   ]
  },
  {
   "cell_type": "code",
   "execution_count": 346,
   "id": "41fceeb5-4b24-4e43-b5df-803596bd4ecf",
   "metadata": {},
   "outputs": [
    {
     "data": {
      "text/plain": [
       "list"
      ]
     },
     "execution_count": 346,
     "metadata": {},
     "output_type": "execute_result"
    }
   ],
   "source": [
    "type(my_list)"
   ]
  },
  {
   "cell_type": "code",
   "execution_count": 347,
   "id": "87655c04-925e-4ebd-a52e-a53a855b092f",
   "metadata": {},
   "outputs": [
    {
     "data": {
      "text/plain": [
       "numpy.ndarray"
      ]
     },
     "execution_count": 347,
     "metadata": {},
     "output_type": "execute_result"
    }
   ],
   "source": [
    "type(my_array)"
   ]
  },
  {
   "cell_type": "markdown",
   "id": "bb4fcf9d-8ccb-4e04-b18f-a5853f0dd409",
   "metadata": {
    "tags": []
   },
   "source": [
    "## arange() ile Array Oluşturma"
   ]
  },
  {
   "cell_type": "code",
   "execution_count": 154,
   "id": "74d666c8-48a7-4eeb-9e3d-e9d699604b2d",
   "metadata": {},
   "outputs": [
    {
     "data": {
      "text/plain": [
       "array([20, 21, 22, 23, 24])"
      ]
     },
     "execution_count": 154,
     "metadata": {},
     "output_type": "execute_result"
    }
   ],
   "source": [
    "a = np.arange(5)\n",
    "a + 20"
   ]
  },
  {
   "cell_type": "code",
   "execution_count": null,
   "id": "04aa69ed-280a-4c47-806c-5889d955aaa7",
   "metadata": {},
   "outputs": [],
   "source": []
  },
  {
   "cell_type": "markdown",
   "id": "793778c5-8c80-4b49-a19b-50f615f96efc",
   "metadata": {},
   "source": [
    "****\n",
    "## fromiter( ) ile Array Oluşturma"
   ]
  },
  {
   "cell_type": "markdown",
   "id": "09d9cbba-34fe-48d1-a134-d483ce4593d4",
   "metadata": {},
   "source": [
    "__Parametre olarak, bir iterasyon objesi ve data-type alır.__"
   ]
  },
  {
   "cell_type": "code",
   "execution_count": 393,
   "id": "cf513da6-06d7-418a-9c33-31c32ff8e427",
   "metadata": {},
   "outputs": [
    {
     "name": "stdout",
     "output_type": "stream",
     "text": [
      "[0 1 2 3 4]\n"
     ]
    }
   ],
   "source": [
    "iter_obje = (x for x in range(5))\n",
    "\n",
    "arr = np.fromiter(iter_obje, int)\n",
    "\n",
    "print(arr)\n"
   ]
  },
  {
   "cell_type": "code",
   "execution_count": 394,
   "id": "9ae6ee72-2362-4683-8514-bd17169d1c5d",
   "metadata": {},
   "outputs": [
    {
     "name": "stdout",
     "output_type": "stream",
     "text": [
      "[ 0  1  4  9 16]\n"
     ]
    }
   ],
   "source": [
    "\n",
    "iter_obje = (x*x for x in range(5))\n",
    "\n",
    "arr = np.fromiter(iter_obje, int)\n",
    "\n",
    "print(arr)\n"
   ]
  },
  {
   "cell_type": "code",
   "execution_count": 418,
   "id": "b01c31a7-bb71-4087-8786-450ec6335b91",
   "metadata": {},
   "outputs": [
    {
     "name": "stdout",
     "output_type": "stream",
     "text": [
      "[[0 0]\n",
      " [1 1]\n",
      " [2 2]\n",
      " [3 3]\n",
      " [4 4]]\n"
     ]
    }
   ],
   "source": [
    "\n",
    "iter_obje = ((x, x) for x in range(5))\n",
    "\n",
    "arr = np.fromiter(iter_obje, dtype=np.dtype((int, 2)) )  \n",
    "# type belirtirken her iki iterasyon elemanı için belirtmeye dikkat ediyoruz. Yoksa hatalı olur.\n",
    "\n",
    "print(arr)\n",
    "                                                         "
   ]
  },
  {
   "cell_type": "code",
   "execution_count": 419,
   "id": "08668797-9e44-43a3-9cbc-4160dcbfafb1",
   "metadata": {},
   "outputs": [
    {
     "name": "stdout",
     "output_type": "stream",
     "text": [
      "[[0 1]\n",
      " [1 2]\n",
      " [2 3]\n",
      " [3 4]\n",
      " [4 5]]\n"
     ]
    }
   ],
   "source": [
    "\n",
    "iter_obje = ((x, x+1) for x in range(5))\n",
    "\n",
    "arr = np.fromiter(iter_obje, dtype=np.dtype((int, 2)) )  \n",
    "# type belirtirken her iki iterasyon elemanı için belirtmeye dikkat ediyoruz. Yoksa hatalı olur.\n",
    "\n",
    "print(arr)\n",
    "                                                         "
   ]
  },
  {
   "cell_type": "code",
   "execution_count": 420,
   "id": "3b829824-7865-4396-8662-bea7a6d0c724",
   "metadata": {},
   "outputs": [
    {
     "name": "stdout",
     "output_type": "stream",
     "text": [
      "[[0 1 2]\n",
      " [1 2 3]\n",
      " [2 3 4]\n",
      " [3 4 5]\n",
      " [4 5 6]]\n"
     ]
    }
   ],
   "source": [
    "\n",
    "iter_obje = ((x, x+1, x+2) for x in range(5))\n",
    "\n",
    "arr = np.fromiter(iter_obje, dtype=np.dtype((int, 3)) )  \n",
    "# type belirtirken her iki iterasyon elemanı için belirtmeye dikkat ediyoruz. Yoksa hatalı olur.\n",
    "\n",
    "print(arr)\n",
    "                                                         "
   ]
  },
  {
   "cell_type": "markdown",
   "id": "c198d5a0-32fd-4465-b7dc-f8fe33e5fc5f",
   "metadata": {},
   "source": [
    "****\n",
    "## linspace() ile Array Oluşturma"
   ]
  },
  {
   "cell_type": "markdown",
   "id": "a2737467-beef-4ca2-be88-d393a924ee3d",
   "metadata": {},
   "source": [
    "__start, stop olmak üzere iki zorunlu parametresi vardır.  \n",
    "start, stop ; üretilecek değerlerin başlangıç ve bitiş noktalarını belirler.  \n",
    "stop değeri default olarak dahildir.    \n",
    "Opsiyonel \"endpoint\" parametresi \"False\" yapılırsa stop değeri dışarıda bırakılır.  \n",
    "Opsiyonel olarak \"num\" parametresi girilebilir. \"num\" üretilecek değerlerin    \n",
    "sayısını belirler, default olarak 50 dir.__"
   ]
  },
  {
   "cell_type": "code",
   "execution_count": 425,
   "id": "86ec2abe-5049-48f1-8c08-9efed5034717",
   "metadata": {
    "tags": []
   },
   "outputs": [
    {
     "name": "stdout",
     "output_type": "stream",
     "text": [
      "[2.   2.25 2.5  2.75 3.  ]\n"
     ]
    }
   ],
   "source": [
    "arr = np.linspace(2.0, 3.0, num=5)\n",
    "\n",
    "print(arr)"
   ]
  },
  {
   "cell_type": "code",
   "execution_count": 428,
   "id": "4e7a6237-abc9-4255-b4f5-bcd31cd4c0a2",
   "metadata": {},
   "outputs": [
    {
     "name": "stdout",
     "output_type": "stream",
     "text": [
      "[2.         2.02040816 2.04081633 2.06122449 2.08163265 2.10204082\n",
      " 2.12244898 2.14285714 2.16326531 2.18367347 2.20408163 2.2244898\n",
      " 2.24489796 2.26530612 2.28571429 2.30612245 2.32653061 2.34693878\n",
      " 2.36734694 2.3877551  2.40816327 2.42857143 2.44897959 2.46938776\n",
      " 2.48979592 2.51020408 2.53061224 2.55102041 2.57142857 2.59183673\n",
      " 2.6122449  2.63265306 2.65306122 2.67346939 2.69387755 2.71428571\n",
      " 2.73469388 2.75510204 2.7755102  2.79591837 2.81632653 2.83673469\n",
      " 2.85714286 2.87755102 2.89795918 2.91836735 2.93877551 2.95918367\n",
      " 2.97959184 3.        ]\n"
     ]
    }
   ],
   "source": [
    "# num değeri girilmezse default olarak 50 alacaktır.\n",
    "# Yani 50 tane değer üretecektir.\n",
    "\n",
    "arr = np.linspace(2.0, 3.0)  #num için değer girilmedi\n",
    "\n",
    "print(arr)"
   ]
  },
  {
   "cell_type": "code",
   "execution_count": 433,
   "id": "5af63321-1b47-4541-81b0-0303be1a22f5",
   "metadata": {},
   "outputs": [
    {
     "name": "stdout",
     "output_type": "stream",
     "text": [
      "[ 1.  2.  3.  4.  5.  6.  7.  8.  9. 10.]\n",
      "float64\n"
     ]
    }
   ],
   "source": [
    "arr = np.linspace(1, 10, num=10 )  #dtype girilmediği için float üretecek\n",
    "\n",
    "print(arr)\n",
    "print(arr.dtype)"
   ]
  },
  {
   "cell_type": "code",
   "execution_count": 436,
   "id": "c984f00e-d012-4491-9ef6-ed9cbd3a2255",
   "metadata": {},
   "outputs": [
    {
     "name": "stdout",
     "output_type": "stream",
     "text": [
      "[ 1  2  3  4  5  6  7  8  9 10]\n",
      "int32\n"
     ]
    }
   ],
   "source": [
    "\n",
    "arr = np.linspace(1, 10, num=10, dtype=int )  \n",
    "\n",
    "print(arr)\n",
    "print(arr.dtype)"
   ]
  },
  {
   "cell_type": "code",
   "execution_count": 437,
   "id": "a6e47a71-a6cb-43c4-93ca-deefdfe7df81",
   "metadata": {},
   "outputs": [
    {
     "name": "stdout",
     "output_type": "stream",
     "text": [
      "[ 1  3  5  7 10]\n"
     ]
    }
   ],
   "source": [
    "\n",
    "arr = np.linspace(1, 10, num=5, dtype=int )  \n",
    "\n",
    "print(arr)\n"
   ]
  },
  {
   "cell_type": "code",
   "execution_count": 438,
   "id": "bfe91d19-b436-4ed1-8477-cd7bf8fe6081",
   "metadata": {},
   "outputs": [
    {
     "name": "stdout",
     "output_type": "stream",
     "text": [
      "[ 1  1  2  2  3  4  4  5  5  6  7  7  8  8  9 10]\n"
     ]
    }
   ],
   "source": [
    "arr = np.linspace(1, 10, num=16, dtype=int )  \n",
    "\n",
    "print(arr)"
   ]
  },
  {
   "cell_type": "code",
   "execution_count": 439,
   "id": "f69a24ce-b0c0-433d-8e78-7673baef48e7",
   "metadata": {},
   "outputs": [
    {
     "name": "stdout",
     "output_type": "stream",
     "text": [
      "[2.  2.2 2.4 2.6 2.8]\n"
     ]
    }
   ],
   "source": [
    "#bitiş değeri dahil olmasın istiyorsak \"endpoint\" False yapılır\n",
    "\n",
    "arr = np.linspace(2.0, 3.0, num=5, endpoint=False)\n",
    "\n",
    "print(arr)"
   ]
  },
  {
   "cell_type": "markdown",
   "id": "822f7f6d-2a69-40dd-9a7e-8ce2258890e9",
   "metadata": {},
   "source": [
    "****\n",
    "## logspace( ) ile Array Oluşturma"
   ]
  },
  {
   "cell_type": "markdown",
   "id": "ba9cc300-3ce3-4ad1-8417-ab971d6ea293",
   "metadata": {},
   "source": [
    "__start, stop olmak üzere iki zorunlu parametresi vardır.  \n",
    "DİKKAT !!! :  \n",
    "start, stop ; üretilecek elemanların \"üs değerlerinin\"    \n",
    "başlangıç ve bitiş noktalarını belirler.  stop değeri default olarak dahildir.__\n",
    "  \n",
    "__Opsiyonel \"base\" parametresi ise \"taban\" değerini belirler.  \n",
    "Herhangi bir değer girilmezse default olarak; 10 'dur.__  \n",
    "  \n",
    "__Opsiyonel \"endpoint\" parametresi \"False\" yapılırsa stop değeri dışarıda bırakılır.  \n",
    "Opsiyonel olarak \"num\" parametresi girilebilir. \"num\" üretilecek değerlerin    \n",
    "sayısını belirler, default olarak 50 dir.__"
   ]
  },
  {
   "cell_type": "code",
   "execution_count": 440,
   "id": "90651094-79a3-494f-9e02-82a28dbb3ef5",
   "metadata": {},
   "outputs": [
    {
     "name": "stdout",
     "output_type": "stream",
     "text": [
      "[ 100.          215.443469    464.15888336 1000.        ]\n"
     ]
    }
   ],
   "source": [
    "arr = np.logspace(2.0, 3.0, num=4) \n",
    "# 10**2.0 ile başlayıp devam edecek, taban değeri default; 10'dur.\n",
    "print(arr)"
   ]
  },
  {
   "cell_type": "code",
   "execution_count": 442,
   "id": "7893080e-fff8-44b5-aa0c-f0fdf947d202",
   "metadata": {},
   "outputs": [
    {
     "name": "stdout",
     "output_type": "stream",
     "text": [
      "[    100    2154   46415 1000000]\n"
     ]
    }
   ],
   "source": [
    "\n",
    "arr = np.logspace(2, 6, num=4, dtype=int)\n",
    "#array data tipi integer aldık ancak üs değerleri hala float alınacak,\n",
    "#üretilen elemanlar da float üs değerlerinin sonuçları olacak.\n",
    "print(arr)"
   ]
  },
  {
   "cell_type": "code",
   "execution_count": 459,
   "id": "f3559329-9f24-4efa-a4a3-dc586ffac8ad",
   "metadata": {},
   "outputs": [
    {
     "data": {
      "image/png": "[encoded data removed]",
      "text/plain": [
       "<Figure size 640x480 with 1 Axes>"
      ]
     },
     "metadata": {},
     "output_type": "display_data"
    }
   ],
   "source": [
    "# matplotlib modulunu import etmeden önce;\n",
    "# \" pip install matplotlib \" komutu ile terminalden yüklemeyi unutmayın.\n",
    "\n",
    "import matplotlib.pyplot as plt\n",
    "N = 10\n",
    "x1 = np.logspace(0.1, 1, N, endpoint=True)\n",
    "x2 = np.logspace(0.1, 1, N, endpoint=False)\n",
    "y = np.zeros(N)\n",
    "plt.plot(x1, y, 'o')\n",
    "\n",
    "plt.plot(x2, y + 0.5, 'o')\n",
    "\n",
    "plt.ylim([-0.5, 1])\n",
    "\n",
    "plt.show()"
   ]
  },
  {
   "cell_type": "code",
   "execution_count": null,
   "id": "2de0a429-634f-46f3-9ab3-213f8e5e3711",
   "metadata": {},
   "outputs": [],
   "source": []
  },
  {
   "cell_type": "markdown",
   "id": "81a87c4b-b92b-4bfc-a5c6-0b00046fb29c",
   "metadata": {},
   "source": [
    "# Array Elemanlarına Erişim "
   ]
  },
  {
   "cell_type": "markdown",
   "id": "9ffb0f92-a798-4cdf-ae00-733cd81e6c41",
   "metadata": {
    "tags": []
   },
   "source": [
    "**Array'lerde her elemanın bir index numarası vardır.\n",
    "   Index numarası ilk eleman için 0 'dır. \n",
    "   0 ile başlayıp 1' er artarak devam eder.\n",
    "   Array'in elemanlarına bu index numarası ile erişilebilir.**"
   ]
  },
  {
   "cell_type": "markdown",
   "id": "5b0d7659-ef7e-4989-bc7d-eef8c5b28c29",
   "metadata": {},
   "source": [
    "**Syntax :**\n",
    "****\n",
    "**array_ismi [ index_numarası ]**"
   ]
  },
  {
   "cell_type": "code",
   "execution_count": 84,
   "id": "f5df65ec-a36f-4f52-893f-421eec1dbd44",
   "metadata": {},
   "outputs": [
    {
     "name": "stdout",
     "output_type": "stream",
     "text": [
      "1 2\n"
     ]
    }
   ],
   "source": [
    "arr = np.array([1, 2, 3, 4, 5, 6, 7])\n",
    "\n",
    "print( arr[0], arr[1] )"
   ]
  },
  {
   "cell_type": "code",
   "execution_count": 85,
   "id": "3335c893-e258-4fa0-8ba2-e4abd00a5480",
   "metadata": {},
   "outputs": [
    {
     "data": {
      "text/plain": [
       "3"
      ]
     },
     "execution_count": 85,
     "metadata": {},
     "output_type": "execute_result"
    }
   ],
   "source": [
    "arr[2]"
   ]
  },
  {
   "cell_type": "markdown",
   "id": "deb8ef0d-5d97-4ebe-9330-c5819e4d3496",
   "metadata": {},
   "source": [
    "**List yapısından farklı olarak NumPy Array'lerde multi-indexing yapılabilir.\n",
    "  Yani belirli index numaralarındaki birden fazla elemanı tek seferde getirme işlemi yapabiliriz, \n",
    "  ancak sonuç yine bir array olarak gelir. Syntax da farklıdır :**\n",
    "****\n",
    "         "
   ]
  },
  {
   "cell_type": "markdown",
   "id": "b23e257f-ab41-411d-9ff8-025a292480f8",
   "metadata": {},
   "source": [
    "**array_ismi [ [ array_num, array_num, array_num ] ]**"
   ]
  },
  {
   "cell_type": "code",
   "execution_count": 88,
   "id": "482ceece-c054-49e5-bcb1-c9ebc8ef98e3",
   "metadata": {},
   "outputs": [
    {
     "name": "stdout",
     "output_type": "stream",
     "text": [
      "[3 6 2]\n"
     ]
    }
   ],
   "source": [
    "print( arr[ [2, 5, 1] ] )"
   ]
  },
  {
   "cell_type": "markdown",
   "id": "97f60021-f08e-4b60-89b4-bccb41042fea",
   "metadata": {},
   "source": [
    "# Negative Indexing (Negatif Indexleme)"
   ]
  },
  {
   "cell_type": "markdown",
   "id": "3a7623c8-4226-4d19-9297-d65d0475ed48",
   "metadata": {},
   "source": [
    "**Array'lerde ilk elemandan son elemana doğru (soldan sağa) index numaraları 0, 1, 2, 3...\n",
    " şeklinde gitmektedir.**\n",
    "    "
   ]
  },
  {
   "cell_type": "markdown",
   "id": "0322a4d7-a94f-40a7-833d-71b493da0987",
   "metadata": {},
   "source": [
    "**Eğer sağdan sola gelmek istersek index -1 ile başlar -2, -3, -4.... şeklinde devam eder.\n",
    "  Buna negative indexing denilir.\n",
    "  Ayrıca bu şekilde array'in son elemanına doğrudan -1 index numarası ile erişilebilir.**"
   ]
  },
  {
   "cell_type": "code",
   "execution_count": 2,
   "id": "db828eae-0a39-486f-8578-1302163ee8f2",
   "metadata": {},
   "outputs": [
    {
     "data": {
      "text/plain": [
       "7"
      ]
     },
     "execution_count": 2,
     "metadata": {},
     "output_type": "execute_result"
    }
   ],
   "source": [
    "import numpy as np\n",
    "\n",
    "arr = np.array([1, 2, 3, 4, 5, 6, 7])\n",
    "\n",
    "arr[-1]"
   ]
  },
  {
   "cell_type": "code",
   "execution_count": 3,
   "id": "1c062228-9ad0-47c6-a71d-e570c6247166",
   "metadata": {},
   "outputs": [
    {
     "data": {
      "text/plain": [
       "6"
      ]
     },
     "execution_count": 3,
     "metadata": {},
     "output_type": "execute_result"
    }
   ],
   "source": [
    "arr[-2]"
   ]
  },
  {
   "cell_type": "markdown",
   "id": "d059800b-a864-4571-bcd9-04931f9d6fe0",
   "metadata": {},
   "source": [
    "# Temel Array Türleri"
   ]
  },
  {
   "cell_type": "markdown",
   "id": "38ecce70-9c77-4463-9446-5fa48611c3e3",
   "metadata": {},
   "source": [
    "****\n",
    "**0-D Arrays**"
   ]
  },
  {
   "cell_type": "code",
   "execution_count": 19,
   "id": "724edf0e-2ed5-498e-8ea0-336fc7341a40",
   "metadata": {},
   "outputs": [
    {
     "name": "stdout",
     "output_type": "stream",
     "text": [
      "42\n"
     ]
    }
   ],
   "source": [
    "import numpy as np\n",
    "\n",
    "arr = np.array(42)\n",
    "\n",
    "print(arr)"
   ]
  },
  {
   "cell_type": "markdown",
   "id": "1fd00a78-c700-481d-b7a9-dd755ed54d86",
   "metadata": {},
   "source": [
    "****\n",
    "**1-D Arrays**"
   ]
  },
  {
   "cell_type": "markdown",
   "id": "0add886d-a1e1-42f3-91d1-d4c0fcb85845",
   "metadata": {},
   "source": [
    "**0-D Array'leri elemanları olarak alan array'lerdir.\n",
    "  Tek-boyutlu ya da 1-D Array olarak adlandırılırlar.**"
   ]
  },
  {
   "cell_type": "code",
   "execution_count": null,
   "id": "ef8667cd-0702-4608-9b4d-53390bbbe714",
   "metadata": {},
   "outputs": [],
   "source": [
    "import numpy as np"
   ]
  },
  {
   "cell_type": "code",
   "execution_count": 21,
   "id": "2724b510-bc83-4d73-a568-967064c3cabc",
   "metadata": {},
   "outputs": [
    {
     "name": "stdout",
     "output_type": "stream",
     "text": [
      "[1 2 3 4 5]\n"
     ]
    }
   ],
   "source": [
    "arr = np.array([1, 2, 3, 4, 5])\n",
    "\n",
    "print(arr)"
   ]
  },
  {
   "cell_type": "markdown",
   "id": "777e61e2-c669-4d42-8cba-f561a6989ede",
   "metadata": {},
   "source": [
    "**1-D Array Elemanlarına Erişim :**"
   ]
  },
  {
   "cell_type": "code",
   "execution_count": 36,
   "id": "5ce92751-6054-4a1f-9a15-9389db30b88f",
   "metadata": {},
   "outputs": [
    {
     "data": {
      "text/plain": [
       "3"
      ]
     },
     "execution_count": 36,
     "metadata": {},
     "output_type": "execute_result"
    }
   ],
   "source": [
    "arr[2]"
   ]
  },
  {
   "cell_type": "code",
   "execution_count": 35,
   "id": "2562b63b-825a-4509-9c06-4817891d4891",
   "metadata": {},
   "outputs": [
    {
     "name": "stdout",
     "output_type": "stream",
     "text": [
      "\n",
      " 1 \n",
      " 2 \n",
      " 3 \n",
      " 5\n"
     ]
    }
   ],
   "source": [
    "print( \"\\n\", arr[0], \"\\n\", arr[1], \"\\n\", arr[2], \"\\n\", arr[-1] )"
   ]
  },
  {
   "cell_type": "markdown",
   "id": "7eb5ccfb-6ee8-4f5c-bc32-986ef9544c1d",
   "metadata": {},
   "source": [
    "****\n",
    "**2-D Arrays**"
   ]
  },
  {
   "cell_type": "markdown",
   "id": "f6d06a6d-0822-4488-b3dd-62f084dc49d6",
   "metadata": {},
   "source": [
    "**1-D Array'leri elemanları olarak alan array'lerdir.**"
   ]
  },
  {
   "cell_type": "code",
   "execution_count": 41,
   "id": "2a20fcba-7f0f-479b-bad5-2c8cfdf6836e",
   "metadata": {},
   "outputs": [
    {
     "name": "stdout",
     "output_type": "stream",
     "text": [
      "[[1 2 3]\n",
      " [4 5 6]]\n"
     ]
    }
   ],
   "source": [
    "arr = np.array([[1, 2, 3], [4, 5, 6]])\n",
    "\n",
    "print(arr)"
   ]
  },
  {
   "cell_type": "markdown",
   "id": "c7246105-b4fd-4aaf-9f68-cc25ea5c6204",
   "metadata": {},
   "source": [
    "**2-D Array Elemanlarına Erişim :**"
   ]
  },
  {
   "cell_type": "markdown",
   "id": "7222a311-de36-4a0c-8efc-a5a90aadda57",
   "metadata": {},
   "source": [
    "**2 boyutlu array'leri satır ve sütunlara sahip bir tablo olarak düşünebiliriz.**"
   ]
  },
  {
   "cell_type": "code",
   "execution_count": 42,
   "id": "ea489d21-ac88-4034-b4af-930bd39d5496",
   "metadata": {},
   "outputs": [
    {
     "name": "stdout",
     "output_type": "stream",
     "text": [
      "1.satırın 2. elemanı :  2\n"
     ]
    }
   ],
   "source": [
    "arr = np.array([[1, 2, 3, 4, 5], [6, 7, 8, 9, 10]])\n",
    "\n",
    "print('1.satırın 2. elemanı : ', arr[0, 1])"
   ]
  },
  {
   "cell_type": "markdown",
   "id": "79ed85e5-bb7f-442b-a58d-5025be9d897e",
   "metadata": {},
   "source": [
    "**1. satırın index numarası 0, 2. elemanın index numarası 1 olacağı için\n",
    "  arr[0, 1] yapılır.**"
   ]
  },
  {
   "cell_type": "code",
   "execution_count": 44,
   "id": "395c6e71-846e-432e-a093-ee8f232cfbfe",
   "metadata": {},
   "outputs": [
    {
     "name": "stdout",
     "output_type": "stream",
     "text": [
      "2.satırın 5.elemanı :  10\n"
     ]
    }
   ],
   "source": [
    "arr = np.array([[1,2,3,4,5], [6,7,8,9,10]])\n",
    "\n",
    "print('2.satırın 5.elemanı : ', arr[1, 4])"
   ]
  },
  {
   "cell_type": "markdown",
   "id": "94d2f86a-2aec-4b56-9b3b-1fed266d00cc",
   "metadata": {},
   "source": [
    "****\n",
    "**3-D Arrays**"
   ]
  },
  {
   "cell_type": "markdown",
   "id": "c285d95e-3bc5-49da-b361-8b6e013966c8",
   "metadata": {},
   "source": [
    "**2-D (2 boyutlu) Array'leri elemanları olarak alan array'lerdir.**"
   ]
  },
  {
   "cell_type": "code",
   "execution_count": 45,
   "id": "d028dfeb-91c3-4946-8f9d-22be9edcaa18",
   "metadata": {},
   "outputs": [
    {
     "name": "stdout",
     "output_type": "stream",
     "text": [
      "[[[1 2 3]\n",
      "  [4 5 6]]\n",
      "\n",
      " [[1 2 3]\n",
      "  [4 5 6]]]\n"
     ]
    }
   ],
   "source": [
    "import numpy as np\n",
    "\n",
    "arr = np.array([[[1, 2, 3], [4, 5, 6]], [[1, 2, 3], [4, 5, 6]]])\n",
    "\n",
    "print(arr)"
   ]
  },
  {
   "cell_type": "markdown",
   "id": "1099987a-e343-44d7-a815-e1f2b42f7c3b",
   "metadata": {},
   "source": [
    "**3-D Array Elemanlarına Erişim :**"
   ]
  },
  {
   "cell_type": "code",
   "execution_count": 46,
   "id": "e73e48cb-e62a-42e3-916d-6ca6b02d8792",
   "metadata": {},
   "outputs": [
    {
     "name": "stdout",
     "output_type": "stream",
     "text": [
      "6\n"
     ]
    }
   ],
   "source": [
    "import numpy as np\n",
    "\n",
    "arr = np.array([[[1, 2, 3], [4, 5, 6]], [[7, 8, 9], [10, 11, 12]]])\n",
    "\n",
    "print(arr[0, 1, 2])"
   ]
  },
  {
   "cell_type": "markdown",
   "id": "527e17b0-af29-4c21-9396-d11bd7aefeca",
   "metadata": {},
   "source": [
    "**AÇIKLAMA  :**"
   ]
  },
  {
   "cell_type": "markdown",
   "id": "5dab9866-286a-4350-bd19-2cd2ec99f4b2",
   "metadata": {},
   "source": [
    "**Burada ; array'i  arr[a, b] şeklinde düşünelim.**"
   ]
  },
  {
   "cell_type": "markdown",
   "id": "fe44c46a-061e-4a41-9a05-3223059fecf2",
   "metadata": {},
   "source": [
    "**a elemanı = [ [1, 2, 3], [4, 5, 6] ]**\n",
    "              "
   ]
  },
  {
   "cell_type": "markdown",
   "id": "62ef4a51-fffc-47e4-87de-fd060b8bb584",
   "metadata": {},
   "source": [
    "**b elemanı = [ [7, 8, 9],  [10, 11, 12] ]**"
   ]
  },
  {
   "cell_type": "markdown",
   "id": "d19b6f48-5428-4183-85c9-59ac7bbcf778",
   "metadata": {
    "tags": []
   },
   "source": [
    "**arr[0, 1, 2] ifadesinde girdiğimiz ilk index numarası array'imizi arr[a, b] şeklinde düşünürsek\n",
    "bu arrayde a ve b elemanlarından hangisi olduğunu seçer. 0 girdiğimiz için a'yı seçtik.**"
   ]
  },
  {
   "cell_type": "markdown",
   "id": "6cbcfa78-f552-4a94-81fa-01ec13f05724",
   "metadata": {},
   "source": [
    "**arr[0, 1, 2] ifadesinde girdiğimiz ikinci index numarası ;**"
   ]
  },
  {
   "cell_type": "markdown",
   "id": "0c057ccd-f61d-491a-a110-e99503ed2d3b",
   "metadata": {},
   "source": [
    "**a elemanında hangi eleman olduğunu seçer. \n",
    "  Girilen index num. 1 olduğu için a elemanında 1 index numaralı elemana yani;**"
   ]
  },
  {
   "cell_type": "markdown",
   "id": "10fc9423-6a52-48ef-945b-11b79bf4afa4",
   "metadata": {},
   "source": [
    "**ikinci eleman olan [4, 5, 6] array'ine gider.**"
   ]
  },
  {
   "cell_type": "markdown",
   "id": "6006ba66-5380-4b73-bcc5-38ab835794e9",
   "metadata": {},
   "source": [
    "**arr[0, 1, 2] ifadesinde girdiğimiz üçüncü index numarası ;**"
   ]
  },
  {
   "cell_type": "markdown",
   "id": "6bfbda87-05da-4fe1-a91c-884587c8eaa6",
   "metadata": {},
   "source": [
    "**[4, 5, 6] array'inde hangi elemana gideceğini seçer.\n",
    "arr[0, 1, 2] bu index num. 2 olduğu için ;**"
   ]
  },
  {
   "cell_type": "markdown",
   "id": "322230e7-0fcc-4e3f-bd6b-83d6a6955c9e",
   "metadata": {},
   "source": [
    "**[4, 5, 6] arrayinde 2 numaralı index'te \"6\" integer sayısı bulunuyor.**"
   ]
  },
  {
   "cell_type": "markdown",
   "id": "e7d16cbd-ef2e-4e3e-9c1b-e5720766cc78",
   "metadata": {},
   "source": [
    "**Böylece [[[1, 2, 3], [4, 5, 6]], [[7, 8, 9], [10, 11, 12]]] arrayinde;**"
   ]
  },
  {
   "cell_type": "markdown",
   "id": "8be2b346-de0d-45fa-8448-0072384284c4",
   "metadata": {},
   "source": [
    "**arr[0, 1, 2] sonucu \"6\" olur.**"
   ]
  },
  {
   "cell_type": "markdown",
   "id": "30a16e76-9dae-4c0b-af6b-0af9410b2351",
   "metadata": {},
   "source": [
    "****\n",
    "# Array'lerde Axis Nedir ?\n"
   ]
  },
  {
   "cell_type": "markdown",
   "id": "52cf2fa8-092f-41d5-bddd-4f1593da39b4",
   "metadata": {
    "tags": []
   },
   "source": [
    "<img src=\"numpy_arrays_axis.png\">"
   ]
  },
  {
   "cell_type": "code",
   "execution_count": null,
   "id": "2d4f19da-2c17-49e0-95ed-7d35ca6f8891",
   "metadata": {},
   "outputs": [],
   "source": []
  },
  {
   "cell_type": "markdown",
   "id": "9367d467-c5fe-406c-b740-e3519d1fca6a",
   "metadata": {},
   "source": [
    "****\n",
    "# Array'ler Üzerinde Değişiklik Yapma \n",
    " ## Eleman Ekleme ve Silme"
   ]
  },
  {
   "cell_type": "markdown",
   "id": "a1185647-7fc3-411e-8bfc-65d5185ae3eb",
   "metadata": {},
   "source": [
    "****\n",
    "### append( ) Methodu ile Array'e Eleman ekleme"
   ]
  },
  {
   "cell_type": "markdown",
   "id": "032fde2c-5e57-4bc4-8627-0c24fede09aa",
   "metadata": {},
   "source": [
    "__Bir array'in sonuna değerler/elemanlar eklemeyi sağlar.__"
   ]
  },
  {
   "cell_type": "markdown",
   "id": "f335098b-c935-4b41-99de-741d6c19878b",
   "metadata": {},
   "source": [
    "__Zorunlu parametreleri ; array ve values(eklenecek değerler)__ "
   ]
  },
  {
   "cell_type": "code",
   "execution_count": 559,
   "id": "eef85923-2a96-481c-a511-2c2064fb1caa",
   "metadata": {},
   "outputs": [
    {
     "name": "stdout",
     "output_type": "stream",
     "text": [
      "[1 2 3 4 5 6 7 8 9]\n"
     ]
    }
   ],
   "source": [
    "arr= np.append([1, 2, 3], [[4, 5, 6], [7, 8, 9]])\n",
    "\n",
    "print(arr)"
   ]
  },
  {
   "cell_type": "code",
   "execution_count": 138,
   "id": "f3e90592-93b3-4d7f-94ec-1e50910d8112",
   "metadata": {},
   "outputs": [
    {
     "name": "stdout",
     "output_type": "stream",
     "text": [
      "[1 2 3 4 5 6 7 8 9]\n"
     ]
    }
   ],
   "source": [
    "# axis parametresi opsiyoneldir.\n",
    "# axis Default olarak alınırsa; flattened(düzleştirilmiş-tek-boyutlu halde) bir array üretilir.\n",
    "\n",
    "import numpy as np\n",
    "\n",
    "arr = np.append([[1, 2, 3], [4, 5, 6]], [[7, 8, 9]])\n",
    "\n",
    "print(arr)"
   ]
  },
  {
   "cell_type": "code",
   "execution_count": 5,
   "id": "daa8d7cb-82c7-414a-8f2e-e955eeb033ee",
   "metadata": {},
   "outputs": [
    {
     "name": "stdout",
     "output_type": "stream",
     "text": [
      "[[1 2 3]\n",
      " [4 5 6]\n",
      " [7 8 9]]\n"
     ]
    }
   ],
   "source": [
    "\n",
    "arr = np.append([[1, 2, 3], [4, 5, 6]], [[7, 8, 9]], axis=0)\n",
    "\n",
    "print(arr)"
   ]
  },
  {
   "cell_type": "code",
   "execution_count": 7,
   "id": "342104ce-dfa5-4449-8097-7ff6aa6eca1d",
   "metadata": {},
   "outputs": [
    {
     "name": "stdout",
     "output_type": "stream",
     "text": [
      "[1 2 3 4 5 6 7 8 9]\n"
     ]
    }
   ],
   "source": [
    "\n",
    "a = np.array([[1,2,3],[4,5,6]]) \n",
    "a = np.append(a, [7,8,9])\n",
    "print(a)"
   ]
  },
  {
   "cell_type": "code",
   "execution_count": 12,
   "id": "81766a97-ea77-4403-8ac2-a197e36e9a7a",
   "metadata": {},
   "outputs": [
    {
     "name": "stdout",
     "output_type": "stream",
     "text": [
      "Orjinal array : \n",
      " [[1 2 3]\n",
      " [4 5 6]] \n",
      "\n",
      "Yeni array : \n",
      " [[1 2 3]\n",
      " [4 5 6]\n",
      " [7 8 9]]\n"
     ]
    }
   ],
   "source": [
    "\n",
    "b = np.array([[1,2,3],[4,5,6]]) \n",
    "\n",
    "print(\"Orjinal array : \\n\", b, \"\\n\")\n",
    "\n",
    "b = np.append(b, [[7,8,9]], axis=0)\n",
    "\n",
    "print(\"Yeni array : \\n\", b)"
   ]
  },
  {
   "cell_type": "code",
   "execution_count": 21,
   "id": "6a32f4d7-7541-47df-ab36-0a2d5d68fc5a",
   "metadata": {},
   "outputs": [
    {
     "name": "stdout",
     "output_type": "stream",
     "text": [
      "Orjinal array : \n",
      " [[1 2 3]\n",
      " [4 5 6]] \n",
      "\n",
      "Yeni array : \n",
      " [[1 2 3 5 5 5]\n",
      " [4 5 6 7 8 9]]\n"
     ]
    }
   ],
   "source": [
    "\n",
    "\n",
    "b = np.array([[1,2,3],[4,5,6]]) \n",
    "\n",
    "print(\"Orjinal array : \\n\", b, \"\\n\")\n",
    "\n",
    "b = np.append(b, [[5,5,5],[7,8,9]], axis = 1)\n",
    "\n",
    "print(\"Yeni array : \\n\", b)"
   ]
  },
  {
   "cell_type": "markdown",
   "id": "becb4f8e-cbfc-41a9-8c0d-d2d52917ddd4",
   "metadata": {},
   "source": [
    "****\n",
    "### insert( ) Methodu ile Array'e Eleman Ekleme"
   ]
  },
  {
   "cell_type": "markdown",
   "id": "836ea48b-dce5-4a95-85f2-eb097e4ef748",
   "metadata": {},
   "source": [
    "__Zorunlu parametreleri ; array, obj ve eklenecek_değerler__  \n",
    "__obj parametresine ekleme yapılacak indexler girilir.__  \n",
    "\n",
    "__axis parametresi opsiyoneldir.__  \n",
    "__Default olarak; flattened(düzleştirilmiş-tek-boyutlu halde) bir array üretilir.__  \n",
    "__Axis default haldeyken eleman ekleme yapılırken de indexler tek-boyutlu array halinde düşünülür.__  "
   ]
  },
  {
   "cell_type": "code",
   "execution_count": 67,
   "id": "873876ff-05de-4a9f-ac19-971260bc1c7d",
   "metadata": {},
   "outputs": [
    {
     "data": {
      "text/plain": [
       "array([2, 3, 9, 4, 5, 6, 7])"
      ]
     },
     "execution_count": 67,
     "metadata": {},
     "output_type": "execute_result"
    }
   ],
   "source": [
    "arr = np.array([2, 3, 4, 5, 6, 7])\n",
    "\n",
    "np.insert(arr, 2, 9)"
   ]
  },
  {
   "cell_type": "code",
   "execution_count": 68,
   "id": "a616ed9e-244b-41b0-b893-95fb8bd34253",
   "metadata": {},
   "outputs": [
    {
     "name": "stdout",
     "output_type": "stream",
     "text": [
      "[[1 1]\n",
      " [2 2]\n",
      " [3 3]]\n"
     ]
    }
   ],
   "source": [
    "\n",
    "a = np.array([[1, 1], [2, 2], [3, 3]])\n",
    "\n",
    "print(a)"
   ]
  },
  {
   "cell_type": "code",
   "execution_count": 69,
   "id": "1408912a-aa30-4179-88b7-a1ee1d45e2ac",
   "metadata": {},
   "outputs": [
    {
     "data": {
      "text/plain": [
       "array([1, 5, 1, 2, 2, 3, 3])"
      ]
     },
     "execution_count": 69,
     "metadata": {},
     "output_type": "execute_result"
    }
   ],
   "source": []
  },
  {
   "cell_type": "code",
   "execution_count": 70,
   "id": "5f186035-9a38-4599-b238-8ae75dc30116",
   "metadata": {},
   "outputs": [
    {
     "data": {
      "text/plain": [
       "array([[1, 5, 1],\n",
       "       [2, 5, 2],\n",
       "       [3, 5, 3]])"
      ]
     },
     "execution_count": 70,
     "metadata": {},
     "output_type": "execute_result"
    }
   ],
   "source": [
    "np.insert(a, 1, 5, axis=1)"
   ]
  },
  {
   "cell_type": "code",
   "execution_count": 71,
   "id": "93d7031d-92bd-4366-a3b7-23900aad8afc",
   "metadata": {},
   "outputs": [
    {
     "data": {
      "text/plain": [
       "array([[5, 1, 1],\n",
       "       [5, 2, 2],\n",
       "       [5, 3, 3]])"
      ]
     },
     "execution_count": 71,
     "metadata": {},
     "output_type": "execute_result"
    }
   ],
   "source": [
    "np.insert(a, 0, 5, axis=1)"
   ]
  },
  {
   "cell_type": "code",
   "execution_count": 72,
   "id": "af773dca-1a2f-4ebb-bb8a-de02895f45f4",
   "metadata": {},
   "outputs": [
    {
     "data": {
      "text/plain": [
       "array([[1, 1],\n",
       "       [5, 5],\n",
       "       [2, 2],\n",
       "       [3, 3]])"
      ]
     },
     "execution_count": 72,
     "metadata": {},
     "output_type": "execute_result"
    }
   ],
   "source": [
    "np.insert(a, 1, 5, axis=0)"
   ]
  },
  {
   "cell_type": "code",
   "execution_count": 73,
   "id": "9c7e324e-c45a-4291-87da-1e41523b58a3",
   "metadata": {},
   "outputs": [
    {
     "data": {
      "text/plain": [
       "array([[5, 5],\n",
       "       [1, 1],\n",
       "       [2, 2],\n",
       "       [3, 3]])"
      ]
     },
     "execution_count": 73,
     "metadata": {},
     "output_type": "execute_result"
    }
   ],
   "source": [
    "np.insert(a, 0, 5, axis=0)"
   ]
  },
  {
   "cell_type": "code",
   "execution_count": 30,
   "id": "76f945c2-2076-4879-9059-aa54f4f4ef27",
   "metadata": {},
   "outputs": [
    {
     "data": {
      "text/plain": [
       "array([[1, 1],\n",
       "       [2, 2],\n",
       "       [3, 3],\n",
       "       [5, 5]])"
      ]
     },
     "execution_count": 30,
     "metadata": {},
     "output_type": "execute_result"
    }
   ],
   "source": [
    "np.insert(a, 3, 5, axis=0)"
   ]
  },
  {
   "cell_type": "code",
   "execution_count": 74,
   "id": "6966f0a6-c795-4ed3-bb9e-bf83f2ebef90",
   "metadata": {},
   "outputs": [
    {
     "name": "stdout",
     "output_type": "stream",
     "text": [
      "[[1 1]\n",
      " [2 2]\n",
      " [3 3]]\n"
     ]
    }
   ],
   "source": [
    "a = np.array([[1, 1], [2, 2], [3, 3]])\n",
    "print(a)"
   ]
  },
  {
   "cell_type": "code",
   "execution_count": 75,
   "id": "b9a11ee6-2e46-4b1e-be08-900e7c5c7d1c",
   "metadata": {},
   "outputs": [
    {
     "data": {
      "text/plain": [
       "array([[1, 4, 1],\n",
       "       [2, 5, 2],\n",
       "       [3, 6, 3]])"
      ]
     },
     "execution_count": 75,
     "metadata": {},
     "output_type": "execute_result"
    }
   ],
   "source": [
    "np.insert(a, [1], [[4],[5],[6]], axis=1)"
   ]
  },
  {
   "cell_type": "code",
   "execution_count": 76,
   "id": "ae7eedef-524c-403c-b148-00ba7877fc50",
   "metadata": {},
   "outputs": [
    {
     "data": {
      "text/plain": [
       "array([[1, 4, 5, 6, 1],\n",
       "       [2, 4, 5, 6, 2],\n",
       "       [3, 4, 5, 6, 3]])"
      ]
     },
     "execution_count": 76,
     "metadata": {},
     "output_type": "execute_result"
    }
   ],
   "source": [
    "np.insert(a, [1], [4,5,6], axis=1)"
   ]
  },
  {
   "cell_type": "code",
   "execution_count": 77,
   "id": "86c49d8f-5166-471e-9728-1f6647f24e35",
   "metadata": {},
   "outputs": [
    {
     "data": {
      "text/plain": [
       "array([[1, 4, 5, 6, 1],\n",
       "       [2, 4, 5, 6, 2],\n",
       "       [3, 4, 5, 6, 3]])"
      ]
     },
     "execution_count": 77,
     "metadata": {},
     "output_type": "execute_result"
    }
   ],
   "source": [
    "np.insert(a, 1, [[4],[5],[6]], axis=1)"
   ]
  },
  {
   "cell_type": "code",
   "execution_count": 78,
   "id": "27ad7d09-88dc-44e9-94bf-88a07712b20b",
   "metadata": {
    "tags": []
   },
   "outputs": [
    {
     "data": {
      "text/plain": [
       "True"
      ]
     },
     "execution_count": 78,
     "metadata": {},
     "output_type": "execute_result"
    }
   ],
   "source": [
    "np.array_equal(np.insert(a, 1, [1, 2, 3], axis=1),\n",
    "               np.insert(a, [1], [[1],[2],[3]], axis=1))"
   ]
  },
  {
   "cell_type": "code",
   "execution_count": 79,
   "id": "6d716854-beca-44a1-b675-50a05142aa92",
   "metadata": {},
   "outputs": [
    {
     "data": {
      "text/plain": [
       "array([[1, 4, 1],\n",
       "       [2, 5, 2],\n",
       "       [3, 6, 3]])"
      ]
     },
     "execution_count": 79,
     "metadata": {},
     "output_type": "execute_result"
    }
   ],
   "source": [
    "np.insert(a, 1, [4,5,6], axis=1)"
   ]
  },
  {
   "cell_type": "code",
   "execution_count": 80,
   "id": "55378185-e7be-4b8f-833b-eee16c18d2bc",
   "metadata": {},
   "outputs": [
    {
     "data": {
      "text/plain": [
       "array([1, 1, 5, 2, 6, 2, 3, 3])"
      ]
     },
     "execution_count": 80,
     "metadata": {},
     "output_type": "execute_result"
    }
   ],
   "source": [
    "b = np.array([1, 1, 2, 2, 3, 3])\n",
    "np.insert(b, slice(2, 4), [5, 6])  # slice() methodu ; slice(start, stop, end) \n",
    "                                   # end dahil değildir."
   ]
  },
  {
   "cell_type": "code",
   "execution_count": 55,
   "id": "5b16acb6-4ba4-4670-8976-08f21b671cc1",
   "metadata": {},
   "outputs": [
    {
     "name": "stdout",
     "output_type": "stream",
     "text": [
      "[1 1 2 2 3 3]\n"
     ]
    }
   ],
   "source": [
    "print(b)"
   ]
  },
  {
   "cell_type": "code",
   "execution_count": 56,
   "id": "62776ad6-0c4a-4b06-87bb-90d653a7c188",
   "metadata": {},
   "outputs": [
    {
     "data": {
      "text/plain": [
       "array([1, 1, 5, 6, 2, 2, 3, 3])"
      ]
     },
     "execution_count": 56,
     "metadata": {},
     "output_type": "execute_result"
    }
   ],
   "source": [
    "np.insert(b, [2, 2], [5, 6])"
   ]
  },
  {
   "cell_type": "code",
   "execution_count": 57,
   "id": "f1b16e6c-5c66-4bca-9f03-466f724de1dc",
   "metadata": {},
   "outputs": [
    {
     "data": {
      "text/plain": [
       "array([1, 1, 5, 6, 2, 2, 3, 3])"
      ]
     },
     "execution_count": 57,
     "metadata": {},
     "output_type": "execute_result"
    }
   ],
   "source": [
    "np.insert(b, 2, [5, 6])"
   ]
  },
  {
   "cell_type": "code",
   "execution_count": 61,
   "id": "7ddf7cd5-f43b-418a-bb63-9d7d1c329326",
   "metadata": {},
   "outputs": [
    {
     "name": "stdout",
     "output_type": "stream",
     "text": [
      "[[1 1]\n",
      " [2 2]\n",
      " [3 3]]\n"
     ]
    }
   ],
   "source": [
    "a = np.array([[1, 1], [2, 2], [3, 3]])\n",
    "print(a)"
   ]
  },
  {
   "cell_type": "code",
   "execution_count": 82,
   "id": "572dbfcc-f40b-4ad3-8920-45f5d03b29dc",
   "metadata": {},
   "outputs": [
    {
     "data": {
      "text/plain": [
       "array([1, 5, 6, 1, 2, 2, 3, 3])"
      ]
     },
     "execution_count": 82,
     "metadata": {},
     "output_type": "execute_result"
    }
   ],
   "source": [
    "np.insert(a, 1, [5, 6])  # axis belirtmediğimiz için flattened çalışacaktır."
   ]
  },
  {
   "cell_type": "code",
   "execution_count": 84,
   "id": "338ec5b3-1581-4a30-95e6-67d7d4e6a252",
   "metadata": {},
   "outputs": [
    {
     "data": {
      "text/plain": [
       "array([1, 5, 6, 1, 2, 2, 3, 3])"
      ]
     },
     "execution_count": 84,
     "metadata": {},
     "output_type": "execute_result"
    }
   ],
   "source": [
    "np.insert(a, [1], [5, 6])"
   ]
  },
  {
   "cell_type": "code",
   "execution_count": 85,
   "id": "cbe85c21-fdff-4591-a61c-fc80d13bc3de",
   "metadata": {},
   "outputs": [
    {
     "data": {
      "text/plain": [
       "True"
      ]
     },
     "execution_count": 85,
     "metadata": {},
     "output_type": "execute_result"
    }
   ],
   "source": [
    "np.array_equal(np.insert(a, 1, [5, 6]),\n",
    "               np.insert(a, [1], [5, 6]) )"
   ]
  },
  {
   "cell_type": "code",
   "execution_count": 88,
   "id": "907e2fff-b1cb-447e-a1ce-729e288c5bde",
   "metadata": {},
   "outputs": [
    {
     "data": {
      "text/plain": [
       "array([[1, 1],\n",
       "       [5, 5],\n",
       "       [6, 6],\n",
       "       [2, 2],\n",
       "       [3, 3]])"
      ]
     },
     "execution_count": 88,
     "metadata": {},
     "output_type": "execute_result"
    }
   ],
   "source": [
    "np.insert(a, [1], [[5], [6]], axis=0)"
   ]
  },
  {
   "cell_type": "code",
   "execution_count": 92,
   "id": "51f80359-9669-4a6f-abab-eb037e0a9409",
   "metadata": {},
   "outputs": [
    {
     "data": {
      "text/plain": [
       "array([[1, 1],\n",
       "       [5, 5],\n",
       "       [6, 6],\n",
       "       [2, 2],\n",
       "       [3, 3]])"
      ]
     },
     "execution_count": 92,
     "metadata": {},
     "output_type": "execute_result"
    }
   ],
   "source": [
    "np.insert(a, 1, [[5], [6]], axis=0)"
   ]
  },
  {
   "cell_type": "code",
   "execution_count": 89,
   "id": "4e9cb7ab-e655-4010-93bc-d3b565c979e4",
   "metadata": {},
   "outputs": [
    {
     "data": {
      "text/plain": [
       "array([[1, 1],\n",
       "       [5, 6],\n",
       "       [2, 2],\n",
       "       [3, 3]])"
      ]
     },
     "execution_count": 89,
     "metadata": {},
     "output_type": "execute_result"
    }
   ],
   "source": [
    "np.insert(a, 1, [5, 6], axis=0)"
   ]
  },
  {
   "cell_type": "code",
   "execution_count": 91,
   "id": "2a8a302d-fa42-4e79-b50d-31a48fccc107",
   "metadata": {},
   "outputs": [
    {
     "data": {
      "text/plain": [
       "array([[1, 5, 6, 1],\n",
       "       [2, 5, 6, 2],\n",
       "       [3, 5, 6, 3]])"
      ]
     },
     "execution_count": 91,
     "metadata": {},
     "output_type": "execute_result"
    }
   ],
   "source": [
    "np.insert(a, 1, [[5], [6]], axis=1)"
   ]
  },
  {
   "cell_type": "markdown",
   "id": "657d934e-7ddb-4d94-a788-98a27f972efc",
   "metadata": {},
   "source": [
    "****\n",
    "### delete( ) Methodu ile Array'den Eleman Silme"
   ]
  },
  {
   "cell_type": "markdown",
   "id": "7206b66b-9118-4ce2-bed1-a2b3dfa687ca",
   "metadata": {},
   "source": [
    "__Zorunlu parametreleri ; array ve obj__  \n",
    "__syntax yapısı ; delete( array, obj, axis)__  \n",
    "__obj parametresine silinecek indexler girilir. \n",
    "Yalnız burada girilen indexler çok-boyutlu arraylerde subarray(alt arrayler)'leri alır.__  \n",
    "\n",
    "__axis parametresi opsiyoneldir.__  \n",
    "__Default olarak; flattened(düzleştirilmiş-tek-boyutlu halde) bir array üretilir.__  \n",
    "__Axis default haldeyken eleman silme yapılırken de indexler tek-boyutlu array halinde düşünülür.__  "
   ]
  },
  {
   "cell_type": "code",
   "execution_count": 95,
   "id": "c5c6857a-bbb3-452a-b178-227875c14e3b",
   "metadata": {},
   "outputs": [
    {
     "name": "stdout",
     "output_type": "stream",
     "text": [
      "[[ 1  2  3  4]\n",
      " [ 5  6  7  8]\n",
      " [ 9 10 11 12]]\n"
     ]
    }
   ],
   "source": [
    "arr = np.array([[1,2,3,4], [5,6,7,8], [9,10,11,12]])\n",
    "\n",
    "print(arr)"
   ]
  },
  {
   "cell_type": "code",
   "execution_count": 100,
   "id": "340390f6-e9ba-4194-a5b9-a4c36a056ef6",
   "metadata": {},
   "outputs": [
    {
     "data": {
      "text/plain": [
       "array([ 1,  3,  4,  5,  6,  7,  8,  9, 10, 11, 12])"
      ]
     },
     "execution_count": 100,
     "metadata": {},
     "output_type": "execute_result"
    }
   ],
   "source": [
    "\n",
    "np.delete(arr, 1) \n",
    "\n",
    "# axis değeri default alınacak. Dolayısıyla array, flattened olarak alınır ve öyle işlem yapılır.\n",
    "# obj'ye girilen index değeri 1 olduğu için silinecek eleman \"2\" değeri olur."
   ]
  },
  {
   "cell_type": "code",
   "execution_count": 129,
   "id": "fa4ca6c9-4c47-461f-87ef-dcde31c98c89",
   "metadata": {},
   "outputs": [
    {
     "data": {
      "text/plain": [
       "array([[ 1,  3,  4],\n",
       "       [ 5,  7,  8],\n",
       "       [ 9, 11, 12]])"
      ]
     },
     "execution_count": 129,
     "metadata": {},
     "output_type": "execute_result"
    }
   ],
   "source": [
    "\n",
    "np.delete(arr, 1, axis=1)\n",
    "\n",
    "# axis 1 olduğu için bu eksendeki subarray silinecek. \n",
    "# obj 1 olduğu için bu indexteki subarray siliniyor."
   ]
  },
  {
   "cell_type": "code",
   "execution_count": 104,
   "id": "2e92a654-6304-4d01-afe2-24525b56520f",
   "metadata": {},
   "outputs": [
    {
     "name": "stdout",
     "output_type": "stream",
     "text": [
      "[[ 1  2  3  4]\n",
      " [ 5  6  7  8]\n",
      " [ 9 10 11 12]]\n"
     ]
    }
   ],
   "source": [
    "\n",
    "print(arr)"
   ]
  },
  {
   "cell_type": "code",
   "execution_count": 105,
   "id": "1b9b7a74-14bd-4676-9e52-b7ff5d5c8144",
   "metadata": {},
   "outputs": [
    {
     "data": {
      "text/plain": [
       "array([ 1,  3,  5,  7,  8,  9, 10, 11, 12])"
      ]
     },
     "execution_count": 105,
     "metadata": {},
     "output_type": "execute_result"
    }
   ],
   "source": [
    "\n",
    "np.delete(arr, [1, 3, 5])"
   ]
  },
  {
   "cell_type": "code",
   "execution_count": 106,
   "id": "8384f3be-cc8c-440b-9f86-3fec7a104a8d",
   "metadata": {},
   "outputs": [
    {
     "data": {
      "text/plain": [
       "array([ 1,  3,  4,  5,  6,  7,  8,  9, 10, 11, 12])"
      ]
     },
     "execution_count": 106,
     "metadata": {},
     "output_type": "execute_result"
    }
   ],
   "source": [
    "np.delete(arr, [1, 1])"
   ]
  },
  {
   "cell_type": "code",
   "execution_count": 109,
   "id": "095f4c2c-e6f8-4f39-9f7b-0d55a2d6e52e",
   "metadata": {},
   "outputs": [
    {
     "name": "stdout",
     "output_type": "stream",
     "text": [
      "[[ 1  2  3  4]\n",
      " [ 5  6  7  8]\n",
      " [ 9 10 11 12]]\n"
     ]
    }
   ],
   "source": [
    "\n",
    "print(arr)"
   ]
  },
  {
   "cell_type": "code",
   "execution_count": 135,
   "id": "0d6373ef-98e9-4350-8d2a-9415087c7c17",
   "metadata": {},
   "outputs": [
    {
     "data": {
      "text/plain": [
       "array([[ 1,  3,  4],\n",
       "       [ 5,  7,  8],\n",
       "       [ 9, 11, 12]])"
      ]
     },
     "execution_count": 135,
     "metadata": {},
     "output_type": "execute_result"
    }
   ],
   "source": [
    "\n",
    "np.delete(arr, 1, axis=1)\n",
    "#axis-1 de 1 nolu indexteki subarray [2,6,10] olur ve bu subarray silinir."
   ]
  },
  {
   "cell_type": "code",
   "execution_count": 125,
   "id": "a2dd6010-165a-4894-a92c-17f15c98579e",
   "metadata": {},
   "outputs": [
    {
     "data": {
      "text/plain": [
       "array([[ 1,  3,  4],\n",
       "       [ 5,  7,  8],\n",
       "       [ 9, 11, 12]])"
      ]
     },
     "execution_count": 125,
     "metadata": {},
     "output_type": "execute_result"
    }
   ],
   "source": [
    "np.delete(arr, [1], axis=1)"
   ]
  },
  {
   "cell_type": "code",
   "execution_count": 122,
   "id": "14c5471b-2b70-448f-96ad-2750fd27bf8b",
   "metadata": {},
   "outputs": [
    {
     "data": {
      "text/plain": [
       "array([[ 1,  3,  4],\n",
       "       [ 5,  7,  8],\n",
       "       [ 9, 11, 12]])"
      ]
     },
     "execution_count": 122,
     "metadata": {},
     "output_type": "execute_result"
    }
   ],
   "source": [
    "\n",
    "np.delete(arr, [1,1], axis=1)\n",
    "\n",
    "#axis-1 de [1,1] indexindeki subarray [2,6,10] olur ve bu subarray silinir."
   ]
  },
  {
   "cell_type": "code",
   "execution_count": 123,
   "id": "359733f7-b908-4629-8315-9b2f339875d8",
   "metadata": {},
   "outputs": [
    {
     "data": {
      "text/plain": [
       "True"
      ]
     },
     "execution_count": 123,
     "metadata": {},
     "output_type": "execute_result"
    }
   ],
   "source": [
    "np.array_equal(np.delete(arr, [1,1], axis=1),\n",
    "               np.delete(arr, [1], axis=1) )"
   ]
  },
  {
   "cell_type": "code",
   "execution_count": 126,
   "id": "ffd13ef6-c94a-43e9-a113-480ce8f611d3",
   "metadata": {},
   "outputs": [
    {
     "name": "stdout",
     "output_type": "stream",
     "text": [
      "[[ 1  2  3  4]\n",
      " [ 5  6  7  8]\n",
      " [ 9 10 11 12]]\n"
     ]
    }
   ],
   "source": [
    "\n",
    "print(arr)"
   ]
  },
  {
   "cell_type": "code",
   "execution_count": 131,
   "id": "c3642b2c-10f5-448e-b076-fa5bf1c5e005",
   "metadata": {},
   "outputs": [
    {
     "data": {
      "text/plain": [
       "array([[ 3,  4],\n",
       "       [ 7,  8],\n",
       "       [11, 12]])"
      ]
     },
     "execution_count": 131,
     "metadata": {},
     "output_type": "execute_result"
    }
   ],
   "source": [
    "np.delete(arr, [0, 1], axis=1)\n",
    "\n",
    "# axis-1'de 0 nolu indexteki subarray ; [1, 5, 9]\n",
    "# axis-1'de 1 nolu indexteki subarray ; [2, 6, 10]"
   ]
  },
  {
   "cell_type": "code",
   "execution_count": 132,
   "id": "33457125-3711-4081-b9cb-57406a53262b",
   "metadata": {
    "tags": []
   },
   "outputs": [
    {
     "data": {
      "text/plain": [
       "array([[ 2,  4],\n",
       "       [ 6,  8],\n",
       "       [10, 12]])"
      ]
     },
     "execution_count": 132,
     "metadata": {},
     "output_type": "execute_result"
    }
   ],
   "source": [
    "\n",
    "np.delete(arr, [0, 2], axis=1)"
   ]
  },
  {
   "cell_type": "code",
   "execution_count": 137,
   "id": "261bfbea-b72a-444a-b4df-4e009df57121",
   "metadata": {},
   "outputs": [
    {
     "name": "stdout",
     "output_type": "stream",
     "text": [
      "[[ 1  2  3  4]\n",
      " [ 5  6  7  8]\n",
      " [ 9 10 11 12]]\n"
     ]
    }
   ],
   "source": [
    "\n",
    "print(arr)"
   ]
  },
  {
   "cell_type": "code",
   "execution_count": 136,
   "id": "f137e1b3-258a-415f-a6c2-92fe1ea68da3",
   "metadata": {},
   "outputs": [
    {
     "data": {
      "text/plain": [
       "array([[ 1,  2,  3,  4],\n",
       "       [ 9, 10, 11, 12]])"
      ]
     },
     "execution_count": 136,
     "metadata": {},
     "output_type": "execute_result"
    }
   ],
   "source": [
    "\n",
    "np.delete(arr, 1, axis=0)  \n",
    "\n",
    "# axis değeri 0 olduğu için obj'ye girilen index değerindeki subarray alınır.\n",
    "# obj değeri 1 ; ve 1 nolu indexte subarray olarak [5,6,7,8] bulunuyor.\n",
    "# [5,6,7,8] subarray'i silinecektir."
   ]
  },
  {
   "cell_type": "code",
   "execution_count": 142,
   "id": "e9445892-1455-4167-9443-1acc9e4f9cf4",
   "metadata": {},
   "outputs": [
    {
     "name": "stdout",
     "output_type": "stream",
     "text": [
      "[[ 1  2  3  4]\n",
      " [ 5  6  7  8]\n",
      " [ 9 10 11 12]]\n"
     ]
    }
   ],
   "source": [
    "arr = np.array([[1,2,3,4], [5,6,7,8], [9,10,11,12]])\n",
    "\n",
    "print(arr)\n"
   ]
  },
  {
   "cell_type": "code",
   "execution_count": 143,
   "id": "5aa52d01-bc8a-4434-a2d1-6b38cb7db9bd",
   "metadata": {},
   "outputs": [
    {
     "data": {
      "text/plain": [
       "array([[ 9, 10, 11, 12]])"
      ]
     },
     "execution_count": 143,
     "metadata": {},
     "output_type": "execute_result"
    }
   ],
   "source": [
    "np.delete(arr, [0, 1], axis=0)"
   ]
  },
  {
   "cell_type": "code",
   "execution_count": null,
   "id": "7406b5fe-8b96-4935-aded-b0f053d7613b",
   "metadata": {},
   "outputs": [],
   "source": []
  },
  {
   "cell_type": "markdown",
   "id": "7edb01de-8cb4-4e6f-8233-72da70c36419",
   "metadata": {
    "tags": []
   },
   "source": [
    "# Slicing Arrays | Arraylar'i Parçalara Ayırma İşlemi"
   ]
  },
  {
   "cell_type": "markdown",
   "id": "441ba2fc-23f2-4308-9fde-d16272e5f2b8",
   "metadata": {},
   "source": [
    "**>> Slicing arrays ;\n",
    "Verilen bir index numarasından bir diğerine kadar array elemanlarını alma işlemidir.**"
   ]
  },
  {
   "cell_type": "markdown",
   "id": "33ba2237-7728-4a84-b37f-e3083963f394",
   "metadata": {},
   "source": [
    "**Syntax ;**    \n",
    "****\n",
    "**array[start:stop]**\n",
    "****    \n",
    "    ya da \n",
    "****    \n",
    "**array[start:stop:step]**\n",
    "****   \n",
    "    şeklindedir."
   ]
  },
  {
   "cell_type": "markdown",
   "id": "54288dd5-83c9-4bcd-a950-13938ee80618",
   "metadata": {},
   "source": [
    "**Start değeri için default(varsayılan) değer : 0** \n",
    "\n",
    "**Stop değeri için default(varsayılan) değer : arrayin maximum index değeridir(son elemanın indexi)**\n",
    "\n",
    "**Step değeri için default(varsayılan) değer : 1**"
   ]
  },
  {
   "cell_type": "markdown",
   "id": "f698ef39-c575-47fc-a0e8-e458a7ea078b",
   "metadata": {},
   "source": [
    "**Örnek :**"
   ]
  },
  {
   "cell_type": "code",
   "execution_count": null,
   "id": "19858778-2086-4e6e-b4b3-6b082637d2eb",
   "metadata": {},
   "outputs": [
    {
     "data": {
      "text/plain": [
       "array([1, 2, 3, 4, 5, 6, 7])"
      ]
     },
     "execution_count": 24,
     "metadata": {},
     "output_type": "execute_result"
    }
   ],
   "source": [
    "arr = np.array([1, 2, 3, 4, 5, 6, 7])\n",
    "\n",
    "arr[0:8]   # İlk indeksten başlar 8. index'e kadar alır ; 8. index dahil değildir...!"
   ]
  },
  {
   "cell_type": "markdown",
   "id": "576b4327-3918-4f65-affa-ea87b0a185b0",
   "metadata": {},
   "source": [
    "**|--> 8. index'e kadar aldığı için en son 7. indexi almış oldu böylece bütün array'i aldı.\n",
    "  Step değeri belirtmediğimiz için default step değerini aldı, yani 1'er 1'er artırdı.**"
   ]
  },
  {
   "cell_type": "code",
   "execution_count": 25,
   "id": "e6bff4e2-a59d-4494-9c91-c86b61715053",
   "metadata": {},
   "outputs": [
    {
     "data": {
      "text/plain": [
       "array([1, 2, 3, 4, 5, 6, 7])"
      ]
     },
     "execution_count": 25,
     "metadata": {},
     "output_type": "execute_result"
    }
   ],
   "source": [
    "arr[0:8:1]"
   ]
  },
  {
   "cell_type": "code",
   "execution_count": 194,
   "id": "acc52394-26cc-46db-8924-1668360626c9",
   "metadata": {},
   "outputs": [
    {
     "data": {
      "text/plain": [
       "array([1, 2, 3, 4, 5, 6, 7])"
      ]
     },
     "execution_count": 194,
     "metadata": {},
     "output_type": "execute_result"
    }
   ],
   "source": [
    "arr[:]"
   ]
  },
  {
   "cell_type": "markdown",
   "id": "49a8e677-3fdc-4ac2-aac2-3b580776579c",
   "metadata": {},
   "source": [
    "**|--> Step değerini belirterek bu şekilde de aynı sonucu elde edebiliriz...**"
   ]
  },
  {
   "cell_type": "code",
   "execution_count": 41,
   "id": "8493afd7-5b92-433f-9937-61df3c14eb22",
   "metadata": {},
   "outputs": [
    {
     "data": {
      "text/plain": [
       "array([3, 4, 5, 6, 7])"
      ]
     },
     "execution_count": 41,
     "metadata": {},
     "output_type": "execute_result"
    }
   ],
   "source": [
    "arr = np.array([1, 2, 3, 4, 5, 6, 7])\n",
    "arr[2:]"
   ]
  },
  {
   "cell_type": "markdown",
   "id": "936d1f60-c2f7-4373-bb58-5eebca8132aa",
   "metadata": {},
   "source": [
    "**|--> Start değerini belirttik, 2 numaralı indexten başladı. \n",
    "       Stop değerini vermediğimiz için array'in son elemanına kadar aldı,\n",
    "       Step değerini vermediğimiz için default olarak 1'er 1'er artırdı...**"
   ]
  },
  {
   "cell_type": "code",
   "execution_count": 47,
   "id": "0716ae2f-607f-47cc-bb1f-f7f0b30711ce",
   "metadata": {},
   "outputs": [
    {
     "data": {
      "text/plain": [
       "array([1, 2, 3, 4, 5, 6, 7])"
      ]
     },
     "execution_count": 47,
     "metadata": {},
     "output_type": "execute_result"
    }
   ],
   "source": [
    "arr[:8]"
   ]
  },
  {
   "cell_type": "markdown",
   "id": "27933e3b-629d-4562-8bfe-362df953fa4c",
   "metadata": {},
   "source": [
    "**|--> Start değerini vermedik, 0 numaralı indexten başladı. \n",
    "       Stop değerini verdik, 8'e kadar aldı, 8 dahil değil..!\n",
    "       Step değerini vermediğimiz için default olarak 1'er 1'er artırdı...**"
   ]
  },
  {
   "cell_type": "code",
   "execution_count": 49,
   "id": "97fa03ab-17cf-4495-8dde-ed4492cbc55b",
   "metadata": {},
   "outputs": [
    {
     "data": {
      "text/plain": [
       "array([1, 2, 3, 4, 5, 6, 7])"
      ]
     },
     "execution_count": 49,
     "metadata": {},
     "output_type": "execute_result"
    }
   ],
   "source": [
    "arr[:]"
   ]
  },
  {
   "cell_type": "code",
   "execution_count": 50,
   "id": "b55409c0-3b17-474a-9f08-341ac7ab277e",
   "metadata": {},
   "outputs": [
    {
     "data": {
      "text/plain": [
       "array([1, 2, 3, 4, 5, 6, 7])"
      ]
     },
     "execution_count": 50,
     "metadata": {},
     "output_type": "execute_result"
    }
   ],
   "source": [
    "arr[::]"
   ]
  },
  {
   "cell_type": "markdown",
   "id": "5368016c-5f65-4acb-aff3-9faaa30b8dab",
   "metadata": {},
   "source": [
    "**arr[:] kullanımı array[start:stop] syntax'ına,\n",
    "  arr[::] kullanımı array[start:stop:step] syntax'ına uygun oldukları için\n",
    "  hiçbir değer girilmediği durumlarda default değerleri alarak bütün array'i verdi...!**"
   ]
  },
  {
   "cell_type": "code",
   "execution_count": 51,
   "id": "6276cfd1-6a96-46e4-af2e-2a33871df5b6",
   "metadata": {},
   "outputs": [
    {
     "name": "stdout",
     "output_type": "stream",
     "text": [
      "[2 3 4 5]\n"
     ]
    }
   ],
   "source": [
    "arr = np.array([1, 2, 3, 4, 5, 6, 7])\n",
    "print(arr[1:5])"
   ]
  },
  {
   "cell_type": "code",
   "execution_count": 9,
   "id": "1df70321-cc16-49c1-ad5b-7ebcab4f72ba",
   "metadata": {},
   "outputs": [
    {
     "data": {
      "text/plain": [
       "array([5, 6, 7])"
      ]
     },
     "execution_count": 9,
     "metadata": {},
     "output_type": "execute_result"
    }
   ],
   "source": [
    "arr[4:]            #arr[1, 2, 3, 4, 5, 6, 7]"
   ]
  },
  {
   "cell_type": "code",
   "execution_count": 10,
   "id": "e089dc0f-005f-4a42-a221-31871cf9eca1",
   "metadata": {},
   "outputs": [
    {
     "data": {
      "text/plain": [
       "array([1, 2, 3, 4])"
      ]
     },
     "execution_count": 10,
     "metadata": {},
     "output_type": "execute_result"
    }
   ],
   "source": [
    "arr[:4]            #arr[1, 2, 3, 4, 5, 6, 7]"
   ]
  },
  {
   "cell_type": "code",
   "execution_count": 11,
   "id": "0cf64da6-ce40-4ef4-ab23-36a0f98313fd",
   "metadata": {},
   "outputs": [
    {
     "data": {
      "text/plain": [
       "array([2, 3])"
      ]
     },
     "execution_count": 11,
     "metadata": {},
     "output_type": "execute_result"
    }
   ],
   "source": [
    "arr[1:3]           #arr[1, 2, 3, 4, 5, 6, 7]"
   ]
  },
  {
   "cell_type": "code",
   "execution_count": 16,
   "id": "938072db-e8df-4ca0-88a7-8449306b80b2",
   "metadata": {},
   "outputs": [
    {
     "data": {
      "text/plain": [
       "array([2, 3, 4, 5, 6])"
      ]
     },
     "execution_count": 16,
     "metadata": {},
     "output_type": "execute_result"
    }
   ],
   "source": [
    "arr[1:-1]          # arr[1, 2, 3, 4, 5, 6, 7]\n",
    "                # 1.indexten başladı, -1. indexe kadar aldı -1.index dahil değil\n",
    "                # yani son eleman olan \"7\" yi almadı."
   ]
  },
  {
   "cell_type": "code",
   "execution_count": 18,
   "id": "288e3df1-4ed6-476c-b12e-f1be1267d681",
   "metadata": {},
   "outputs": [
    {
     "data": {
      "text/plain": [
       "array([2, 3, 4])"
      ]
     },
     "execution_count": 18,
     "metadata": {},
     "output_type": "execute_result"
    }
   ],
   "source": [
    "arr[1:-3]           # arr[1, 2, 3, 4, 5, 6, 7]"
   ]
  },
  {
   "cell_type": "code",
   "execution_count": 13,
   "id": "01abdb5a-2629-4cde-92b3-21dfdc1d215a",
   "metadata": {},
   "outputs": [
    {
     "data": {
      "text/plain": [
       "array([1, 3, 5, 7])"
      ]
     },
     "execution_count": 13,
     "metadata": {},
     "output_type": "execute_result"
    }
   ],
   "source": [
    "arr[::2]           #arr[1, 2, 3, 4, 5, 6, 7]"
   ]
  },
  {
   "cell_type": "code",
   "execution_count": 14,
   "id": "74f7cb6e-f6d6-4c1a-9f45-7ead338ece67",
   "metadata": {},
   "outputs": [
    {
     "data": {
      "text/plain": [
       "array([7])"
      ]
     },
     "execution_count": 14,
     "metadata": {},
     "output_type": "execute_result"
    }
   ],
   "source": [
    "arr[-1:]           #arr[1, 2, 3, 4, 5, 6, 7]"
   ]
  },
  {
   "cell_type": "code",
   "execution_count": 15,
   "id": "6ec5007f-6660-41e2-85af-241d77d9e1ca",
   "metadata": {},
   "outputs": [
    {
     "data": {
      "text/plain": [
       "array([7, 6, 5, 4, 3, 2, 1])"
      ]
     },
     "execution_count": 15,
     "metadata": {},
     "output_type": "execute_result"
    }
   ],
   "source": [
    "arr[-1::-1]              #arr[1, 2, 3, 4, 5, 6, 7]"
   ]
  },
  {
   "cell_type": "markdown",
   "id": "8aef277c-f140-4669-b4b4-21f331222a61",
   "metadata": {},
   "source": [
    "****\n",
    "**|-->Array'i parçalayıp bir başka variable'a atamasını yapabilir,\n",
    "ve farklı bir array olarak kullanabiliriz; veya atama yapmadan doğrudan bir \n",
    "kontrol ifadesi içinde ya da başka bir yerde kullanabiliriz.**"
   ]
  },
  {
   "cell_type": "markdown",
   "id": "1a6510a6-ba0d-4b56-b31d-42741a3eda4b",
   "metadata": {},
   "source": [
    "**Örnekler :**"
   ]
  },
  {
   "cell_type": "code",
   "execution_count": 57,
   "id": "f2fa8f25-484a-47e7-9c36-52a5b7d228b5",
   "metadata": {},
   "outputs": [
    {
     "name": "stdout",
     "output_type": "stream",
     "text": [
      "[2 3]\n"
     ]
    }
   ],
   "source": [
    "arr = np.array([1,2,3,4,5,6,7])\n",
    "\n",
    "new_arr = arr[1:3]\n",
    "\n",
    "print(new_arr)"
   ]
  },
  {
   "cell_type": "code",
   "execution_count": 61,
   "id": "81ae5d65-06f3-426c-bae9-0c8d3c5c27f9",
   "metadata": {},
   "outputs": [
    {
     "name": "stdout",
     "output_type": "stream",
     "text": [
      "elseif bloğuna girdik.\n"
     ]
    }
   ],
   "source": [
    "x = 6\n",
    "\n",
    "if x in arr[1:4] :\n",
    "    print(\"if bloğuna girdik.\")\n",
    "    \n",
    "elif x in arr[3:8]:\n",
    "    print(\"elseif bloğuna girdik.\")"
   ]
  },
  {
   "cell_type": "markdown",
   "id": "c8d39632-39cb-4814-ae6d-a064979c1a1c",
   "metadata": {},
   "source": [
    "***"
   ]
  },
  {
   "cell_type": "markdown",
   "id": "1cdcbeaa-e057-47c9-8d74-cfd366a0bbf0",
   "metadata": {},
   "source": [
    "## 2-D Arrayleri Parçalara Ayırma | Slicing 2-D Arrays"
   ]
  },
  {
   "cell_type": "markdown",
   "id": "a8a72d51-8549-46e3-9445-006a6231befe",
   "metadata": {},
   "source": [
    "**Eğer birden fazla boyuta sahip (2-D veya 3-D) arraylerde eleman erişimini**"
   ]
  },
  {
   "cell_type": "markdown",
   "id": "167aaf62-cb08-4d3a-9238-1ce6e4e2af61",
   "metadata": {},
   "source": [
    "**doğru anladıysanız bu arraylerde parçalara ayırma işlemini de kolayca yapabilirsiniz.**"
   ]
  },
  {
   "cell_type": "markdown",
   "id": "6163ee4a-b3ca-49e0-9766-58764118b179",
   "metadata": {},
   "source": [
    "****"
   ]
  },
  {
   "cell_type": "code",
   "execution_count": 47,
   "id": "8432cdf8-8330-4302-b326-a9504f19a1bc",
   "metadata": {},
   "outputs": [
    {
     "name": "stdout",
     "output_type": "stream",
     "text": [
      "[7 8 9]\n"
     ]
    }
   ],
   "source": [
    "import numpy as np\n",
    "\n",
    "arr = np.array([[1, 2, 3, 4, 5], [6, 7, 8, 9, 10]])\n",
    "\n",
    "print(arr[1, 1:4])"
   ]
  },
  {
   "cell_type": "markdown",
   "id": "aafba13b-745a-44a8-bf08-9d78ef759e1d",
   "metadata": {},
   "source": [
    "**Açıklama :**"
   ]
  },
  {
   "cell_type": "markdown",
   "id": "b00d961e-4e76-40d0-89d9-69cdbf5d8215",
   "metadata": {
    "tags": []
   },
   "source": [
    "**arr[a,b] de girilen ilk değer yani a değeri 1 olduğu için**"
   ]
  },
  {
   "cell_type": "markdown",
   "id": "07e28ea6-6eab-4ec2-bfa8-435ce5119d4f",
   "metadata": {},
   "source": [
    "**arrayin 1 index numaralı elemanına yani [6, 7, 8, 9, 10] arrayine gitti.**"
   ]
  },
  {
   "cell_type": "markdown",
   "id": "eb27b394-6bf4-4789-a870-b634911926ad",
   "metadata": {},
   "source": [
    "**arr[a,b] de b değeri 1:4 olduğu için a ile gidilen [6, 7, 8, 9, 10] arrayinde;**"
   ]
  },
  {
   "cell_type": "markdown",
   "id": "971bc64a-0e68-4e46-8ad5-870133012665",
   "metadata": {},
   "source": [
    "**1 num. index ten 4 numaralı index'e kadar (4 dahil değil) elemanları seçmiş olur.**"
   ]
  },
  {
   "cell_type": "markdown",
   "id": "2c6f0dc4-0cc1-42a3-a193-cfaf74f6932c",
   "metadata": {},
   "source": [
    "**Sonuç [7, 8, 9] olur.**"
   ]
  },
  {
   "cell_type": "markdown",
   "id": "2e181c9d-90d5-4913-a420-5db42218d357",
   "metadata": {},
   "source": [
    "****"
   ]
  },
  {
   "cell_type": "code",
   "execution_count": 49,
   "id": "1fc36d0c-f6fe-4dc5-9c57-a7e35c286317",
   "metadata": {},
   "outputs": [
    {
     "name": "stdout",
     "output_type": "stream",
     "text": [
      "[3 8]\n"
     ]
    }
   ],
   "source": [
    "import numpy as np\n",
    "\n",
    "arr = np.array([[1, 2, 3, 4, 5], [6, 7, 8, 9, 10]])\n",
    "\n",
    "print(arr[0:2, 2])"
   ]
  },
  {
   "cell_type": "markdown",
   "id": "e3bee571-1f5e-4e7d-8eca-c7733086f616",
   "metadata": {},
   "source": [
    "****"
   ]
  },
  {
   "cell_type": "markdown",
   "id": "93f797a7-f444-4230-a994-8982fe2957e5",
   "metadata": {},
   "source": [
    "<b>Açıklama :  \n",
    "\n",
    "<b>arr[0:2, 2] ifadesinde ilk index değeri 0:2 olduğu için ;  \n",
    "\n",
    "<b>0 ve 1 nolu elementleri seçtik yani ;  \n",
    "\n",
    "<b>[1, 2, 3, 4, 5] ve [6, 7, 8, 9, 10] arraylerini seçtik.  \n",
    "\n",
    "<b>arr[0:2, 2] ifadesinde ikinci index değeri 2 olduğu için ;  \n",
    "\n",
    "<b>İlk index değeriyle(0:2) seçtiğimiz [1, 2, 3, 4, 5] ve [6, 7, 8, 9, 10] arraylerinde ;\n",
    "\n",
    "<b>2 index numarasında olan elemanları seçer. Dolayısıyla ;  \n",
    "\n",
    "<b>[1, 2, 3, 4, 5] arrayinde 2 numaralı indexte 3 değeri var.  \n",
    "\n",
    "<b>[6, 7, 8, 9, 10] arrayinde 2 numaralı indexte 8 değeri var.  \n",
    "\n",
    "<b>Sonuç [3,8] olur."
   ]
  },
  {
   "cell_type": "markdown",
   "id": "a49ddae4-af74-4e33-a988-e4f811281c51",
   "metadata": {},
   "source": [
    "****"
   ]
  },
  {
   "cell_type": "code",
   "execution_count": 50,
   "id": "48da624f-9e70-44ea-af3c-742dffa607de",
   "metadata": {},
   "outputs": [
    {
     "name": "stdout",
     "output_type": "stream",
     "text": [
      "[[2 3 4]\n",
      " [7 8 9]]\n"
     ]
    }
   ],
   "source": [
    "import numpy as np\n",
    "\n",
    "arr = np.array([[1, 2, 3, 4, 5], [6, 7, 8, 9, 10]])\n",
    "\n",
    "print(arr[0:2, 1:4])"
   ]
  },
  {
   "cell_type": "markdown",
   "id": "b3e2503f-848e-4506-931e-e96e0ce278dc",
   "metadata": {},
   "source": [
    "****"
   ]
  },
  {
   "cell_type": "markdown",
   "id": "2d988db2-3bc1-4888-8879-2da80d14e7d0",
   "metadata": {},
   "source": [
    "# NumPy Data Tipleri ve Array Tipleri | Data Types - Array Types"
   ]
  },
  {
   "cell_type": "markdown",
   "id": "b9d9d7c9-1b01-4732-96cd-e851a46499fe",
   "metadata": {},
   "source": [
    "**NumPy'de bazı Data Tipleri ve gösterim sembolleri :**"
   ]
  },
  {
   "cell_type": "markdown",
   "id": "04866db0-3a58-438d-beb8-40bb12075035",
   "metadata": {
    "tags": []
   },
   "source": [
    "__i - integer  \n",
    "b - boolean  \n",
    "f - float  \n",
    "S - string__"
   ]
  },
  {
   "cell_type": "markdown",
   "id": "8f4e2f68-51a1-4683-904f-4c23f384e416",
   "metadata": {},
   "source": [
    "## Bir Arrayin Tipini Kontrol Etme | Checking the Data Type of an Array"
   ]
  },
  {
   "cell_type": "markdown",
   "id": "33b1720f-ecc0-455d-9cc2-5fc0eae93aa1",
   "metadata": {},
   "source": [
    "__NumPy nin \"dtype\" attribute'ü bir arrayin tipini tutar.  \n",
    "Hem bir arrayin tipini görmek için hem de tip belirlemede kullanılabilir.__"
   ]
  },
  {
   "cell_type": "code",
   "execution_count": 54,
   "id": "3bdfa23c-58af-404c-997e-ee187a027780",
   "metadata": {},
   "outputs": [
    {
     "name": "stdout",
     "output_type": "stream",
     "text": [
      "int32\n"
     ]
    }
   ],
   "source": [
    "import numpy as np\n",
    "\n",
    "arr = np.array([1, 2, 3, 4, 5])\n",
    "\n",
    "print(arr.dtype)"
   ]
  },
  {
   "cell_type": "code",
   "execution_count": 53,
   "id": "729ac1d2-3d1a-4b9a-948b-ac9f18ec3ca4",
   "metadata": {},
   "outputs": [
    {
     "name": "stdout",
     "output_type": "stream",
     "text": [
      "float64\n"
     ]
    }
   ],
   "source": [
    "f_array = np.array([0, .5, 1, 1.5, 2])\n",
    "\n",
    "print(f_array.dtype)"
   ]
  },
  {
   "cell_type": "code",
   "execution_count": 55,
   "id": "3ed5108f-9c0a-481a-bb82-236948c78f4b",
   "metadata": {},
   "outputs": [
    {
     "name": "stdout",
     "output_type": "stream",
     "text": [
      "<U6\n"
     ]
    }
   ],
   "source": [
    "s_arr = np.array(['apple', 'banana', 'cherry'])\n",
    "\n",
    "print(s_arr.dtype)"
   ]
  },
  {
   "cell_type": "code",
   "execution_count": 57,
   "id": "19439069-6b40-495b-a8db-a660a12384d6",
   "metadata": {},
   "outputs": [
    {
     "name": "stdout",
     "output_type": "stream",
     "text": [
      "[b'1' b'2' b'3' b'4']\n",
      "|S1\n"
     ]
    }
   ],
   "source": [
    "\n",
    "new_arr = np.array([1, 2, 3, 4], dtype='S')\n",
    "\n",
    "print(new_arr)  \n",
    "print(new_arr.dtype)"
   ]
  },
  {
   "cell_type": "code",
   "execution_count": 64,
   "id": "dcd66098-fd79-46e2-9cb7-4e7db76c7efe",
   "metadata": {},
   "outputs": [
    {
     "name": "stdout",
     "output_type": "stream",
     "text": [
      "[1 2 3 4]\n",
      "int32\n"
     ]
    }
   ],
   "source": [
    "import numpy as np\n",
    "\n",
    "arr = np.array([1, 2, 3, 4], dtype='i')\n",
    "\n",
    "print(arr)\n",
    "print(arr.dtype)"
   ]
  },
  {
   "cell_type": "code",
   "execution_count": 63,
   "id": "516a2d97-00df-4350-a6a6-fa2e73a3f3c1",
   "metadata": {},
   "outputs": [
    {
     "name": "stdout",
     "output_type": "stream",
     "text": [
      "[1 2 3 4]\n",
      "int32\n"
     ]
    }
   ],
   "source": [
    "import numpy as np\n",
    "\n",
    "arr = np.array([1, 2, 3, 4], dtype='i4')\n",
    "\n",
    "print(arr)\n",
    "print(arr.dtype)"
   ]
  },
  {
   "cell_type": "code",
   "execution_count": 60,
   "id": "792f4119-6516-4e19-b00a-25b91ceb7e52",
   "metadata": {},
   "outputs": [
    {
     "name": "stdout",
     "output_type": "stream",
     "text": [
      "[1 2 3 4]\n",
      "int64\n"
     ]
    }
   ],
   "source": [
    "import numpy as np\n",
    "\n",
    "arr = np.array([1, 2, 3, 4], dtype='i8')\n",
    "\n",
    "print(arr)\n",
    "print(arr.dtype)"
   ]
  },
  {
   "cell_type": "code",
   "execution_count": 176,
   "id": "b31f61c3-4fd0-4bee-b522-516a809407b6",
   "metadata": {},
   "outputs": [
    {
     "name": "stdout",
     "output_type": "stream",
     "text": [
      "[1 2 3 4]\n",
      "int32\n"
     ]
    }
   ],
   "source": [
    "import sys\n",
    "import numpy as np\n",
    "\n",
    "arr = np.array([1, 2, 3, 4], dtype='int32')\n",
    "\n",
    "print(arr)\n",
    "print(arr.dtype)"
   ]
  },
  {
   "cell_type": "code",
   "execution_count": 61,
   "id": "0e74bf70-eb9b-4331-ada1-af3dab95b13a",
   "metadata": {},
   "outputs": [
    {
     "name": "stdout",
     "output_type": "stream",
     "text": [
      "[1. 2. 3.]\n",
      "float32\n"
     ]
    }
   ],
   "source": [
    "\n",
    "f_arr = np.array([1, 2, 3], dtype='f')\n",
    "\n",
    "print(f_arr)  \n",
    "print(f_arr.dtype)"
   ]
  },
  {
   "cell_type": "markdown",
   "id": "c016d6a3-5303-4f51-bcc3-997d6d8218b9",
   "metadata": {},
   "source": [
    "## Array'in Data Tipini Değiştirmek"
   ]
  },
  {
   "cell_type": "markdown",
   "id": "337d822b-2337-404f-936d-23577e0497ca",
   "metadata": {},
   "source": [
    "__Bir array'in data tipini değiştirmek için astype() methodu kullanılır.  \n",
    "astype() methodu parametre olarak belirlenen string bir data tipi ifadesi alır.  \n",
    "Örneğin; integer için 'i', float için 'f' gibi.__  \n"
   ]
  },
  {
   "cell_type": "markdown",
   "id": "334c142f-7a5d-4ffa-b83a-958bbb930ce5",
   "metadata": {},
   "source": [
    "__Örnekler :__"
   ]
  },
  {
   "cell_type": "code",
   "execution_count": 69,
   "id": "89f08675-d316-452c-ab48-0a5986a48b9e",
   "metadata": {},
   "outputs": [
    {
     "name": "stdout",
     "output_type": "stream",
     "text": [
      "float32\n",
      "[1. 2. 3. 4. 5.]\n"
     ]
    }
   ],
   "source": [
    "arr = np.array([1, 2, 3, 4, 5])\n",
    "\n",
    "arr = arr.astype('f')\n",
    "\n",
    "print(arr.dtype)\n",
    "print(arr)"
   ]
  },
  {
   "cell_type": "code",
   "execution_count": 70,
   "id": "6fcab14d-dd87-4c98-ae01-e2368bf7b9e7",
   "metadata": {},
   "outputs": [
    {
     "name": "stdout",
     "output_type": "stream",
     "text": [
      "float64\n",
      "[1. 2. 3. 4. 5.]\n"
     ]
    }
   ],
   "source": [
    "arr = arr.astype('float64')\n",
    "\n",
    "print(arr.dtype)\n",
    "print(arr)"
   ]
  },
  {
   "cell_type": "code",
   "execution_count": 74,
   "id": "ca61fc3b-bd85-4afc-a9da-fa71fd8abebc",
   "metadata": {},
   "outputs": [
    {
     "name": "stdout",
     "output_type": "stream",
     "text": [
      "[1 2 3]\n",
      "int32\n"
     ]
    }
   ],
   "source": [
    "\n",
    "arr = np.array([1.1, 2.7, 3.5])\n",
    "\n",
    "newarr = arr.astype('i')  # Mevcut bir Arrayin tipini değiştirip başka bir variable'a  \n",
    "                          # atamasını yaparak yeni bir array de oluşturabiliriz...\n",
    "print(newarr)\n",
    "print(newarr.dtype)"
   ]
  },
  {
   "cell_type": "code",
   "execution_count": 75,
   "id": "c809bc68-ab2e-40fa-8f96-2c7a60b5068c",
   "metadata": {},
   "outputs": [
    {
     "name": "stdout",
     "output_type": "stream",
     "text": [
      "[ True False  True]\n",
      "bool\n"
     ]
    }
   ],
   "source": [
    "arr = np.array([1, 0, 3])\n",
    "\n",
    "newarr = arr.astype(bool)\n",
    "\n",
    "print(newarr)\n",
    "print(newarr.dtype)"
   ]
  },
  {
   "cell_type": "code",
   "execution_count": 179,
   "id": "ff2d1ec5-cbde-4978-8900-6f14e8893782",
   "metadata": {
    "tags": []
   },
   "outputs": [],
   "source": [
    "a = np.array([[1, 2, 3, 4, 5], [6, 7, 8, 9, 10]])\n",
    "\n",
    "# Output:\n",
    "# [[ 1  2  20  4  5]\n",
    "# [ 6  7 20  9 10]]\n"
   ]
  },
  {
   "cell_type": "code",
   "execution_count": 180,
   "id": "9ecdc8e5-feb6-4a37-a583-be748d019f96",
   "metadata": {
    "tags": []
   },
   "outputs": [
    {
     "name": "stdout",
     "output_type": "stream",
     "text": [
      "[[ 1  2 20  4  5]\n",
      " [ 6  7 20  9 10]]\n"
     ]
    }
   ],
   "source": [
    "\n",
    "a[:, 2] = 20\n",
    "print(a)"
   ]
  },
  {
   "cell_type": "code",
   "execution_count": null,
   "id": "e8e0a5e9-02ac-4990-85b9-cba782fd0d97",
   "metadata": {},
   "outputs": [],
   "source": []
  },
  {
   "cell_type": "markdown",
   "id": "628fc139-f658-49b0-a54f-0b61e39a13ea",
   "metadata": {
    "tags": []
   },
   "source": [
    "# NumPy Array'lerde Copy() Methodu ile Array Kopyalama"
   ]
  },
  {
   "cell_type": "markdown",
   "id": "cdaf63c8-0a3c-4730-b28e-e1e0894b7392",
   "metadata": {},
   "source": [
    "__NumPy'de bir array, copy() methodu ile kopyalanabilir.  \n",
    "copy() methodu ile kopyalanan array ve orjinal array birbirinden ayrı olur.  \n",
    "Yani orjinal arrayde yapılan değişiklik kopyalanmış arrayi etkilemez.__"
   ]
  },
  {
   "cell_type": "markdown",
   "id": "8ec442a1-75f7-481e-88e1-8c7ea0fb4446",
   "metadata": {},
   "source": [
    "__Örnekler :__"
   ]
  },
  {
   "cell_type": "code",
   "execution_count": 76,
   "id": "18318bd1-d97e-4c5a-b8cc-08a0644f9c3c",
   "metadata": {},
   "outputs": [
    {
     "name": "stdout",
     "output_type": "stream",
     "text": [
      "[42  2  3  4  5]\n",
      "[1 2 3 4 5]\n"
     ]
    }
   ],
   "source": [
    "import numpy as np\n",
    "\n",
    "arr = np.array([1, 2, 3, 4, 5])\n",
    "x = arr.copy()\n",
    "arr[0] = 42\n",
    "\n",
    "print(arr)\n",
    "print(x)"
   ]
  },
  {
   "cell_type": "code",
   "execution_count": 77,
   "id": "2010850e-b8df-4636-8cec-78a0b34ed5f3",
   "metadata": {},
   "outputs": [
    {
     "name": "stdout",
     "output_type": "stream",
     "text": [
      "[42  2  3  4  5]\n",
      "[ 1  2 16  4  5]\n"
     ]
    }
   ],
   "source": [
    "x[2] = 16\n",
    "\n",
    "print(arr)\n",
    "print(x)"
   ]
  },
  {
   "cell_type": "markdown",
   "id": "bf6f01d7-2476-49db-ba23-5243c5496c52",
   "metadata": {},
   "source": [
    "## View() Methodu ve Copy() Methodu ile Farkı"
   ]
  },
  {
   "cell_type": "markdown",
   "id": "7f09e900-dd47-42d7-829c-325b18b2379e",
   "metadata": {},
   "source": [
    "__view() methodu ile bir array kopyalanırsa orjinal arrayde  \n",
    "yapılacak bir değişiklik kopyalanmış arrayi de etkiler, değiştirir.__"
   ]
  },
  {
   "cell_type": "code",
   "execution_count": 78,
   "id": "961835e5-a9ac-401a-96ce-c8bb10950a40",
   "metadata": {},
   "outputs": [
    {
     "name": "stdout",
     "output_type": "stream",
     "text": [
      "[42  2  3  4  5]\n",
      "[42  2  3  4  5]\n"
     ]
    }
   ],
   "source": [
    "import numpy as np\n",
    "\n",
    "arr = np.array([1, 2, 3, 4, 5])\n",
    "x = arr.view()\n",
    "arr[0] = 42\n",
    "\n",
    "print(arr)\n",
    "print(x)"
   ]
  },
  {
   "cell_type": "markdown",
   "id": "8f281a00-1494-4a18-a511-be7c20d7cdde",
   "metadata": {},
   "source": [
    "# Shape of an Array"
   ]
  },
  {
   "cell_type": "markdown",
   "id": "6b8e1608-2d74-492e-9b0f-f765b796a3ef",
   "metadata": {},
   "source": [
    "__Bir arrayin biçimi \"shape\" ile ifade edilir.  \n",
    "Ve aynı isimdeki attribute ile shape değeri tutulmaktadır.  \n",
    "Shape ; herbir boyuttaki eleman sayısı demektir.__  \n",
    "  \n",
    "__Örnekler :__"
   ]
  },
  {
   "cell_type": "code",
   "execution_count": 79,
   "id": "9431ee7d-db38-48b3-9ed2-33847757471a",
   "metadata": {},
   "outputs": [
    {
     "name": "stdout",
     "output_type": "stream",
     "text": [
      "(2, 4)\n"
     ]
    }
   ],
   "source": [
    "import numpy as np\n",
    "\n",
    "arr = np.array([[1, 2, 3, 4], [5, 6, 7, 8]])\n",
    "\n",
    "print(arr.shape)"
   ]
  },
  {
   "cell_type": "code",
   "execution_count": 84,
   "id": "7167cdcd-4bb9-4b2a-a73f-1bfa385e5bb8",
   "metadata": {},
   "outputs": [
    {
     "name": "stdout",
     "output_type": "stream",
     "text": [
      "(2, 2, 3)\n"
     ]
    }
   ],
   "source": [
    "new_arr = np.array([[[1, 2, 3], [4, 5, 6]], [[7, 8, 9], [10, 11, 12]]])\n",
    "print(new_arr.shape)"
   ]
  },
  {
   "cell_type": "markdown",
   "id": "f48a98d9-21d8-40a5-b01d-28c7ff4bfc1d",
   "metadata": {},
   "source": [
    "# NumPy Array Reshaping | Arraylerde Reshape İşlemi (Yeniden Biçimlendirme)"
   ]
  },
  {
   "cell_type": "markdown",
   "id": "e6fdc408-97de-4da9-bbad-7b5dbfe56a12",
   "metadata": {},
   "source": [
    "__Reshaping-Reshape İşlemi ; bir arrayin biçimini(shape) değiştirir.  \n",
    "Bir arrayin biçimi(shape) ise ; herbir boyuttaki elemanların sayısıdır.  \n",
    "Reshape işlemi :  \n",
    "        -Boyut ekleme  \n",
    "        -Boyut azaltma  \n",
    "        -Herbir boyuttaki elemanların sayısını değiştirme  \n",
    "        yöntemleriyle yapılabilir.__\n",
    "        "
   ]
  },
  {
   "cell_type": "markdown",
   "id": "3246836d-63e2-4aee-9498-56f8751b7ea3",
   "metadata": {},
   "source": [
    "__Bu işlem reshape() methodu kullanılarak yapılır.__"
   ]
  },
  {
   "cell_type": "markdown",
   "id": "f36fa079-675a-4a58-9ea2-e72a5ee45c00",
   "metadata": {},
   "source": [
    "__Örnekler :__"
   ]
  },
  {
   "cell_type": "markdown",
   "id": "74a5aece-4b2a-4f6d-93b0-056bf8cbced3",
   "metadata": {},
   "source": [
    "__1-D Array'den 2-D array'e Dönüştürme Örneği :__"
   ]
  },
  {
   "cell_type": "code",
   "execution_count": 90,
   "id": "6a1324c9-85c2-4d70-bebf-3b9a2264d701",
   "metadata": {},
   "outputs": [
    {
     "name": "stdout",
     "output_type": "stream",
     "text": [
      "[ 1  2  3  4  5  6  7  8  9 10 11 12] \n",
      "\n",
      "[[ 1  2  3]\n",
      " [ 4  5  6]\n",
      " [ 7  8  9]\n",
      " [10 11 12]]\n"
     ]
    }
   ],
   "source": [
    "import numpy as np\n",
    "\n",
    "arr = np.array([1, 2, 3, 4, 5, 6, 7, 8, 9, 10, 11, 12])\n",
    "\n",
    "new_arr = arr.reshape(4, 3)\n",
    "\n",
    "print(arr, '\\n')\n",
    "print(new_arr)"
   ]
  },
  {
   "cell_type": "code",
   "execution_count": 96,
   "id": "63a4b5b5-bf7b-480f-989d-ecd9cfe91968",
   "metadata": {},
   "outputs": [
    {
     "name": "stdout",
     "output_type": "stream",
     "text": [
      "1\n",
      "2\n"
     ]
    }
   ],
   "source": [
    "print(arr.ndim)     #ndim attribute ile array'in boyut sayısını buluyoruz.\n",
    "print(new_arr.ndim)"
   ]
  },
  {
   "cell_type": "markdown",
   "id": "774097a7-799a-4aea-bef4-50bd44ec8ea2",
   "metadata": {},
   "source": [
    "****\n",
    "__1-D Array'den 3-D array'e Dönüştürme Örneği :__"
   ]
  },
  {
   "cell_type": "code",
   "execution_count": 98,
   "id": "33ba2d21-8e4a-4b9c-a81a-778adb844bae",
   "metadata": {},
   "outputs": [
    {
     "name": "stdout",
     "output_type": "stream",
     "text": [
      "[ 1  2  3  4  5  6  7  8  9 10 11 12] \n",
      "\n",
      "[[[ 1  2]\n",
      "  [ 3  4]\n",
      "  [ 5  6]]\n",
      "\n",
      " [[ 7  8]\n",
      "  [ 9 10]\n",
      "  [11 12]]]\n"
     ]
    }
   ],
   "source": [
    "import numpy as np\n",
    "\n",
    "arr = np.array([1, 2, 3, 4, 5, 6, 7, 8, 9, 10, 11, 12])\n",
    "\n",
    "new_arr = arr.reshape(2, 3, 2)\n",
    "\n",
    "print(arr, '\\n')\n",
    "print(new_arr)"
   ]
  },
  {
   "cell_type": "code",
   "execution_count": 99,
   "id": "e3097703-b9e2-4e23-93f2-68a323ab5dde",
   "metadata": {},
   "outputs": [
    {
     "name": "stdout",
     "output_type": "stream",
     "text": [
      "1\n",
      "3\n"
     ]
    }
   ],
   "source": [
    "print(arr.ndim)     #ndim attribute ile array'in boyut sayısını buluyoruz.\n",
    "print(new_arr.ndim)"
   ]
  },
  {
   "cell_type": "markdown",
   "id": "26cd54c7-0ff4-4a19-b6d3-3f49a48ea648",
   "metadata": {},
   "source": [
    "****\n",
    "__Bilinmeyen Boyut :__"
   ]
  },
  {
   "cell_type": "markdown",
   "id": "b4309362-e779-46ff-8f9a-b5d15caa9bee",
   "metadata": {},
   "source": [
    "__Reshape işlemi yaparke, 1 tane bilinmeyen boyuta sahip olmanıza izin verilir.  \n",
    "Yani 3-D array'e dönüşüm yapacaksanız 1 bilinmeyen boyut girişi yapabilirsiniz.  \n",
    "Bu durumda bilinmeyen boyut için değer olarak -1 girilir, bu boyutu  \n",
    "NumPy sizin yerinize hesaplayacaktır.__"
   ]
  },
  {
   "cell_type": "code",
   "execution_count": 104,
   "id": "5c3481db-9147-4830-9e91-174128ec2187",
   "metadata": {},
   "outputs": [
    {
     "name": "stdout",
     "output_type": "stream",
     "text": [
      "[[[1 2]\n",
      "  [3 4]]\n",
      "\n",
      " [[5 6]\n",
      "  [7 8]]]\n"
     ]
    }
   ],
   "source": [
    "import numpy as np\n",
    "\n",
    "arr = np.array([1, 2, 3, 4, 5, 6, 7, 8])\n",
    "\n",
    "newarr = arr.reshape(2, 2, -1)\n",
    "\n",
    "print(newarr)"
   ]
  },
  {
   "cell_type": "code",
   "execution_count": 105,
   "id": "e55d373e-a835-4e30-9643-909908489cb9",
   "metadata": {},
   "outputs": [
    {
     "name": "stdout",
     "output_type": "stream",
     "text": [
      "1\n",
      "3\n"
     ]
    }
   ],
   "source": [
    "print(arr.ndim)\n",
    "print(new_arr.ndim)"
   ]
  },
  {
   "cell_type": "markdown",
   "id": "f2a21977-6f8b-428e-8a8f-beca38ab13fa",
   "metadata": {},
   "source": [
    "****\n",
    "__2-D arrayden 3-D array e reshape örneği:__"
   ]
  },
  {
   "cell_type": "code",
   "execution_count": 111,
   "id": "3f3307a8-a61a-4e4e-b301-a5b71c0955bd",
   "metadata": {},
   "outputs": [
    {
     "name": "stdout",
     "output_type": "stream",
     "text": [
      "[[[1 2]\n",
      "  [3 4]]\n",
      "\n",
      " [[5 6]\n",
      "  [7 8]]]\n"
     ]
    }
   ],
   "source": [
    "arr = np.array([[1, 2, 3, 4], [5, 6, 7, 8]])\n",
    "newarr = arr.reshape(2, 2, -1)\n",
    "print(newarr)"
   ]
  },
  {
   "cell_type": "markdown",
   "id": "bfc75fbb-5218-4286-b491-3fb4d57c5088",
   "metadata": {},
   "source": [
    "****\n",
    "## resize( ) Methodu ile Shape Değiştirme"
   ]
  },
  {
   "cell_type": "markdown",
   "id": "c96070fc-8fbd-4991-81fa-11f3e4dff560",
   "metadata": {},
   "source": [
    "__resize methodu; reshape gibi array'in shape'ini değiştirmede kullanılır.    \n",
    "Ancak reshape'ten farklı olarak ;    \n",
    "Eğer yeni array, orjinal array'den daha büyükse, yeni array orjinal array'in    \n",
    "kopyalarıyla doldurulur. Yani yeni array'in data sayısı farklı olur, data içeriği değişmiş olur.  \n",
    "Böylece istenilen shape yeni array'e kazandırılmış olur.__"
   ]
  },
  {
   "cell_type": "code",
   "execution_count": 376,
   "id": "5560dcdb-4b10-49fa-bafe-b3666eeb0cad",
   "metadata": {},
   "outputs": [
    {
     "name": "stdout",
     "output_type": "stream",
     "text": [
      "[[0 1]\n",
      " [2 3]]\n"
     ]
    }
   ],
   "source": [
    "orgin_array = np.array([[0,1],[2,3]])\n",
    "\n",
    "print(orgin_array)"
   ]
  },
  {
   "cell_type": "code",
   "execution_count": 378,
   "id": "93eb320d-df99-4982-8927-7951c6c8a9bf",
   "metadata": {},
   "outputs": [
    {
     "name": "stdout",
     "output_type": "stream",
     "text": [
      "[[0 1 2]\n",
      " [3 0 1]]\n"
     ]
    }
   ],
   "source": [
    "\n",
    "new_array = np.resize(orgin_array,(2,3))\n",
    "\n",
    "print(new_array)"
   ]
  },
  {
   "cell_type": "code",
   "execution_count": 379,
   "id": "0e81d028-0416-42a6-9834-d5e2a0609887",
   "metadata": {},
   "outputs": [
    {
     "name": "stdout",
     "output_type": "stream",
     "text": [
      "[[1 2]\n",
      " [3 4]]\n"
     ]
    }
   ],
   "source": [
    "\n",
    "orgin_array = np.array([[1,2],[3,4]])\n",
    "\n",
    "print(orgin_array)"
   ]
  },
  {
   "cell_type": "code",
   "execution_count": 385,
   "id": "04daedb0-78ed-435a-a7b2-f4aa6b35d851",
   "metadata": {},
   "outputs": [
    {
     "name": "stdout",
     "output_type": "stream",
     "text": [
      "[[1 2 3]\n",
      " [4 1 2]]\n"
     ]
    }
   ],
   "source": [
    "new_array = np.resize(orgin_array,(2,3))\n",
    "\n",
    "print(new_array)"
   ]
  },
  {
   "cell_type": "code",
   "execution_count": 386,
   "id": "eff6376c-5d67-4cfa-86af-f34c491e3ec6",
   "metadata": {},
   "outputs": [
    {
     "data": {
      "text/plain": [
       "array([[1, 2, 3, 4]])"
      ]
     },
     "execution_count": 386,
     "metadata": {},
     "output_type": "execute_result"
    }
   ],
   "source": [
    "np.resize(orgin_array,(1,4))"
   ]
  },
  {
   "cell_type": "code",
   "execution_count": 387,
   "id": "89f97abf-b7c1-4b41-8b5b-518540cfd885",
   "metadata": {},
   "outputs": [
    {
     "data": {
      "text/plain": [
       "array([[1, 2, 3, 4]])"
      ]
     },
     "execution_count": 387,
     "metadata": {},
     "output_type": "execute_result"
    }
   ],
   "source": [
    "np.reshape(orgin_array,(1,4))"
   ]
  },
  {
   "cell_type": "code",
   "execution_count": 388,
   "id": "8eccf036-4473-4ffa-956b-88322eeb56e9",
   "metadata": {},
   "outputs": [
    {
     "data": {
      "text/plain": [
       "array([[1, 2, 3, 4],\n",
       "       [1, 2, 3, 4]])"
      ]
     },
     "execution_count": 388,
     "metadata": {},
     "output_type": "execute_result"
    }
   ],
   "source": [
    "np.resize(orgin_array,(2,4))"
   ]
  },
  {
   "cell_type": "code",
   "execution_count": 390,
   "id": "9273d7b3-2584-4b6b-b4ce-b6a9ab90b5b3",
   "metadata": {},
   "outputs": [
    {
     "ename": "ValueError",
     "evalue": "cannot reshape array of size 4 into shape (2,4)",
     "output_type": "error",
     "traceback": [
      "\u001b[1;31m---------------------------------------------------------------------------\u001b[0m",
      "\u001b[1;31mValueError\u001b[0m                                Traceback (most recent call last)",
      "Cell \u001b[1;32mIn [390], line 2\u001b[0m\n\u001b[0;32m      1\u001b[0m np\u001b[38;5;241m.\u001b[39mreshape(orgin_array,(\u001b[38;5;241m1\u001b[39m,\u001b[38;5;241m4\u001b[39m))\n\u001b[1;32m----> 2\u001b[0m \u001b[43mnp\u001b[49m\u001b[38;5;241;43m.\u001b[39;49m\u001b[43mreshape\u001b[49m\u001b[43m(\u001b[49m\u001b[43morgin_array\u001b[49m\u001b[43m,\u001b[49m\u001b[43m(\u001b[49m\u001b[38;5;241;43m2\u001b[39;49m\u001b[43m,\u001b[49m\u001b[38;5;241;43m4\u001b[39;49m\u001b[43m)\u001b[49m\u001b[43m)\u001b[49m \u001b[38;5;66;03m# reshape verilen shape'e göre data sayısını \u001b[39;00m\n\u001b[0;32m      3\u001b[0m                               \u001b[38;5;66;03m# artırma gibi bişey yapmaz. Orjinal data sayısı\u001b[39;00m\n\u001b[0;32m      4\u001b[0m                               \u001b[38;5;66;03m# istenilen shape ile uyumlu değilse hata alırız.\u001b[39;00m\n",
      "File \u001b[1;32m<__array_function__ internals>:180\u001b[0m, in \u001b[0;36mreshape\u001b[1;34m(*args, **kwargs)\u001b[0m\n",
      "File \u001b[1;32m~\\AppData\\Local\\Programs\\Python\\Python310\\lib\\site-packages\\numpy\\core\\fromnumeric.py:298\u001b[0m, in \u001b[0;36mreshape\u001b[1;34m(a, newshape, order)\u001b[0m\n\u001b[0;32m    198\u001b[0m \u001b[38;5;129m@array_function_dispatch\u001b[39m(_reshape_dispatcher)\n\u001b[0;32m    199\u001b[0m \u001b[38;5;28;01mdef\u001b[39;00m \u001b[38;5;21mreshape\u001b[39m(a, newshape, order\u001b[38;5;241m=\u001b[39m\u001b[38;5;124m'\u001b[39m\u001b[38;5;124mC\u001b[39m\u001b[38;5;124m'\u001b[39m):\n\u001b[0;32m    200\u001b[0m     \u001b[38;5;124;03m\"\"\"\u001b[39;00m\n\u001b[0;32m    201\u001b[0m \u001b[38;5;124;03m    Gives a new shape to an array without changing its data.\u001b[39;00m\n\u001b[0;32m    202\u001b[0m \n\u001b[1;32m   (...)\u001b[0m\n\u001b[0;32m    296\u001b[0m \u001b[38;5;124;03m           [5, 6]])\u001b[39;00m\n\u001b[0;32m    297\u001b[0m \u001b[38;5;124;03m    \"\"\"\u001b[39;00m\n\u001b[1;32m--> 298\u001b[0m     \u001b[38;5;28;01mreturn\u001b[39;00m \u001b[43m_wrapfunc\u001b[49m\u001b[43m(\u001b[49m\u001b[43ma\u001b[49m\u001b[43m,\u001b[49m\u001b[43m \u001b[49m\u001b[38;5;124;43m'\u001b[39;49m\u001b[38;5;124;43mreshape\u001b[39;49m\u001b[38;5;124;43m'\u001b[39;49m\u001b[43m,\u001b[49m\u001b[43m \u001b[49m\u001b[43mnewshape\u001b[49m\u001b[43m,\u001b[49m\u001b[43m \u001b[49m\u001b[43morder\u001b[49m\u001b[38;5;241;43m=\u001b[39;49m\u001b[43morder\u001b[49m\u001b[43m)\u001b[49m\n",
      "File \u001b[1;32m~\\AppData\\Local\\Programs\\Python\\Python310\\lib\\site-packages\\numpy\\core\\fromnumeric.py:57\u001b[0m, in \u001b[0;36m_wrapfunc\u001b[1;34m(obj, method, *args, **kwds)\u001b[0m\n\u001b[0;32m     54\u001b[0m     \u001b[38;5;28;01mreturn\u001b[39;00m _wrapit(obj, method, \u001b[38;5;241m*\u001b[39margs, \u001b[38;5;241m*\u001b[39m\u001b[38;5;241m*\u001b[39mkwds)\n\u001b[0;32m     56\u001b[0m \u001b[38;5;28;01mtry\u001b[39;00m:\n\u001b[1;32m---> 57\u001b[0m     \u001b[38;5;28;01mreturn\u001b[39;00m bound(\u001b[38;5;241m*\u001b[39margs, \u001b[38;5;241m*\u001b[39m\u001b[38;5;241m*\u001b[39mkwds)\n\u001b[0;32m     58\u001b[0m \u001b[38;5;28;01mexcept\u001b[39;00m \u001b[38;5;167;01mTypeError\u001b[39;00m:\n\u001b[0;32m     59\u001b[0m     \u001b[38;5;66;03m# A TypeError occurs if the object does have such a method in its\u001b[39;00m\n\u001b[0;32m     60\u001b[0m     \u001b[38;5;66;03m# class, but its signature is not identical to that of NumPy's. This\u001b[39;00m\n\u001b[1;32m   (...)\u001b[0m\n\u001b[0;32m     64\u001b[0m     \u001b[38;5;66;03m# Call _wrapit from within the except clause to ensure a potential\u001b[39;00m\n\u001b[0;32m     65\u001b[0m     \u001b[38;5;66;03m# exception has a traceback chain.\u001b[39;00m\n\u001b[0;32m     66\u001b[0m     \u001b[38;5;28;01mreturn\u001b[39;00m _wrapit(obj, method, \u001b[38;5;241m*\u001b[39margs, \u001b[38;5;241m*\u001b[39m\u001b[38;5;241m*\u001b[39mkwds)\n",
      "\u001b[1;31mValueError\u001b[0m: cannot reshape array of size 4 into shape (2,4)"
     ]
    }
   ],
   "source": [
    "np.reshape(orgin_array,(1,4))\n",
    "np.reshape(orgin_array,(2,4)) # reshape verilen shape'e göre data sayısını \n",
    "                              # artırma gibi bişey yapmaz. Orjinal data sayısı\n",
    "                              # istenilen shape ile uyumlu değilse hata alırız."
   ]
  },
  {
   "cell_type": "code",
   "execution_count": null,
   "id": "21c87d7e-b03a-4fe0-a27c-0b912a4b13f7",
   "metadata": {},
   "outputs": [],
   "source": []
  },
  {
   "cell_type": "code",
   "execution_count": null,
   "id": "4a596675-0de7-4fb3-a929-4c1c7950dbf9",
   "metadata": {},
   "outputs": [],
   "source": []
  },
  {
   "cell_type": "markdown",
   "id": "7da3553b-9a6a-4aeb-8dfc-fcf289fd6b37",
   "metadata": {},
   "source": [
    "## Flattening the Arrays | Çok-boyutlu Array'i Tek-boyutlu Array'e Dönüştürme"
   ]
  },
  {
   "cell_type": "markdown",
   "id": "4dc1c6b9-ade9-4550-9e6b-1fc1d52ce449",
   "metadata": {},
   "source": [
    "__Bu işlemi ;  \n",
    "reshape( -1 )\n",
    "ile yapabiliriz.__"
   ]
  },
  {
   "cell_type": "code",
   "execution_count": 112,
   "id": "a8341339-a164-4c88-b548-4f797b99fde7",
   "metadata": {},
   "outputs": [
    {
     "name": "stdout",
     "output_type": "stream",
     "text": [
      "[1 2 3 4 5 6]\n"
     ]
    }
   ],
   "source": [
    "import numpy as np\n",
    "\n",
    "arr = np.array([[1, 2, 3], [4, 5, 6]])\n",
    "\n",
    "newarr = arr.reshape(-1)\n",
    "\n",
    "print(newarr)"
   ]
  },
  {
   "cell_type": "markdown",
   "id": "43bac1dd-5eef-41b3-9ad9-043b61651dac",
   "metadata": {},
   "source": [
    "### flatten( ) methodu ile"
   ]
  },
  {
   "cell_type": "markdown",
   "id": "9b89fc34-1cdf-41bb-8cbb-14a3a718039c",
   "metadata": {},
   "source": [
    "__Çok-boyutlu array'i tek-boyutlu array'e dönüştürmek için  \n",
    "flatten() methodu da kullanılabilir.  \n",
    "\"order\" parametresi ile sütun tabanlı(column-major) olarak da yapılabilir. \n",
    "Bunun için order = 'F' yapılır.  \n",
    "\"order\" parametresinin default değeri satır temelli(row-major) olarak 'C' dir.__"
   ]
  },
  {
   "cell_type": "code",
   "execution_count": 354,
   "id": "52559a36-c436-42bd-a504-d5b8ae35f22e",
   "metadata": {},
   "outputs": [
    {
     "name": "stdout",
     "output_type": "stream",
     "text": [
      "[[1 2]\n",
      " [3 4]]\n"
     ]
    }
   ],
   "source": [
    "a = np.array([[1,2], [3,4]])\n",
    "\n",
    "print(a)\n"
   ]
  },
  {
   "cell_type": "code",
   "execution_count": 358,
   "id": "cd573575-2679-4803-a970-29108c3ed1b7",
   "metadata": {
    "tags": []
   },
   "outputs": [
    {
     "name": "stdout",
     "output_type": "stream",
     "text": [
      "[1 2 3 4]\n"
     ]
    }
   ],
   "source": [
    "flatten_array = a.flatten()  # order değeri default olarak row-major olduğu için\n",
    "                             # satır satır okuyacak ve tek boyutta düzleştirecek. \n",
    "print(flatten_array)"
   ]
  },
  {
   "cell_type": "code",
   "execution_count": 359,
   "id": "d84925f6-c8e5-4d05-94b5-07d64d82c40b",
   "metadata": {},
   "outputs": [
    {
     "name": "stdout",
     "output_type": "stream",
     "text": [
      "[1 3 2 4]\n"
     ]
    }
   ],
   "source": [
    "\n",
    "flatten_array = a.flatten(order='F')  # order değeri column-major girildiği için\n",
    "                                      # sütun sütun okuyacak ve tek boyutta düzleştirecek. \n",
    "print(flatten_array)"
   ]
  },
  {
   "cell_type": "code",
   "execution_count": 360,
   "id": "d0b47c9c-2dce-40ca-93b1-e2414f692f0e",
   "metadata": {},
   "outputs": [
    {
     "name": "stdout",
     "output_type": "stream",
     "text": [
      "[[1 2]\n",
      " [3 4]\n",
      " [5 6]]\n"
     ]
    }
   ],
   "source": [
    "\n",
    "# Yeni Örnek :\n",
    "    \n",
    "b = np.array([[1,2], [3,4], [5,6]])\n",
    "print(b)\n"
   ]
  },
  {
   "cell_type": "code",
   "execution_count": 361,
   "id": "3cf7cedd-6058-4a5b-ae01-fe5b30fceb67",
   "metadata": {},
   "outputs": [
    {
     "name": "stdout",
     "output_type": "stream",
     "text": [
      "[1 2 3 4 5 6]\n"
     ]
    }
   ],
   "source": [
    "flatten_array = b.flatten()  # order değeri default olarak row-major olduğu için\n",
    "                             # satır satır okuyacak ve tek boyutta düzleştirecek. \n",
    "print(flatten_array)"
   ]
  },
  {
   "cell_type": "code",
   "execution_count": 363,
   "id": "77aac700-d187-429b-829b-a80e303ccd62",
   "metadata": {},
   "outputs": [
    {
     "name": "stdout",
     "output_type": "stream",
     "text": [
      "[1 3 5 2 4 6]\n"
     ]
    }
   ],
   "source": [
    "\n",
    "flatten_array = b.flatten(order='F')  # order değeri column-major girildiği için\n",
    "                                      # sütun sütun okuyacak ve tek boyutta düzleştirecek. \n",
    "print(flatten_array)"
   ]
  },
  {
   "cell_type": "markdown",
   "id": "d52284ef-eddf-41ae-8aa9-4965574034f8",
   "metadata": {},
   "source": [
    "****\n",
    "## flat Attribute ile Arraylerde Eleman Okuma"
   ]
  },
  {
   "cell_type": "markdown",
   "id": "db2dfde8-97fd-49f2-91c6-331918a34c35",
   "metadata": {},
   "source": [
    "__flat attribute ; çok-boyutlu arraylerde tek boyutluymuş gibi indexleme  \n",
    "yaparak eleman okumayı sağlar.__\n"
   ]
  },
  {
   "cell_type": "code",
   "execution_count": 365,
   "id": "5efd6ed5-b2a0-44e7-a77d-d21735e24f75",
   "metadata": {},
   "outputs": [
    {
     "name": "stdout",
     "output_type": "stream",
     "text": [
      "[[1 2 3]\n",
      " [4 5 6]]\n"
     ]
    }
   ],
   "source": [
    "x = np.arange(1, 7).reshape(2, 3)\n",
    "\n",
    "print(x)"
   ]
  },
  {
   "cell_type": "code",
   "execution_count": 366,
   "id": "b9728a1e-3bc8-40fa-8b6d-c3f89a862bb6",
   "metadata": {},
   "outputs": [
    {
     "name": "stdout",
     "output_type": "stream",
     "text": [
      "4\n"
     ]
    }
   ],
   "source": [
    "# Bu arrayde 4 değerine ulaşmak (normalde) ;\n",
    "\n",
    "print( x[1,0] )\n"
   ]
  },
  {
   "cell_type": "code",
   "execution_count": 367,
   "id": "856639e7-466f-4391-8a4f-482bde9b963e",
   "metadata": {},
   "outputs": [
    {
     "data": {
      "text/plain": [
       "4"
      ]
     },
     "execution_count": 367,
     "metadata": {},
     "output_type": "execute_result"
    }
   ],
   "source": [
    "# flatten ile ulaşırken ise ;\n",
    "\n",
    "x.flat[3]    # arrayi tek boyutlu düşünürsek [1,2,3,4,5,6] da \n",
    "             # ulaşmak istenilen '4' değerinin index num. 3 olur."
   ]
  },
  {
   "cell_type": "code",
   "execution_count": null,
   "id": "c09cdda7-e534-4a51-bf05-e087b44029eb",
   "metadata": {},
   "outputs": [],
   "source": []
  },
  {
   "cell_type": "code",
   "execution_count": null,
   "id": "793d765b-d0a5-4d35-8dd6-017d722af088",
   "metadata": {},
   "outputs": [],
   "source": []
  },
  {
   "cell_type": "markdown",
   "id": "d7f45d51-aa0c-4d55-9919-10d8907011a8",
   "metadata": {},
   "source": [
    "****"
   ]
  },
  {
   "cell_type": "markdown",
   "id": "bc1770f1-2dc2-4a01-bdee-001247321d2d",
   "metadata": {},
   "source": [
    "# NumPy Array Iterating | Array'leri Döngülerde Kullanmak"
   ]
  },
  {
   "cell_type": "code",
   "execution_count": 129,
   "id": "04aac75f-6bc9-447b-847b-59fce50fb2db",
   "metadata": {},
   "outputs": [
    {
     "name": "stdout",
     "output_type": "stream",
     "text": [
      "1\n",
      "2\n",
      "3\n"
     ]
    }
   ],
   "source": [
    "import numpy as np\n",
    "\n",
    "arr = np.array([1, 2, 3])\n",
    "\n",
    "for x in arr:\n",
    "    print(x)"
   ]
  },
  {
   "cell_type": "code",
   "execution_count": 115,
   "id": "dc6ccf68-6152-402d-9eb1-cc591292f855",
   "metadata": {},
   "outputs": [
    {
     "name": "stdout",
     "output_type": "stream",
     "text": [
      "[1 2 3]\n",
      "[4 5 6]\n"
     ]
    }
   ],
   "source": [
    "import numpy as np\n",
    "\n",
    "arr = np.array([[1, 2, 3], [4, 5, 6]])\n",
    "\n",
    "for x in arr:\n",
    "    print(x)"
   ]
  },
  {
   "cell_type": "code",
   "execution_count": 116,
   "id": "8c97bb70-a3fa-4c71-8c0a-a385a842f370",
   "metadata": {},
   "outputs": [
    {
     "name": "stdout",
     "output_type": "stream",
     "text": [
      "Döngüye 1 . kez girdi...\n",
      "[1 2 3]\n",
      "Döngüye 2 . kez girdi...\n",
      "[4 5 6]\n"
     ]
    }
   ],
   "source": [
    "import numpy as np\n",
    "\n",
    "arr = np.array([[1, 2, 3], [4, 5, 6]])\n",
    "i = 0\n",
    "for x in arr:\n",
    "    i= i+1\n",
    "    print(\"Döngüye\", i,\". kez girdi...\")\n",
    "    print(x)"
   ]
  },
  {
   "cell_type": "markdown",
   "id": "65382f1d-3a16-4200-948e-871c7a751ef2",
   "metadata": {},
   "source": [
    "****"
   ]
  },
  {
   "cell_type": "code",
   "execution_count": 117,
   "id": "f364040f-685c-4183-9f0f-329331a4daff",
   "metadata": {},
   "outputs": [
    {
     "name": "stdout",
     "output_type": "stream",
     "text": [
      "1\n",
      "2\n",
      "3\n",
      "4\n",
      "5\n",
      "6\n"
     ]
    }
   ],
   "source": [
    "import numpy as np\n",
    "\n",
    "arr = np.array([[1, 2, 3], [4, 5, 6]])\n",
    "\n",
    "for x in arr:\n",
    "    for y in x:\n",
    "        print(y)"
   ]
  },
  {
   "cell_type": "markdown",
   "id": "f989a27a-5110-4c91-94c0-285668b9cc1f",
   "metadata": {},
   "source": [
    "****"
   ]
  },
  {
   "cell_type": "code",
   "execution_count": 118,
   "id": "8273f1a0-81c9-4c67-8175-22258895678e",
   "metadata": {},
   "outputs": [
    {
     "name": "stdout",
     "output_type": "stream",
     "text": [
      "1\n",
      "2\n",
      "3\n",
      "4\n",
      "5\n",
      "6\n",
      "7\n",
      "8\n",
      "9\n",
      "10\n",
      "11\n",
      "12\n"
     ]
    }
   ],
   "source": [
    "import numpy as np\n",
    "\n",
    "arr = np.array([[[1, 2, 3], [4, 5, 6]], [[7, 8, 9], [10, 11, 12]]])\n",
    "\n",
    "for x in arr:\n",
    "    for y in x:\n",
    "        for z in y:\n",
    "            print(z)"
   ]
  },
  {
   "cell_type": "markdown",
   "id": "c7d8b1a3-f556-40f6-96e6-a1fd5e5947af",
   "metadata": {},
   "source": [
    "****"
   ]
  },
  {
   "cell_type": "markdown",
   "id": "90db8f25-038a-45c1-9ef7-ae5baca2edcf",
   "metadata": {},
   "source": [
    "## Iterating Arrays Using nditer() | Arrayleri Döngüde nditer() Methodu ile Kullanmak"
   ]
  },
  {
   "cell_type": "markdown",
   "id": "05503f5b-d3b5-4de1-b92d-38016702e081",
   "metadata": {},
   "source": [
    "__nditer() methodu sayesinde iç içe for döngüsü yapmadan doğrudan her bir skaler eleman  \n",
    "döngü elemanı olarak kullanılabilir.__ "
   ]
  },
  {
   "cell_type": "code",
   "execution_count": 120,
   "id": "f3849650-81a4-4383-9213-b33d83ca40f9",
   "metadata": {},
   "outputs": [
    {
     "name": "stdout",
     "output_type": "stream",
     "text": [
      "1\n",
      "2\n",
      "3\n",
      "4\n",
      "5\n",
      "6\n",
      "7\n",
      "8\n"
     ]
    }
   ],
   "source": [
    "import numpy as np\n",
    "\n",
    "arr = np.array([[[1, 2], [3, 4]], [[5, 6], [7, 8]]])\n",
    "\n",
    "for x in np.nditer(arr):\n",
    "    print(x)"
   ]
  },
  {
   "cell_type": "code",
   "execution_count": 122,
   "id": "05e3be68-b581-4544-b202-75811abc3a3a",
   "metadata": {},
   "outputs": [
    {
     "name": "stdout",
     "output_type": "stream",
     "text": [
      "1\n",
      "3\n",
      "5\n",
      "7\n"
     ]
    }
   ],
   "source": [
    "\n",
    "arr = np.array([[1, 2, 3, 4], [5, 6, 7, 8]])\n",
    "\n",
    "for x in np.nditer(arr[:, ::2]):\n",
    "    print(x)"
   ]
  },
  {
   "cell_type": "markdown",
   "id": "eb4ecfec-1557-441f-9571-5e79818b929a",
   "metadata": {},
   "source": [
    "# Joining NumPy Arrays | Arrayleri Birleştirmek"
   ]
  },
  {
   "cell_type": "markdown",
   "id": "453fa2c8-b609-4729-8d4b-c86328623df5",
   "metadata": {},
   "source": [
    "__İki farklı arrayi birleştirme işlemidir.  \n",
    "concatenate() methodu ile yapılır.__"
   ]
  },
  {
   "cell_type": "code",
   "execution_count": 137,
   "id": "4bc649dc-d404-44e5-b3be-fd68d0331782",
   "metadata": {
    "tags": []
   },
   "outputs": [
    {
     "name": "stdout",
     "output_type": "stream",
     "text": [
      "[1 2 3 4 5 6]\n"
     ]
    }
   ],
   "source": [
    "import numpy as np\n",
    "\n",
    "arr1 = np.array([1, 2, 3])\n",
    "\n",
    "arr2 = np.array([4, 5, 6])\n",
    "\n",
    "arr = np.concatenate((arr1, arr2))\n",
    "\n",
    "print(arr)"
   ]
  },
  {
   "cell_type": "markdown",
   "id": "70bf1b3f-9ecb-48c9-aef4-4200873d660d",
   "metadata": {},
   "source": [
    "****"
   ]
  },
  {
   "cell_type": "code",
   "execution_count": 134,
   "id": "fdb00c43-6ff8-4f75-8d0d-f5b374d532f9",
   "metadata": {},
   "outputs": [
    {
     "name": "stdout",
     "output_type": "stream",
     "text": [
      "[[1 2 5 6]\n",
      " [3 4 7 8]]\n"
     ]
    }
   ],
   "source": [
    "\n",
    "arr1 = np.array([[1, 2], [3, 4]])\n",
    "\n",
    "arr2 = np.array([[5, 6], [7, 8]])\n",
    "\n",
    "arr = np.concatenate((arr1, arr2), axis=1)\n",
    "\n",
    "print(arr)\n"
   ]
  },
  {
   "cell_type": "code",
   "execution_count": 135,
   "id": "47d7eb88-5a28-4b1d-a55a-158d1ee4bbfc",
   "metadata": {},
   "outputs": [
    {
     "data": {
      "text/plain": [
       "2"
      ]
     },
     "execution_count": 135,
     "metadata": {},
     "output_type": "execute_result"
    }
   ],
   "source": [
    "\n",
    "arr.ndim"
   ]
  },
  {
   "cell_type": "markdown",
   "id": "2ac9b178-173a-4e2e-816a-54bf8fdc151d",
   "metadata": {},
   "source": [
    "__axis parametresine hiçbir değer girmezsek varsayılan değeri 0 olur.  \n",
    "axis değeri sıfırken satırlar dikey olarak birleştirilir.  \n",
    "axis değeri 1 girilirse arrayler yatay olarak birleştirilir.__\n"
   ]
  },
  {
   "cell_type": "code",
   "execution_count": 139,
   "id": "4395c924-72f4-47f4-9ba6-25d86fc42ae7",
   "metadata": {},
   "outputs": [
    {
     "name": "stdout",
     "output_type": "stream",
     "text": [
      "[[1 2]\n",
      " [3 4]\n",
      " [5 6]\n",
      " [7 8]]\n"
     ]
    }
   ],
   "source": [
    "arr1 = np.array([[1, 2], [3, 4]])\n",
    "\n",
    "arr2 = np.array([[5, 6], [7, 8]])\n",
    "\n",
    "arr = np.concatenate((arr1, arr2))   #axis değeri 0 kabul edilir.\n",
    "\n",
    "print(arr)"
   ]
  },
  {
   "cell_type": "markdown",
   "id": "64a254b4-6bf8-43d9-bd67-35a4cb1ede1a",
   "metadata": {},
   "source": [
    "****\n",
    "### Arrayleri Stack() Methodu ile Birleştirme"
   ]
  },
  {
   "cell_type": "markdown",
   "id": "87618cae-053b-442c-97f1-2f291b33e63f",
   "metadata": {},
   "source": [
    "__Stack() methodu, elemanları üst üste yığma işlemi yaparak arrayleri birleştirir.__"
   ]
  },
  {
   "cell_type": "code",
   "execution_count": 140,
   "id": "9cb31970-ea12-4ac3-9b03-4f1c31eb02cb",
   "metadata": {},
   "outputs": [
    {
     "name": "stdout",
     "output_type": "stream",
     "text": [
      "[[1 2 3]\n",
      " [4 5 6]]\n"
     ]
    }
   ],
   "source": [
    "import numpy as np\n",
    "\n",
    "arr1 = np.array([1, 2, 3])\n",
    "\n",
    "arr2 = np.array([4, 5, 6])\n",
    "\n",
    "arr = np.stack((arr1, arr2))\n",
    "\n",
    "print(arr)"
   ]
  },
  {
   "cell_type": "code",
   "execution_count": 142,
   "id": "ee29b5e9-71e9-46a7-a977-9e0c8394357f",
   "metadata": {},
   "outputs": [
    {
     "name": "stdout",
     "output_type": "stream",
     "text": [
      "[[1 4]\n",
      " [2 5]\n",
      " [3 6]]\n"
     ]
    }
   ],
   "source": [
    "arr1 = np.array([1, 2, 3])\n",
    "\n",
    "arr2 = np.array([4, 5, 6])\n",
    "\n",
    "arr = np.stack((arr1, arr2), axis=1)\n",
    "\n",
    "print(arr)"
   ]
  },
  {
   "cell_type": "code",
   "execution_count": 143,
   "id": "f2e223a6-79fc-472e-ae74-49b0309bfd37",
   "metadata": {},
   "outputs": [
    {
     "name": "stdout",
     "output_type": "stream",
     "text": [
      "[[[1 2]\n",
      "  [5 6]]\n",
      "\n",
      " [[3 4]\n",
      "  [7 8]]]\n"
     ]
    }
   ],
   "source": [
    "\n",
    "arr1 = np.array([[1, 2], [3, 4]])\n",
    "\n",
    "arr2 = np.array([[5, 6], [7, 8]])\n",
    "\n",
    "arr = np.stack((arr1, arr2), axis=1)\n",
    "\n",
    "print(arr)"
   ]
  },
  {
   "cell_type": "code",
   "execution_count": 144,
   "id": "0484183a-3373-4033-94eb-12b76784b4e6",
   "metadata": {},
   "outputs": [
    {
     "name": "stdout",
     "output_type": "stream",
     "text": [
      "[[[1 2]\n",
      "  [3 4]]\n",
      "\n",
      " [[5 6]\n",
      "  [7 8]]]\n"
     ]
    }
   ],
   "source": [
    "arr1 = np.array([[1, 2], [3, 4]])\n",
    "\n",
    "arr2 = np.array([[5, 6], [7, 8]])\n",
    "\n",
    "arr = np.stack((arr1, arr2))\n",
    "\n",
    "print(arr)"
   ]
  },
  {
   "cell_type": "markdown",
   "id": "5e10c506-9e9b-4444-9b01-364519434eff",
   "metadata": {},
   "source": [
    "****"
   ]
  },
  {
   "cell_type": "markdown",
   "id": "cf5b033f-38b7-4c1a-b0e0-c2be252bbde5",
   "metadata": {},
   "source": [
    "# Splitting NumPy Arrays | Arrayleri Farklı Arrayler Olarak Bölmek"
   ]
  },
  {
   "cell_type": "markdown",
   "id": "7e7157ff-5856-413f-96c1-069fe2ae0b00",
   "metadata": {},
   "source": [
    "__array_split() methodu ile yapılır.  \n",
    "Bir arrayi farklı arrayler olarak bölüp, bu arrayleri eleman olarak tutar.__"
   ]
  },
  {
   "cell_type": "markdown",
   "id": "709db603-bc47-4118-b343-f3ccbdb0b5ee",
   "metadata": {},
   "source": [
    "__Bir arrayi 3 parçaya bölelim :__"
   ]
  },
  {
   "cell_type": "code",
   "execution_count": 147,
   "id": "97c8a355-9aca-45b7-b5f4-48971827714a",
   "metadata": {},
   "outputs": [
    {
     "name": "stdout",
     "output_type": "stream",
     "text": [
      "[array([1, 2]), array([3, 4]), array([5, 6])]\n"
     ]
    }
   ],
   "source": [
    "import numpy as np\n",
    "\n",
    "arr = np.array([1, 2, 3, 4, 5, 6])\n",
    "\n",
    "newarr = np.array_split(arr, 3)  # 3 parçaya böleceğimiz için parametreye 3 girdik. \n",
    "\n",
    "print(newarr)"
   ]
  },
  {
   "cell_type": "markdown",
   "id": "b81d29b5-1838-4c95-ae12-bc493d52eff6",
   "metadata": {},
   "source": [
    "__Yukarıda görüldüğü gibi split / bölme işlemi sonucu 3 array içeren bir array aldık.__ \n"
   ]
  },
  {
   "cell_type": "code",
   "execution_count": 149,
   "id": "c0576747-b00d-4b9a-b361-16f0466c71da",
   "metadata": {},
   "outputs": [
    {
     "name": "stdout",
     "output_type": "stream",
     "text": [
      "[array([1, 2]), array([3, 4]), array([5]), array([6])]\n"
     ]
    }
   ],
   "source": [
    "\n",
    "arr = np.array([1, 2, 3, 4, 5, 6])\n",
    "\n",
    "newarr = np.array_split(arr, 4)   # 4 parçaya bölüyoruz.\n",
    "\n",
    "print(newarr)"
   ]
  },
  {
   "cell_type": "markdown",
   "id": "1a5d8df1-2bd3-4fea-9e96-75202d2e2725",
   "metadata": {},
   "source": [
    "__Dikkat :  \n",
    "    array_split() methodu yukarıdaki gibi eşit bölme için gereken eleman sayısı   \n",
    "    yetersiz olduğunda eleman sayısını bölme sayısına göre ayarlar.__"
   ]
  },
  {
   "cell_type": "markdown",
   "id": "600f6b46-0cab-4cb4-9cd0-66aa690cd40d",
   "metadata": {},
   "source": [
    "****\n",
    "__Bölme işlemi sonucu oluşan arraylere erişmek :__"
   ]
  },
  {
   "cell_type": "code",
   "execution_count": 151,
   "id": "9e0306e0-33be-4c8c-9990-ec9526f41acd",
   "metadata": {},
   "outputs": [
    {
     "name": "stdout",
     "output_type": "stream",
     "text": [
      "[1 2]\n",
      "[3 4]\n",
      "[5 6]\n"
     ]
    }
   ],
   "source": [
    "arr = np.array([1, 2, 3, 4, 5, 6])\n",
    "\n",
    "newarr = np.array_split(arr, 3)\n",
    "\n",
    "print(newarr[0])\n",
    "print(newarr[1])\n",
    "print(newarr[2])"
   ]
  },
  {
   "cell_type": "markdown",
   "id": "047dd1e5-f0c4-4d5f-a6d9-cc6566fb3804",
   "metadata": {},
   "source": [
    "****\n",
    "__Çok-boyutlu arraylerde de aynı şekilde bölme işlemi yapılır :__"
   ]
  },
  {
   "cell_type": "code",
   "execution_count": 152,
   "id": "e6aac60f-8ae4-4f26-b6de-26c5dcc4f948",
   "metadata": {},
   "outputs": [
    {
     "name": "stdout",
     "output_type": "stream",
     "text": [
      "[array([[1, 2],\n",
      "       [3, 4]]), array([[5, 6],\n",
      "       [7, 8]]), array([[ 9, 10],\n",
      "       [11, 12]])]\n"
     ]
    }
   ],
   "source": [
    "arr = np.array([[1, 2], [3, 4], [5, 6], [7, 8], [9, 10], [11, 12]])\n",
    "\n",
    "newarr = np.array_split(arr, 3)\n",
    "\n",
    "print(newarr)"
   ]
  },
  {
   "cell_type": "code",
   "execution_count": 153,
   "id": "bc91b15d-03f9-4897-a97c-c6216fc0cfd6",
   "metadata": {},
   "outputs": [
    {
     "name": "stdout",
     "output_type": "stream",
     "text": [
      "[[1 2]\n",
      " [3 4]]\n",
      "[[5 6]\n",
      " [7 8]]\n",
      "[[ 9 10]\n",
      " [11 12]]\n"
     ]
    }
   ],
   "source": [
    "print(newarr[0])\n",
    "print(newarr[1])\n",
    "print(newarr[2])"
   ]
  },
  {
   "cell_type": "markdown",
   "id": "c2ead6b1-67bd-4238-9938-15b727309f47",
   "metadata": {},
   "source": [
    "****"
   ]
  },
  {
   "cell_type": "code",
   "execution_count": null,
   "id": "976ed5b0-6e21-4c60-a2de-c4abd087fee9",
   "metadata": {},
   "outputs": [],
   "source": []
  },
  {
   "cell_type": "markdown",
   "id": "dbb81650-36fa-41d4-ba3e-ca6da07aa84e",
   "metadata": {},
   "source": [
    "![green-divider](https://user-images.githubusercontent.com/7065401/52071924-c003ad80-2562-11e9-8297-1c6595f8a7ff.png)\n",
    "\n",
    "## Boolean arrays\n",
    "_(Also called masks)_"
   ]
  },
  {
   "cell_type": "code",
   "execution_count": 82,
   "id": "1fccaea2-4a79-4f5a-9500-56782908de39",
   "metadata": {},
   "outputs": [],
   "source": [
    "a = np.arange(4)"
   ]
  },
  {
   "cell_type": "code",
   "execution_count": 83,
   "id": "addae5ed-3069-425c-87dc-407f89ebd096",
   "metadata": {},
   "outputs": [
    {
     "data": {
      "text/plain": [
       "array([0, 1, 2, 3])"
      ]
     },
     "execution_count": 83,
     "metadata": {},
     "output_type": "execute_result"
    }
   ],
   "source": [
    "a"
   ]
  },
  {
   "cell_type": "code",
   "execution_count": 85,
   "id": "a98777a1-ef62-436c-b98c-b626a0a16e7d",
   "metadata": {},
   "outputs": [
    {
     "data": {
      "text/plain": [
       "(0, 3)"
      ]
     },
     "execution_count": 85,
     "metadata": {},
     "output_type": "execute_result"
    }
   ],
   "source": [
    "a[0], a[-1]"
   ]
  },
  {
   "cell_type": "code",
   "execution_count": 84,
   "id": "d75830a3-8e18-4293-8b66-48ce085d9871",
   "metadata": {},
   "outputs": [
    {
     "data": {
      "text/plain": [
       "array([0, 3])"
      ]
     },
     "execution_count": 84,
     "metadata": {},
     "output_type": "execute_result"
    }
   ],
   "source": [
    "a[[0, -1]]"
   ]
  },
  {
   "cell_type": "code",
   "execution_count": 86,
   "id": "bb33d94b-7bca-4b47-89b0-ba483acbca34",
   "metadata": {},
   "outputs": [
    {
     "data": {
      "text/plain": [
       "array([0, 3])"
      ]
     },
     "execution_count": 86,
     "metadata": {},
     "output_type": "execute_result"
    }
   ],
   "source": [
    "a[[True, False, False, True]]"
   ]
  },
  {
   "cell_type": "code",
   "execution_count": 89,
   "id": "55542b31-fe8d-4606-8c40-9710f1d25a14",
   "metadata": {},
   "outputs": [
    {
     "data": {
      "text/plain": [
       "array([0, 1, 2, 3])"
      ]
     },
     "execution_count": 89,
     "metadata": {},
     "output_type": "execute_result"
    }
   ],
   "source": [
    "a"
   ]
  },
  {
   "cell_type": "code",
   "execution_count": 88,
   "id": "20118ed6-3bc5-435c-8428-22c110338b98",
   "metadata": {},
   "outputs": [
    {
     "data": {
      "text/plain": [
       "array([False, False,  True,  True])"
      ]
     },
     "execution_count": 88,
     "metadata": {},
     "output_type": "execute_result"
    }
   ],
   "source": [
    "a >= 2"
   ]
  },
  {
   "cell_type": "code",
   "execution_count": 90,
   "id": "360535cd-ca08-4e7e-836d-f82a41406783",
   "metadata": {},
   "outputs": [
    {
     "data": {
      "text/plain": [
       "array([2, 3])"
      ]
     },
     "execution_count": 90,
     "metadata": {},
     "output_type": "execute_result"
    }
   ],
   "source": [
    "a[a >= 2]"
   ]
  },
  {
   "cell_type": "code",
   "execution_count": 91,
   "id": "ee4133af-3fda-4922-a842-e3a11ea43d23",
   "metadata": {},
   "outputs": [
    {
     "data": {
      "text/plain": [
       "1.5"
      ]
     },
     "execution_count": 91,
     "metadata": {},
     "output_type": "execute_result"
    }
   ],
   "source": [
    "a.mean()"
   ]
  },
  {
   "cell_type": "code",
   "execution_count": 92,
   "id": "4ceb5125-73c8-4712-9927-1a33401c960d",
   "metadata": {
    "scrolled": true
   },
   "outputs": [
    {
     "data": {
      "text/plain": [
       "array([2, 3])"
      ]
     },
     "execution_count": 92,
     "metadata": {},
     "output_type": "execute_result"
    }
   ],
   "source": [
    "a[a > a.mean()]"
   ]
  },
  {
   "cell_type": "code",
   "execution_count": 93,
   "id": "2286cf9b-93bc-4f41-90c4-c900d3e83182",
   "metadata": {},
   "outputs": [
    {
     "data": {
      "text/plain": [
       "array([0, 1])"
      ]
     },
     "execution_count": 93,
     "metadata": {},
     "output_type": "execute_result"
    }
   ],
   "source": [
    "a[~(a > a.mean())]"
   ]
  },
  {
   "cell_type": "code",
   "execution_count": 94,
   "id": "25f12195-8fdc-4904-a8f7-b1a72565bcd4",
   "metadata": {},
   "outputs": [
    {
     "data": {
      "text/plain": [
       "array([0, 1])"
      ]
     },
     "execution_count": 94,
     "metadata": {},
     "output_type": "execute_result"
    }
   ],
   "source": [
    "a[(a == 0) | (a == 1)]"
   ]
  },
  {
   "cell_type": "code",
   "execution_count": 95,
   "id": "2aee8d76-9c20-4c09-8b18-8e83f09f6e5b",
   "metadata": {},
   "outputs": [
    {
     "data": {
      "text/plain": [
       "array([0, 2])"
      ]
     },
     "execution_count": 95,
     "metadata": {},
     "output_type": "execute_result"
    }
   ],
   "source": [
    "a[(a <= 2) & (a % 2 == 0)]"
   ]
  },
  {
   "cell_type": "code",
   "execution_count": 96,
   "id": "954ae3b8-58fc-4127-98d9-b87e27549dc1",
   "metadata": {},
   "outputs": [],
   "source": [
    "A = np.random.randint(100, size=(3, 3))"
   ]
  },
  {
   "cell_type": "code",
   "execution_count": 97,
   "id": "d858c991-f756-4355-b749-e7b2b51e173a",
   "metadata": {},
   "outputs": [
    {
     "data": {
      "text/plain": [
       "array([[71,  6, 42],\n",
       "       [40, 94, 24],\n",
       "       [ 2, 85, 36]])"
      ]
     },
     "execution_count": 97,
     "metadata": {},
     "output_type": "execute_result"
    }
   ],
   "source": [
    "A"
   ]
  },
  {
   "cell_type": "code",
   "execution_count": 98,
   "id": "68172eee-2dae-42b8-8076-e4193d2fcafa",
   "metadata": {},
   "outputs": [
    {
     "data": {
      "text/plain": [
       "array([71, 42, 94,  2, 36])"
      ]
     },
     "execution_count": 98,
     "metadata": {},
     "output_type": "execute_result"
    }
   ],
   "source": [
    "A[np.array([\n",
    "    [True, False, True],\n",
    "    [False, True, False],\n",
    "    [True, False, True]\n",
    "])]"
   ]
  },
  {
   "cell_type": "code",
   "execution_count": 99,
   "id": "e9f1c1bd-80b7-43a9-a930-3c6528f6494e",
   "metadata": {},
   "outputs": [
    {
     "data": {
      "text/plain": [
       "array([[ True, False,  True],\n",
       "       [ True,  True, False],\n",
       "       [False,  True,  True]])"
      ]
     },
     "execution_count": 99,
     "metadata": {},
     "output_type": "execute_result"
    }
   ],
   "source": [
    "A > 30"
   ]
  },
  {
   "cell_type": "code",
   "execution_count": 100,
   "id": "c67232e4-4423-4bb4-8a41-bff7a4b67d7f",
   "metadata": {},
   "outputs": [
    {
     "data": {
      "text/plain": [
       "array([71, 42, 40, 94, 85, 36])"
      ]
     },
     "execution_count": 100,
     "metadata": {},
     "output_type": "execute_result"
    }
   ],
   "source": [
    "A[A > 30]"
   ]
  },
  {
   "cell_type": "markdown",
   "id": "236441f1-b8d7-4f1a-8ef9-1f8943860bdd",
   "metadata": {},
   "source": [
    "## Searching Arrays"
   ]
  },
  {
   "cell_type": "markdown",
   "id": "4e5b6258-0ddd-444a-8776-cadebefb642e",
   "metadata": {},
   "source": [
    "__where() methodu ile arrayde arama yapabiliriz.  \n",
    "Geriye döndürdüğü değer eşleşen elemanların index numaraları olur.__ "
   ]
  },
  {
   "cell_type": "code",
   "execution_count": 19,
   "id": "8b46bef0-5221-4fc4-89db-e186c86e94fc",
   "metadata": {},
   "outputs": [
    {
     "name": "stdout",
     "output_type": "stream",
     "text": [
      "(array([3, 5, 6], dtype=int64),)\n"
     ]
    }
   ],
   "source": [
    "import numpy as np\n",
    "\n",
    "arr = np.array([1, 2, 3, 4, 5, 4, 4])\n",
    "\n",
    "x = np.where((arr == 4))\n",
    "\n",
    "print(x)"
   ]
  },
  {
   "cell_type": "code",
   "execution_count": 237,
   "id": "2ba8a07d-8e8d-4647-a978-7399c8984938",
   "metadata": {},
   "outputs": [
    {
     "name": "stdout",
     "output_type": "stream",
     "text": [
      "[4 4 4]\n"
     ]
    }
   ],
   "source": [
    "\n",
    "print(arr[arr==4])"
   ]
  },
  {
   "cell_type": "code",
   "execution_count": 10,
   "id": "c0e3cadf-3298-4382-8be7-23f6b333461a",
   "metadata": {},
   "outputs": [
    {
     "name": "stdout",
     "output_type": "stream",
     "text": [
      "(array([1], dtype=int64),)\n"
     ]
    }
   ],
   "source": [
    "x2 = np.where( (arr <= 2) & (arr % 2 == 0) )\n",
    "print(x2)"
   ]
  },
  {
   "cell_type": "code",
   "execution_count": 14,
   "id": "9ab1ba75-364d-40b7-a43a-ad2e77b18496",
   "metadata": {},
   "outputs": [
    {
     "name": "stdout",
     "output_type": "stream",
     "text": [
      "(array([0, 1, 3, 5, 6], dtype=int64),)\n"
     ]
    }
   ],
   "source": [
    "\n",
    "x3 = np.where( (arr <= 2) | (arr % 2 == 0) )\n",
    "print(x3)"
   ]
  },
  {
   "cell_type": "code",
   "execution_count": 20,
   "id": "98f2a648-5321-4031-8820-4bb65a2a624f",
   "metadata": {},
   "outputs": [],
   "source": [
    "arr2 = np.array([[1, 2], [3, 4], [5, 6], [7, 8], [9, 10], [11, 12]])"
   ]
  },
  {
   "cell_type": "code",
   "execution_count": 21,
   "id": "3cb56017-e82a-41b1-a3bc-9bcec74e6842",
   "metadata": {},
   "outputs": [],
   "source": [
    "x4 = np.where( (arr2 <= 2) | (arr2 % 2 == 0) )"
   ]
  },
  {
   "cell_type": "code",
   "execution_count": 22,
   "id": "7d035b26-a0f1-4cd2-8e17-ef81bb457eb7",
   "metadata": {},
   "outputs": [
    {
     "name": "stdout",
     "output_type": "stream",
     "text": [
      "(array([0, 0, 1, 2, 3, 4, 5], dtype=int64), array([0, 1, 1, 1, 1, 1, 1], dtype=int64))\n"
     ]
    }
   ],
   "source": [
    "print(x4)"
   ]
  },
  {
   "cell_type": "markdown",
   "id": "53878cd7-a85b-4db8-bd8a-ed7c85eea054",
   "metadata": {},
   "source": [
    "****\n",
    "# NumPy ile Rastgele Sayılar Üretmek | NumPy Random"
   ]
  },
  {
   "cell_type": "markdown",
   "id": "f8544f51-98d1-4ab2-9607-1c2f1706781a",
   "metadata": {},
   "source": [
    "__Random integer sayılar üretmek için \"randint( )\" kullanılır :__"
   ]
  },
  {
   "cell_type": "code",
   "execution_count": 232,
   "id": "412c6e93-b138-4acb-9733-c65271e9fcb7",
   "metadata": {},
   "outputs": [
    {
     "name": "stdout",
     "output_type": "stream",
     "text": [
      "94\n"
     ]
    }
   ],
   "source": [
    "from numpy import random\n",
    "\n",
    "x = random.randint(100)   # 0-100 aralığında integer değerler üretir. Bitiş(100) dahil değil.\n",
    "\n",
    "print(x)"
   ]
  },
  {
   "cell_type": "code",
   "execution_count": 212,
   "id": "554de0d4-fbd4-44cb-ba10-3772a8b9c238",
   "metadata": {},
   "outputs": [],
   "source": [
    "# Methodu her çalıştırmanızda farklı bir sayı üretecektir."
   ]
  },
  {
   "cell_type": "code",
   "execution_count": 235,
   "id": "c1c3ac55-6111-419c-a5d4-bde5b81dbd64",
   "metadata": {},
   "outputs": [
    {
     "name": "stdout",
     "output_type": "stream",
     "text": [
      "8\n"
     ]
    }
   ],
   "source": [
    "\n",
    "x = random.randint(1, 10)   # 1-10 aralığında integer değerler üretir. Bitiş(10) dahil değil.\n",
    "\n",
    "print(x)"
   ]
  },
  {
   "cell_type": "code",
   "execution_count": 237,
   "id": "e4703048-8ebb-43df-854b-14adb3770e0c",
   "metadata": {},
   "outputs": [
    {
     "name": "stdout",
     "output_type": "stream",
     "text": [
      "0\n"
     ]
    }
   ],
   "source": [
    "x = random.randint(2)   # 2 dahil olmayacağı için 0 veya 1 üretir. \n",
    "\n",
    "print(x)"
   ]
  },
  {
   "cell_type": "code",
   "execution_count": 238,
   "id": "4f84b955-0364-4296-999c-a641116c22e2",
   "metadata": {},
   "outputs": [
    {
     "name": "stdout",
     "output_type": "stream",
     "text": [
      "[0 1 0 0 1 1 1 1 0 1]\n"
     ]
    }
   ],
   "source": [
    "# \"size\" parametresi ile girilen değerlerde bir shape'e sahip array üretilebilir :\n",
    "\n",
    "arr = np.random.randint(2, size=10)  # 10 elemanlı 1-D array olur; shape(10,) girilmiş oldu.\n",
    "\n",
    "print(arr)\n"
   ]
  },
  {
   "cell_type": "code",
   "execution_count": 239,
   "id": "c2f25561-eb71-426d-af12-5fa5357cb5a5",
   "metadata": {},
   "outputs": [
    {
     "name": "stdout",
     "output_type": "stream",
     "text": [
      "[5 2 5 2 7 7 1 2 3 6]\n"
     ]
    }
   ],
   "source": [
    "\n",
    "arr = np.random.randint(8, size=10) \n",
    "\n",
    "print(arr)"
   ]
  },
  {
   "cell_type": "code",
   "execution_count": 241,
   "id": "4ad07705-a77f-4078-968c-e832979e3a7b",
   "metadata": {},
   "outputs": [
    {
     "name": "stdout",
     "output_type": "stream",
     "text": [
      "[[0 1 0 0]\n",
      " [1 1 0 1]\n",
      " [1 1 0 0]]\n"
     ]
    }
   ],
   "source": [
    "\n",
    "arr = np.random.randint(2, size=(3,4))  # 2-D array olur; shape(3,4) girilmiş oldu.\n",
    "\n",
    "print(arr)"
   ]
  },
  {
   "cell_type": "code",
   "execution_count": 242,
   "id": "bf8fee2c-e3cc-410a-9533-0a4e531b0442",
   "metadata": {},
   "outputs": [
    {
     "name": "stdout",
     "output_type": "stream",
     "text": [
      "[[[0 0 0 0 0 0 0 0]\n",
      "  [0 0 0 0 0 0 0 0]\n",
      "  [0 0 0 0 0 0 0 0]\n",
      "  [0 0 0 0 0 0 0 0]\n",
      "  [0 0 0 0 0 0 0 0]\n",
      "  [0 0 0 0 0 0 0 0]]\n",
      "\n",
      " [[0 0 0 0 0 0 0 0]\n",
      "  [0 0 0 0 0 0 0 0]\n",
      "  [0 0 0 0 0 0 0 0]\n",
      "  [0 0 0 0 0 0 0 0]\n",
      "  [0 0 0 0 0 0 0 0]\n",
      "  [0 0 0 0 0 0 0 0]]\n",
      "\n",
      " [[0 0 0 0 0 0 0 0]\n",
      "  [0 0 0 0 0 0 0 0]\n",
      "  [0 0 0 0 0 0 0 0]\n",
      "  [0 0 0 0 0 0 0 0]\n",
      "  [0 0 0 0 0 0 0 0]\n",
      "  [0 0 0 0 0 0 0 0]]\n",
      "\n",
      " [[0 0 0 0 0 0 0 0]\n",
      "  [0 0 0 0 0 0 0 0]\n",
      "  [0 0 0 0 0 0 0 0]\n",
      "  [0 0 0 0 0 0 0 0]\n",
      "  [0 0 0 0 0 0 0 0]\n",
      "  [0 0 0 0 0 0 0 0]]]\n"
     ]
    }
   ],
   "source": [
    "\n",
    "arr = np.random.randint(1, size=(4,6,8))\n",
    "\n",
    "print(arr)"
   ]
  },
  {
   "cell_type": "code",
   "execution_count": null,
   "id": "72ff2c59-4361-4960-9aa9-9977bf2edce4",
   "metadata": {},
   "outputs": [],
   "source": []
  },
  {
   "cell_type": "code",
   "execution_count": null,
   "id": "4500e5b2-ca45-40d7-9943-07c33bb596d8",
   "metadata": {},
   "outputs": [],
   "source": []
  },
  {
   "cell_type": "code",
   "execution_count": null,
   "id": "e1b63c7e-9eb2-44e7-8de5-7edf1fab202f",
   "metadata": {},
   "outputs": [],
   "source": []
  },
  {
   "cell_type": "code",
   "execution_count": null,
   "id": "0373f723-fb77-4495-8400-5bac11d4fc31",
   "metadata": {},
   "outputs": [],
   "source": []
  },
  {
   "cell_type": "markdown",
   "id": "5a647e6a-52b1-4dd6-96ed-2fd685b10116",
   "metadata": {},
   "source": [
    "__Random float sayılar üretmek için \"rand( )\" kullanılır :__"
   ]
  },
  {
   "cell_type": "code",
   "execution_count": 207,
   "id": "8c8520e8-6de2-48ed-8fdd-1d3bdbb74ac8",
   "metadata": {},
   "outputs": [
    {
     "name": "stdout",
     "output_type": "stream",
     "text": [
      "0.5983181005722374\n"
     ]
    }
   ],
   "source": [
    "from numpy import random\n",
    "\n",
    "x = random.rand()  # 0-1 aralığında random float sayılar üretir.\n",
    "\n",
    "print(x)"
   ]
  },
  {
   "cell_type": "code",
   "execution_count": 244,
   "id": "b7f7ff04-367c-4fc6-b410-62e04d84ab2c",
   "metadata": {},
   "outputs": [
    {
     "name": "stdout",
     "output_type": "stream",
     "text": [
      "[[0.15732417 0.43096005]\n",
      " [0.04306633 0.52777655]\n",
      " [0.56969284 0.84342132]]\n"
     ]
    }
   ],
   "source": [
    "\n",
    "#randint() methodu gibi bir \"size\" parametresi yoktur.\n",
    "#başlangıç-bitiş değerleri girilen parametreler yoktur.\n",
    "#method içerisine gireceğiniz sayılar array'in shape'ini belirler.\n",
    "\n",
    "x = np.random.rand(3,2)\n",
    "\n",
    "print(x)"
   ]
  },
  {
   "cell_type": "code",
   "execution_count": 245,
   "id": "8b8daae3-3de3-4d82-913f-eb04616479eb",
   "metadata": {},
   "outputs": [
    {
     "name": "stdout",
     "output_type": "stream",
     "text": [
      "[[[0.23103209 0.48319898 0.62922341 0.38360603]\n",
      "  [0.95362398 0.57509072 0.19411867 0.75813025]\n",
      "  [0.34869507 0.96867293 0.21713123 0.75459658]\n",
      "  [0.52296882 0.01869567 0.89550283 0.47698821]]\n",
      "\n",
      " [[0.23372844 0.72387758 0.89266814 0.79175936]\n",
      "  [0.8461283  0.7447744  0.20169117 0.15464836]\n",
      "  [0.02538217 0.57718549 0.24392683 0.26891428]\n",
      "  [0.28696267 0.00947459 0.92029695 0.55167615]]\n",
      "\n",
      " [[0.80338696 0.57413946 0.55726676 0.12491316]\n",
      "  [0.37997322 0.06934149 0.92540178 0.82627154]\n",
      "  [0.91711793 0.13877431 0.78205458 0.9029612 ]\n",
      "  [0.60316504 0.9374367  0.25614719 0.73196434]]]\n"
     ]
    }
   ],
   "source": [
    "\n",
    "x = np.random.rand(3,4,4)\n",
    "\n",
    "print(x)"
   ]
  },
  {
   "cell_type": "code",
   "execution_count": null,
   "id": "2eaded0c-3154-48c5-bc12-a8f4cd9c867a",
   "metadata": {},
   "outputs": [],
   "source": []
  },
  {
   "cell_type": "code",
   "execution_count": null,
   "id": "2852d90d-b9bc-41bb-beb6-eaac4ce3b86d",
   "metadata": {},
   "outputs": [],
   "source": []
  },
  {
   "cell_type": "code",
   "execution_count": null,
   "id": "0ff1e97e-c7f2-42d5-8fe6-4e0de4a92528",
   "metadata": {},
   "outputs": [],
   "source": []
  },
  {
   "cell_type": "code",
   "execution_count": null,
   "id": "c7271cdb-0d6e-467c-a9e6-0470aeefb8cb",
   "metadata": {},
   "outputs": [],
   "source": []
  },
  {
   "cell_type": "markdown",
   "id": "b2bc6cda-1625-411d-837d-72ad89232b72",
   "metadata": {},
   "source": [
    "## Zeros( )"
   ]
  },
  {
   "cell_type": "code",
   "execution_count": null,
   "id": "b7eaf776-245a-4bb9-bcd5-aa93543de7b1",
   "metadata": {},
   "outputs": [
    {
     "data": {
      "text/plain": [
       "array([0., 0., 0.])"
      ]
     },
     "execution_count": 202,
     "metadata": {},
     "output_type": "execute_result"
    }
   ],
   "source": [
    "np.zeros(3)"
   ]
  },
  {
   "cell_type": "code",
   "execution_count": null,
   "id": "6651111e-e28a-4886-8e17-9faa41d3171a",
   "metadata": {},
   "outputs": [
    {
     "name": "stdout",
     "output_type": "stream",
     "text": [
      "[0. 0. 0. 0. 0.]\n"
     ]
    }
   ],
   "source": [
    "arr = np.zeros(5)\n",
    "\n",
    "print(arr)"
   ]
  },
  {
   "cell_type": "code",
   "execution_count": null,
   "id": "6c78c59a-07e5-4661-a9b6-68cd9b60b1d4",
   "metadata": {},
   "outputs": [
    {
     "name": "stdout",
     "output_type": "stream",
     "text": [
      "[0]\n",
      "1\n"
     ]
    }
   ],
   "source": [
    "\n",
    "arr = np.zeros(1, dtype='int')\n",
    "\n",
    "print(arr)\n",
    "print(arr.ndim)"
   ]
  },
  {
   "cell_type": "code",
   "execution_count": null,
   "id": "11b4cbaf-fe5d-46ed-8442-760f9d183069",
   "metadata": {},
   "outputs": [
    {
     "name": "stdout",
     "output_type": "stream",
     "text": [
      "[[0 0]]\n",
      "2\n"
     ]
    }
   ],
   "source": [
    "\n",
    "arr = np.zeros((1,2), dtype='int')\n",
    "\n",
    "print(arr)\n",
    "print(arr.ndim)"
   ]
  },
  {
   "cell_type": "code",
   "execution_count": null,
   "id": "d123b2a6-d78b-4962-a5a1-9f50091d7499",
   "metadata": {},
   "outputs": [
    {
     "name": "stdout",
     "output_type": "stream",
     "text": [
      "[[0 0 0 0]]\n",
      "2\n"
     ]
    }
   ],
   "source": [
    "arr = np.zeros((1,4), dtype='int')\n",
    "\n",
    "print(arr)\n",
    "print(arr.ndim)"
   ]
  },
  {
   "cell_type": "code",
   "execution_count": null,
   "id": "a7d415ca-3fa5-44f4-b523-c7bc6bcaf80b",
   "metadata": {},
   "outputs": [
    {
     "name": "stdout",
     "output_type": "stream",
     "text": [
      "[[0 0 0 0]\n",
      " [0 0 0 0]]\n",
      "2\n"
     ]
    }
   ],
   "source": [
    "\n",
    "arr = np.zeros((2,4), dtype='int')\n",
    "\n",
    "print(arr)\n",
    "print(arr.ndim)"
   ]
  },
  {
   "cell_type": "code",
   "execution_count": null,
   "id": "6fb3d878-757d-4fc1-9688-59408f49bc4b",
   "metadata": {},
   "outputs": [
    {
     "name": "stdout",
     "output_type": "stream",
     "text": [
      "[[[0]\n",
      "  [0]\n",
      "  [0]\n",
      "  [0]]\n",
      "\n",
      " [[0]\n",
      "  [0]\n",
      "  [0]\n",
      "  [0]]]\n",
      "3\n"
     ]
    }
   ],
   "source": [
    "arr = np.zeros((2,4,1), dtype='int')\n",
    "\n",
    "print(arr)\n",
    "print(arr.ndim)  # Boyut en dıştan an içe doğru gidiyor, her boyuttaki eleman sayısı da\n",
    "                 # soldan sağa doğru ilerliyor. (2,4,1) "
   ]
  },
  {
   "cell_type": "code",
   "execution_count": null,
   "id": "5ae728d6-29ab-4869-87f1-203798b08ad0",
   "metadata": {},
   "outputs": [
    {
     "name": "stdout",
     "output_type": "stream",
     "text": [
      "[[[0 0]\n",
      "  [0 0]\n",
      "  [0 0]\n",
      "  [0 0]]\n",
      "\n",
      " [[0 0]\n",
      "  [0 0]\n",
      "  [0 0]\n",
      "  [0 0]]]\n",
      "3\n"
     ]
    }
   ],
   "source": [
    "arr = np.zeros((2,4,2), dtype='int')\n",
    "\n",
    "print(arr)\n",
    "print(arr.ndim)"
   ]
  },
  {
   "cell_type": "code",
   "execution_count": null,
   "id": "a377956d-0b1a-47c7-9c8d-2b19c7ed518d",
   "metadata": {},
   "outputs": [
    {
     "name": "stdout",
     "output_type": "stream",
     "text": [
      "[[[0 0 0]\n",
      "  [0 0 0]\n",
      "  [0 0 0]\n",
      "  [0 0 0]]\n",
      "\n",
      " [[0 0 0]\n",
      "  [0 0 0]\n",
      "  [0 0 0]\n",
      "  [0 0 0]]]\n",
      "3\n"
     ]
    }
   ],
   "source": [
    "arr = np.zeros((2,4,3), dtype='int')\n",
    "\n",
    "print(arr)\n",
    "print(arr.ndim)"
   ]
  },
  {
   "cell_type": "code",
   "execution_count": null,
   "id": "96828d66-e14f-4bf3-b60a-12faec76b911",
   "metadata": {},
   "outputs": [
    {
     "name": "stdout",
     "output_type": "stream",
     "text": [
      "[[[0 0 0 0]\n",
      "  [0 0 0 0]\n",
      "  [0 0 0 0]\n",
      "  [0 0 0 0]]\n",
      "\n",
      " [[0 0 0 0]\n",
      "  [0 0 0 0]\n",
      "  [0 0 0 0]\n",
      "  [0 0 0 0]]]\n",
      "3\n"
     ]
    }
   ],
   "source": [
    "arr = np.zeros((2,4,4), dtype='int')\n",
    "\n",
    "print(arr)\n",
    "print(arr.ndim)"
   ]
  },
  {
   "cell_type": "code",
   "execution_count": null,
   "id": "004825d1-e096-4906-b8a9-aca713e78689",
   "metadata": {},
   "outputs": [
    {
     "name": "stdout",
     "output_type": "stream",
     "text": [
      "[[[0 0 0 0]\n",
      "  [0 0 0 0]\n",
      "  [0 0 0 0]\n",
      "  [0 0 0 0]]\n",
      "\n",
      " [[0 0 0 0]\n",
      "  [0 0 0 0]\n",
      "  [0 0 0 0]\n",
      "  [0 0 0 0]]\n",
      "\n",
      " [[0 0 0 0]\n",
      "  [0 0 0 0]\n",
      "  [0 0 0 0]\n",
      "  [0 0 0 0]]]\n",
      "3\n"
     ]
    }
   ],
   "source": [
    "arr = np.zeros((3,4,4), dtype='int')\n",
    "\n",
    "print(arr)\n",
    "print(arr.ndim)"
   ]
  },
  {
   "cell_type": "code",
   "execution_count": null,
   "id": "0d0e811d-b585-44ce-ba76-6e40a5c1175e",
   "metadata": {},
   "outputs": [
    {
     "name": "stdout",
     "output_type": "stream",
     "text": [
      "[[[0 0 0 0]\n",
      "  [0 0 0 0]\n",
      "  [0 0 0 0]\n",
      "  [0 0 0 0]]\n",
      "\n",
      " [[0 0 0 0]\n",
      "  [0 0 0 0]\n",
      "  [0 0 0 0]\n",
      "  [0 0 0 0]]\n",
      "\n",
      " [[0 0 0 0]\n",
      "  [0 0 0 0]\n",
      "  [0 0 0 0]\n",
      "  [0 0 0 0]]\n",
      "\n",
      " [[0 0 0 0]\n",
      "  [0 0 0 0]\n",
      "  [0 0 0 0]\n",
      "  [0 0 0 0]]]\n",
      "3\n"
     ]
    }
   ],
   "source": [
    "arr = np.zeros((4,4,4), dtype='int')\n",
    "\n",
    "print(arr)\n",
    "print(arr.ndim)"
   ]
  },
  {
   "cell_type": "markdown",
   "id": "9605e188-da2e-4609-9932-cb35bcdca160",
   "metadata": {},
   "source": [
    "****\n",
    "__zeros_like() methodu :__"
   ]
  },
  {
   "cell_type": "markdown",
   "id": "459bbd90-4fe8-46cb-9264-8b23279b7567",
   "metadata": {},
   "source": [
    "__zeros_like() methoduna parametre olarak bir array verilir.   \n",
    "Verilen array ile aynı shape ve data tipi özelliğine sahip bir zeros array döndürür.__  \n"
   ]
  },
  {
   "cell_type": "code",
   "execution_count": null,
   "id": "88a53401-133f-4281-a1f7-93c80a6454e2",
   "metadata": {},
   "outputs": [
    {
     "name": "stdout",
     "output_type": "stream",
     "text": [
      "[[[ 0  1  2  3]\n",
      "  [ 4  5  6  7]\n",
      "  [ 8  9 10 11]\n",
      "  [12 13 14 15]]\n",
      "\n",
      " [[16 17 18 19]\n",
      "  [20 21 22 23]\n",
      "  [24 25 26 27]\n",
      "  [28 29 30 31]]\n",
      "\n",
      " [[32 33 34 35]\n",
      "  [36 37 38 39]\n",
      "  [40 41 42 43]\n",
      "  [44 45 46 47]]]\n"
     ]
    }
   ],
   "source": [
    "arr = np.arange(48).reshape(3,4,4)\n",
    "print(arr)"
   ]
  },
  {
   "cell_type": "code",
   "execution_count": null,
   "id": "7da6c66a-3625-4989-8ff1-fdfc28f68494",
   "metadata": {},
   "outputs": [
    {
     "name": "stdout",
     "output_type": "stream",
     "text": [
      "[[[0 0 0 0]\n",
      "  [0 0 0 0]\n",
      "  [0 0 0 0]\n",
      "  [0 0 0 0]]\n",
      "\n",
      " [[0 0 0 0]\n",
      "  [0 0 0 0]\n",
      "  [0 0 0 0]\n",
      "  [0 0 0 0]]\n",
      "\n",
      " [[0 0 0 0]\n",
      "  [0 0 0 0]\n",
      "  [0 0 0 0]\n",
      "  [0 0 0 0]]]\n"
     ]
    }
   ],
   "source": [
    "zlike_array = np.zeros_like(arr)\n",
    "\n",
    "print(zlike_array)"
   ]
  },
  {
   "cell_type": "markdown",
   "id": "a32505b9-cea3-4c75-b7c7-5c34e21f1721",
   "metadata": {},
   "source": [
    "## Ones( )"
   ]
  },
  {
   "cell_type": "code",
   "execution_count": null,
   "id": "3d570f18-554c-4f86-81e5-1dd857dd9499",
   "metadata": {},
   "outputs": [
    {
     "name": "stdout",
     "output_type": "stream",
     "text": [
      "[1. 1. 1. 1. 1.]\n"
     ]
    }
   ],
   "source": [
    "arr_ones = np.ones(5)\n",
    "\n",
    "print(arr_ones)"
   ]
  },
  {
   "cell_type": "code",
   "execution_count": null,
   "id": "0c32c0b0-3c9e-4212-b15c-03e29548b341",
   "metadata": {},
   "outputs": [
    {
     "name": "stdout",
     "output_type": "stream",
     "text": [
      "[1 1 1 1 1]\n"
     ]
    }
   ],
   "source": [
    "\n",
    "arr_ones = np.ones(5, dtype=int)\n",
    "\n",
    "print(arr_ones)"
   ]
  },
  {
   "cell_type": "code",
   "execution_count": null,
   "id": "adc116fd-217d-46d0-9975-35f286e7aa5f",
   "metadata": {},
   "outputs": [
    {
     "name": "stdout",
     "output_type": "stream",
     "text": [
      "[[1 1 1 1 1]]\n"
     ]
    }
   ],
   "source": [
    "\n",
    "arr_ones = np.ones((1,5), dtype=int)\n",
    "\n",
    "print(arr_ones)"
   ]
  },
  {
   "cell_type": "code",
   "execution_count": null,
   "id": "e57d4b11-32f5-4f69-89f3-88d5da057f81",
   "metadata": {},
   "outputs": [
    {
     "name": "stdout",
     "output_type": "stream",
     "text": [
      "[[1 1 1 1 1]\n",
      " [1 1 1 1 1]]\n"
     ]
    }
   ],
   "source": [
    "\n",
    "arr_ones = np.ones((2,5), dtype=int)\n",
    "\n",
    "print(arr_ones)\n"
   ]
  },
  {
   "cell_type": "code",
   "execution_count": null,
   "id": "fd1b19db-3252-487e-9060-ecd3a59da3d9",
   "metadata": {},
   "outputs": [
    {
     "name": "stdout",
     "output_type": "stream",
     "text": [
      "[[1 1 1 1 1]\n",
      " [1 1 1 1 1]\n",
      " [1 1 1 1 1]]\n"
     ]
    }
   ],
   "source": [
    "\n",
    "arr_ones = np.ones((3,5), dtype=int)\n",
    "\n",
    "print(arr_ones)\n"
   ]
  },
  {
   "cell_type": "code",
   "execution_count": null,
   "id": "cc68c6e3-adf9-4cdf-9795-c892d5f82e58",
   "metadata": {},
   "outputs": [
    {
     "name": "stdout",
     "output_type": "stream",
     "text": [
      "[[[1 1 1 1 1]]]\n"
     ]
    }
   ],
   "source": [
    "\n",
    "arr_ones = np.ones((1,1,5), dtype=int)\n",
    "\n",
    "print(arr_ones)\n"
   ]
  },
  {
   "cell_type": "code",
   "execution_count": null,
   "id": "7a7789d7-7d9c-40df-9daa-29c2259b7162",
   "metadata": {},
   "outputs": [
    {
     "name": "stdout",
     "output_type": "stream",
     "text": [
      "[[[1 1 1 1 1]\n",
      "  [1 1 1 1 1]]]\n"
     ]
    }
   ],
   "source": [
    "\n",
    "arr_ones = np.ones((1,2,5), dtype=int)\n",
    "\n",
    "print(arr_ones)\n"
   ]
  },
  {
   "cell_type": "code",
   "execution_count": null,
   "id": "086fc986-7d1b-4024-9b73-aa7285b0ee44",
   "metadata": {},
   "outputs": [
    {
     "name": "stdout",
     "output_type": "stream",
     "text": [
      "[[[1 1 1 1 1]\n",
      "  [1 1 1 1 1]\n",
      "  [1 1 1 1 1]]]\n"
     ]
    }
   ],
   "source": [
    "\n",
    "arr_ones = np.ones((1,3,5), dtype=int)\n",
    "\n",
    "print(arr_ones)\n"
   ]
  },
  {
   "cell_type": "code",
   "execution_count": null,
   "id": "3945d911-3347-4ae1-b732-d165b0109e01",
   "metadata": {},
   "outputs": [
    {
     "name": "stdout",
     "output_type": "stream",
     "text": [
      "[[[1 1 1 1 1]\n",
      "  [1 1 1 1 1]\n",
      "  [1 1 1 1 1]]\n",
      "\n",
      " [[1 1 1 1 1]\n",
      "  [1 1 1 1 1]\n",
      "  [1 1 1 1 1]]]\n"
     ]
    }
   ],
   "source": [
    "\n",
    "arr_ones = np.ones((2,3,5), dtype=int)\n",
    "\n",
    "print(arr_ones)\n"
   ]
  },
  {
   "cell_type": "code",
   "execution_count": null,
   "id": "df349ae6-1dd1-4ae3-8cf0-b4ef6bf72a67",
   "metadata": {},
   "outputs": [
    {
     "name": "stdout",
     "output_type": "stream",
     "text": [
      "[[[1 1 1 1 1]\n",
      "  [1 1 1 1 1]\n",
      "  [1 1 1 1 1]]\n",
      "\n",
      " [[1 1 1 1 1]\n",
      "  [1 1 1 1 1]\n",
      "  [1 1 1 1 1]]\n",
      "\n",
      " [[1 1 1 1 1]\n",
      "  [1 1 1 1 1]\n",
      "  [1 1 1 1 1]]]\n"
     ]
    }
   ],
   "source": [
    "\n",
    "arr_ones = np.ones((3,3,5), dtype=int)\n",
    "\n",
    "print(arr_ones)\n"
   ]
  },
  {
   "cell_type": "code",
   "execution_count": null,
   "id": "9eb6c253-2236-4b24-ac5b-e9d62a07e658",
   "metadata": {},
   "outputs": [
    {
     "name": "stdout",
     "output_type": "stream",
     "text": [
      "[[[1 1 1 1 1]\n",
      "  [1 1 1 1 1]\n",
      "  [1 1 1 1 1]\n",
      "  [1 1 1 1 1]]\n",
      "\n",
      " [[1 1 1 1 1]\n",
      "  [1 1 1 1 1]\n",
      "  [1 1 1 1 1]\n",
      "  [1 1 1 1 1]]\n",
      "\n",
      " [[1 1 1 1 1]\n",
      "  [1 1 1 1 1]\n",
      "  [1 1 1 1 1]\n",
      "  [1 1 1 1 1]]]\n"
     ]
    }
   ],
   "source": [
    "\n",
    "arr_ones = np.ones((3,4,5), dtype=int)\n",
    "\n",
    "print(arr_ones)\n"
   ]
  },
  {
   "cell_type": "markdown",
   "id": "0e797df0-0ee8-439e-b037-a548592c9cd0",
   "metadata": {},
   "source": [
    "****\n",
    "### ones_like()"
   ]
  },
  {
   "cell_type": "markdown",
   "id": "3e8c94a8-8bc8-4c5e-a4eb-e6aa00f5f0f0",
   "metadata": {},
   "source": [
    "__Parametre olarak girilen array ile aynı shape ve data tipi özelliklerine sahip  \n",
    "bir ones array geriye döndürür.__"
   ]
  },
  {
   "cell_type": "code",
   "execution_count": null,
   "id": "a585c64e-b24d-47c1-a0a3-0d70df22cf31",
   "metadata": {},
   "outputs": [
    {
     "name": "stdout",
     "output_type": "stream",
     "text": [
      "[0 1 2 3 4]\n",
      "(5,)\n"
     ]
    }
   ],
   "source": [
    "arr = np.arange(5)\n",
    "print(arr)\n",
    "print(arr.shape)"
   ]
  },
  {
   "cell_type": "code",
   "execution_count": null,
   "id": "524036ae-4206-4a95-8211-40bc898b14c7",
   "metadata": {},
   "outputs": [
    {
     "name": "stdout",
     "output_type": "stream",
     "text": [
      "[1 1 1 1 1]\n",
      "(5,)\n"
     ]
    }
   ],
   "source": [
    "\n",
    "olike_array = np.ones_like(arr)\n",
    "\n",
    "print(olike_array)\n",
    "print(olike_array.shape)"
   ]
  },
  {
   "cell_type": "code",
   "execution_count": null,
   "id": "3451a2c8-5302-4bff-a549-1abd936a4aa3",
   "metadata": {},
   "outputs": [
    {
     "name": "stdout",
     "output_type": "stream",
     "text": [
      "[[ 0  1  2  3]\n",
      " [ 4  5  6  7]\n",
      " [ 8  9 10 11]\n",
      " [12 13 14 15]]\n",
      "(4, 4)\n"
     ]
    }
   ],
   "source": [
    "\n",
    "arr = np.arange(16).reshape(4,4)\n",
    "\n",
    "print(arr)\n",
    "print(arr.shape)"
   ]
  },
  {
   "cell_type": "code",
   "execution_count": null,
   "id": "c8e4930e-75d3-431a-9f14-aa637d6cbc25",
   "metadata": {},
   "outputs": [
    {
     "name": "stdout",
     "output_type": "stream",
     "text": [
      "[[1 1 1 1]\n",
      " [1 1 1 1]\n",
      " [1 1 1 1]\n",
      " [1 1 1 1]]\n",
      "(4, 4)\n"
     ]
    }
   ],
   "source": [
    "\n",
    "olike_array = np.ones_like(arr)\n",
    "\n",
    "print(olike_array)\n",
    "print(olike_array.shape)"
   ]
  },
  {
   "cell_type": "markdown",
   "id": "f1c88905-c98c-4581-b510-5022723bb0e3",
   "metadata": {},
   "source": [
    "****\n",
    "## eye( )"
   ]
  },
  {
   "cell_type": "markdown",
   "id": "9050321e-a1df-4300-8533-e193f45a47d7",
   "metadata": {},
   "source": [
    "__Parametre olarak çıktıda istenilen satır_sayısını alır.  \n",
    "Diagonal 1'ler ile sıfırlardan oluşan 2-D bir matris, yani diagonal matris geriye döndürür.__"
   ]
  },
  {
   "cell_type": "code",
   "execution_count": 311,
   "id": "ae30f7fb-879c-491e-af8b-be6480d684bf",
   "metadata": {},
   "outputs": [
    {
     "data": {
      "text/plain": [
       "array([[1., 0.],\n",
       "       [0., 1.]])"
      ]
     },
     "execution_count": 311,
     "metadata": {},
     "output_type": "execute_result"
    }
   ],
   "source": [
    "np.eye(2)"
   ]
  },
  {
   "cell_type": "code",
   "execution_count": 312,
   "id": "076c056a-f443-4c2a-acaa-0be44715ff10",
   "metadata": {},
   "outputs": [
    {
     "data": {
      "text/plain": [
       "array([[1, 0],\n",
       "       [0, 1]])"
      ]
     },
     "execution_count": 312,
     "metadata": {},
     "output_type": "execute_result"
    }
   ],
   "source": [
    "\n",
    "np.eye(2, dtype=int)"
   ]
  },
  {
   "cell_type": "code",
   "execution_count": 313,
   "id": "888fcc72-1aac-4772-abfa-36431038e9aa",
   "metadata": {},
   "outputs": [
    {
     "data": {
      "text/plain": [
       "array([[1, 0, 0],\n",
       "       [0, 1, 0],\n",
       "       [0, 0, 1]])"
      ]
     },
     "execution_count": 313,
     "metadata": {},
     "output_type": "execute_result"
    }
   ],
   "source": [
    "\n",
    "np.eye(3, dtype=int)"
   ]
  },
  {
   "cell_type": "code",
   "execution_count": 314,
   "id": "aa46b2ce-84ba-4d5e-9e61-ae5dae9c843e",
   "metadata": {},
   "outputs": [
    {
     "data": {
      "text/plain": [
       "array([[1, 0, 0, 0],\n",
       "       [0, 1, 0, 0],\n",
       "       [0, 0, 1, 0],\n",
       "       [0, 0, 0, 1]])"
      ]
     },
     "execution_count": 314,
     "metadata": {},
     "output_type": "execute_result"
    }
   ],
   "source": [
    "\n",
    "np.eye(4, dtype=int)"
   ]
  },
  {
   "cell_type": "code",
   "execution_count": null,
   "id": "5a302e5d-5847-4b4f-a07c-3df8f6e68212",
   "metadata": {},
   "outputs": [],
   "source": []
  },
  {
   "cell_type": "markdown",
   "id": "7c2c592e-5fbc-47b4-b65d-eb2681590e30",
   "metadata": {},
   "source": [
    "****\n",
    "## transpose( )"
   ]
  },
  {
   "cell_type": "markdown",
   "id": "dbfbf7f1-5f92-438a-b3dd-535593953a46",
   "metadata": {},
   "source": [
    "<img src=\"numpy-transpose.png\">"
   ]
  },
  {
   "cell_type": "code",
   "execution_count": 247,
   "id": "6fa3447e-6a9b-4eea-a7fe-893b65a371d9",
   "metadata": {},
   "outputs": [
    {
     "name": "stdout",
     "output_type": "stream",
     "text": [
      "[[0 1]\n",
      " [2 3]]\n"
     ]
    }
   ],
   "source": [
    "x = np.arange(4).reshape((2,2))\n",
    "\n",
    "print(x)"
   ]
  },
  {
   "cell_type": "code",
   "execution_count": 248,
   "id": "234d64b2-9efc-4cdc-a4ed-f556f495b3d0",
   "metadata": {},
   "outputs": [
    {
     "data": {
      "text/plain": [
       "array([[0, 2],\n",
       "       [1, 3]])"
      ]
     },
     "execution_count": 248,
     "metadata": {},
     "output_type": "execute_result"
    }
   ],
   "source": [
    "\n",
    "np.transpose(x)"
   ]
  },
  {
   "cell_type": "code",
   "execution_count": 251,
   "id": "4b964414-77ff-4e25-878e-eb1a9a923c3e",
   "metadata": {},
   "outputs": [
    {
     "name": "stdout",
     "output_type": "stream",
     "text": [
      "[[[1 1 1]\n",
      "  [1 1 1]]]\n"
     ]
    }
   ],
   "source": [
    "\n",
    "x = np.ones((1, 2, 3), dtype=int)\n",
    "\n",
    "print(x)"
   ]
  },
  {
   "cell_type": "code",
   "execution_count": 253,
   "id": "7776d589-087c-4494-9774-06f1fee39c78",
   "metadata": {},
   "outputs": [
    {
     "data": {
      "text/plain": [
       "array([[[1],\n",
       "        [1]],\n",
       "\n",
       "       [[1],\n",
       "        [1]],\n",
       "\n",
       "       [[1],\n",
       "        [1]]])"
      ]
     },
     "execution_count": 253,
     "metadata": {},
     "output_type": "execute_result"
    }
   ],
   "source": [
    "\n",
    "np.transpose(x)  # array'in shape'inin (1,2,3)'ten (3,2,1)'e dönüştüğünü göreceksiniz:"
   ]
  },
  {
   "cell_type": "code",
   "execution_count": 255,
   "id": "b7a741fa-cd0c-4d1b-83b4-d5383c3d509f",
   "metadata": {},
   "outputs": [
    {
     "data": {
      "text/plain": [
       "(5, 4, 3, 2)"
      ]
     },
     "execution_count": 255,
     "metadata": {},
     "output_type": "execute_result"
    }
   ],
   "source": [
    "\n",
    "x = np.ones((2,3,4,5), dtype=int)\n",
    "\n",
    "np.transpose(x).shape"
   ]
  },
  {
   "cell_type": "code",
   "execution_count": null,
   "id": "6d3b24ae-6c7c-4944-a41e-c43f43809907",
   "metadata": {},
   "outputs": [],
   "source": []
  },
  {
   "cell_type": "code",
   "execution_count": null,
   "id": "7fd6359b-180c-41f7-b18d-a10c0754c40d",
   "metadata": {},
   "outputs": [],
   "source": []
  },
  {
   "cell_type": "markdown",
   "id": "42145c8a-ad51-4219-8b58-ac016774ee63",
   "metadata": {},
   "source": [
    "****\n",
    "## empty( ) "
   ]
  },
  {
   "cell_type": "markdown",
   "id": "08172397-0190-43d7-934d-9a7fe6b54963",
   "metadata": {},
   "source": [
    "__Parametre olarak shape girilir, opsiyonel olarak data type da girilebilir.  \n",
    "Data type, default olarak float64 tür.  \n",
    "Verilen shape ve data type özelliklerine sahip bir array'i girdiler(değerler) olmaksızın oluşturur.__"
   ]
  },
  {
   "cell_type": "code",
   "execution_count": 285,
   "id": "f1ff12cb-72b6-491c-8c2d-502ef5e1f17d",
   "metadata": {},
   "outputs": [
    {
     "name": "stdout",
     "output_type": "stream",
     "text": [
      "[2.12199579e-314 2.12199579e-314 2.12199579e-314 2.12199579e-314\n",
      " 2.12199579e-314]\n"
     ]
    }
   ],
   "source": [
    "arr = np.empty(5)\n",
    "\n",
    "print(arr)"
   ]
  },
  {
   "cell_type": "code",
   "execution_count": 288,
   "id": "6bf5946e-ed87-4d11-b708-25a94cf7e214",
   "metadata": {},
   "outputs": [
    {
     "name": "stdout",
     "output_type": "stream",
     "text": [
      "[1 1 1 1 1]\n"
     ]
    }
   ],
   "source": [
    "arr = np.empty(5, dtype=int)\n",
    "\n",
    "print(arr)"
   ]
  },
  {
   "cell_type": "code",
   "execution_count": 286,
   "id": "26217bf8-3dae-49b6-ad90-6667212c9b0f",
   "metadata": {},
   "outputs": [
    {
     "name": "stdout",
     "output_type": "stream",
     "text": [
      "[[2.12199579e-314 2.12199579e-314 2.12199579e-314 2.12199579e-314\n",
      "  2.12199579e-314]]\n"
     ]
    }
   ],
   "source": [
    "\n",
    "arr = np.empty((1,5))\n",
    "\n",
    "print(arr)\n"
   ]
  },
  {
   "cell_type": "code",
   "execution_count": 295,
   "id": "86443104-7c17-4bfe-8ee0-d72814b0fc35",
   "metadata": {},
   "outputs": [
    {
     "name": "stdout",
     "output_type": "stream",
     "text": [
      "[[0 1 2 3 4]]\n"
     ]
    }
   ],
   "source": [
    "\n",
    "arr = np.empty((1,5), dtype=int)\n",
    "\n",
    "print(arr)   #Value girişi yapılmadığı için her çalıştırıldığında farklı değerler üretebilir.\n"
   ]
  },
  {
   "cell_type": "code",
   "execution_count": 292,
   "id": "0c8c3129-5fbb-4a5d-836a-be71f7a40abb",
   "metadata": {},
   "outputs": [
    {
     "name": "stdout",
     "output_type": "stream",
     "text": [
      "[[6.23042070e-307 4.67296746e-307 1.69121096e-306 1.60218491e-306\n",
      "  1.89146896e-307]\n",
      " [7.56571288e-307 3.11525958e-307 1.24610723e-306 1.29061142e-306\n",
      "  5.53353523e-322]]\n"
     ]
    }
   ],
   "source": [
    "\n",
    "arr = np.empty((2,5))\n",
    "\n",
    "print(arr)"
   ]
  },
  {
   "cell_type": "code",
   "execution_count": 299,
   "id": "6012d219-da6f-4e6d-9f19-556422ff6468",
   "metadata": {},
   "outputs": [
    {
     "name": "stdout",
     "output_type": "stream",
     "text": [
      "[[1 1 1 1 1]\n",
      " [1 1 1 1 1]]\n"
     ]
    }
   ],
   "source": [
    "\n",
    "arr = np.empty((2,5), dtype=int)\n",
    "\n",
    "print(arr)\n"
   ]
  },
  {
   "cell_type": "markdown",
   "id": "7accb43e-0490-412b-872b-c59263c3ea7d",
   "metadata": {},
   "source": [
    "****\n",
    "### empty_like( )"
   ]
  },
  {
   "cell_type": "markdown",
   "id": "c95e80c1-80f3-4efe-bfec-df492fdae6fc",
   "metadata": {},
   "source": [
    "__Diğer like methodlar ile aynı mantıkta çalışır.  \n",
    "Parametre olarak girilen array ile aynı shape ve data tipi özelliklerine sahip\n",
    "bir empty array geriye döndürür.__\n"
   ]
  },
  {
   "cell_type": "code",
   "execution_count": 305,
   "id": "26767116-cedc-4dba-b57f-8f7533cd8655",
   "metadata": {},
   "outputs": [
    {
     "name": "stdout",
     "output_type": "stream",
     "text": [
      "[[1 2 3]\n",
      " [4 5 6]]\n"
     ]
    }
   ],
   "source": [
    "arr = np.array([[1, 2, 3], [4, 5, 6]])\n",
    "print(arr)\n"
   ]
  },
  {
   "cell_type": "code",
   "execution_count": 306,
   "id": "971a1898-7eae-4483-9f17-369708a4363b",
   "metadata": {},
   "outputs": [
    {
     "name": "stdout",
     "output_type": "stream",
     "text": [
      "(2, 3)\n"
     ]
    }
   ],
   "source": [
    "print(arr.shape)"
   ]
  },
  {
   "cell_type": "code",
   "execution_count": 303,
   "id": "671b8515-d97c-40c5-9e3a-d67c10d6f3c0",
   "metadata": {},
   "outputs": [
    {
     "name": "stdout",
     "output_type": "stream",
     "text": [
      "[[50538752      606        0]\n",
      " [       0        1  6844930]]\n"
     ]
    }
   ],
   "source": [
    "\n",
    "new_arr = np.empty_like(arr)\n",
    "\n",
    "print(new_arr)"
   ]
  },
  {
   "cell_type": "code",
   "execution_count": 308,
   "id": "e7683e2b-948a-475b-bb9c-d3e5df5d2664",
   "metadata": {},
   "outputs": [
    {
     "name": "stdout",
     "output_type": "stream",
     "text": [
      "(2, 3)\n"
     ]
    }
   ],
   "source": [
    "\n",
    "print(new_arr.shape)"
   ]
  },
  {
   "cell_type": "markdown",
   "id": "6c5090e3-6e27-4b06-a01b-a2083b44b0ae",
   "metadata": {},
   "source": [
    "****\n",
    "## full( )"
   ]
  },
  {
   "cell_type": "markdown",
   "id": "1620e0af-e4c2-435c-8199-82dd9a38b224",
   "metadata": {},
   "source": [
    "__shape ve fill_value olmak üzere iki parametre alır.\n",
    "Verilen shape ve data type özelliklerinde bir array geriye döndürür.  \n",
    "Oluşturulan array'in elemanları fill_value olarak girilen değerle doldurulur.__"
   ]
  },
  {
   "cell_type": "code",
   "execution_count": 321,
   "id": "d0bea612-1a71-4eeb-9d14-1009ebc8568a",
   "metadata": {},
   "outputs": [
    {
     "name": "stdout",
     "output_type": "stream",
     "text": [
      "[10]\n"
     ]
    }
   ],
   "source": [
    "arr = np.full(1, 10)\n",
    "\n",
    "print(arr)\n"
   ]
  },
  {
   "cell_type": "code",
   "execution_count": 320,
   "id": "0060c4d8-d50e-4821-a724-2dc3325c3227",
   "metadata": {},
   "outputs": [
    {
     "name": "stdout",
     "output_type": "stream",
     "text": [
      "[10 10]\n"
     ]
    }
   ],
   "source": [
    "\n",
    "arr = np.full(2, 10)\n",
    "\n",
    "print(arr)\n"
   ]
  },
  {
   "cell_type": "code",
   "execution_count": 326,
   "id": "9cbf1f59-390d-4ba1-a371-c607a31ff38b",
   "metadata": {},
   "outputs": [
    {
     "name": "stdout",
     "output_type": "stream",
     "text": [
      "[[9 9]]\n"
     ]
    }
   ],
   "source": [
    "\n",
    "# İki boyutlu, birinci boyutunda 1 elemana sahip, ikinci boyutunda 2 elemana sahip\n",
    "# ve tüm elemanları 9 olan bir array oluşturalım.\n",
    "\n",
    "arr = np.full((1,2), 9)\n",
    "\n",
    "print(arr)\n"
   ]
  },
  {
   "cell_type": "code",
   "execution_count": 327,
   "id": "10744f32-6744-4ac2-803b-af125d4b7f1a",
   "metadata": {},
   "outputs": [
    {
     "name": "stdout",
     "output_type": "stream",
     "text": [
      "[[9 9]\n",
      " [9 9]]\n"
     ]
    }
   ],
   "source": [
    "\n",
    "# İki boyutlu, birinci boyutunda 2 elemana sahip, ikinci boyutunda 2 elemana sahip\n",
    "# ve tüm elemanları 9 olan bir array oluşturalım.\n",
    "\n",
    "arr = np.full((2,2), 9)\n",
    "\n",
    "print(arr)\n",
    "\n"
   ]
  },
  {
   "cell_type": "code",
   "execution_count": 330,
   "id": "840ae01c-6a31-44cf-82fb-b06995b6e8a6",
   "metadata": {},
   "outputs": [
    {
     "name": "stdout",
     "output_type": "stream",
     "text": [
      "[[7 7]\n",
      " [7 7]\n",
      " [7 7]\n",
      " [7 7]]\n"
     ]
    }
   ],
   "source": [
    "\n",
    "# İki boyutlu, birinci boyutunda 4 elemana sahip, ikinci boyutunda 2 elemana sahip\n",
    "# ve tüm elemanları 7 olan bir array oluşturalım.\n",
    "\n",
    "arr = np.full((4,2), 7)\n",
    "\n",
    "print(arr)\n",
    "\n"
   ]
  },
  {
   "cell_type": "code",
   "execution_count": 331,
   "id": "7f01e810-ca20-4e38-98d5-a8b4ccfd8ad5",
   "metadata": {},
   "outputs": [
    {
     "name": "stdout",
     "output_type": "stream",
     "text": [
      "[[7 7 7 7 7]\n",
      " [7 7 7 7 7]\n",
      " [7 7 7 7 7]\n",
      " [7 7 7 7 7]]\n"
     ]
    }
   ],
   "source": [
    "\n",
    "# İki boyutlu, birinci boyutunda 4 elemana sahip, ikinci boyutunda 5 elemana sahip\n",
    "# ve tüm elemanları 7 olan bir array oluşturalım.\n",
    "\n",
    "arr = np.full((4,5), 7)\n",
    "\n",
    "print(arr)\n",
    "\n"
   ]
  },
  {
   "cell_type": "markdown",
   "id": "d93eb807-ba1c-47d8-9f30-354234f89181",
   "metadata": {},
   "source": [
    "****\n",
    "### full_like( )"
   ]
  },
  {
   "cell_type": "markdown",
   "id": "66583f8d-8bf9-4302-b274-71161beca93c",
   "metadata": {
    "tags": []
   },
   "source": [
    "__Parametre olarak; bir array ve fill_value alır.  \n",
    "Girilen array'in shape ve data type ile aynı olacak şekilde,  \n",
    "elemanlarını girilen fill_value değeri ile doldururarak bir array döndürür.__"
   ]
  },
  {
   "cell_type": "code",
   "execution_count": 333,
   "id": "53a5a777-e3c6-4b75-a2af-20ccb8e434af",
   "metadata": {},
   "outputs": [
    {
     "name": "stdout",
     "output_type": "stream",
     "text": [
      "[3 3 3 3 3 3]\n"
     ]
    }
   ],
   "source": [
    "x = np.arange(6, dtype=int)\n",
    "\n",
    "my_fullarray = np.full_like(x, 3)\n",
    "\n",
    "print(my_fullarray)\n"
   ]
  },
  {
   "cell_type": "markdown",
   "id": "4604e8b3-fb4a-4184-a1c4-af02ee188b56",
   "metadata": {},
   "source": [
    "****\n",
    "### rollaxis()"
   ]
  },
  {
   "cell_type": "code",
   "execution_count": null,
   "id": "19bc4e04-31cd-46fc-9a88-bcc5aa37a336",
   "metadata": {},
   "outputs": [],
   "source": [
    "Zorunlu parametreleri;  \n",
    " array, axis\n"
   ]
  },
  {
   "cell_type": "code",
   "execution_count": 494,
   "id": "79640c3b-800d-4aa8-bd06-0bbfe78c9f7d",
   "metadata": {},
   "outputs": [
    {
     "name": "stdout",
     "output_type": "stream",
     "text": [
      "[[0 1 2 3]\n",
      " [4 5 6 7]]\n"
     ]
    }
   ],
   "source": [
    "a = np.arange(8)\n",
    "b = np.reshape(a, (2, 4))\n",
    "print(b)"
   ]
  },
  {
   "cell_type": "code",
   "execution_count": 531,
   "id": "a867f27f-0dd0-4594-92f7-a4406468bb6a",
   "metadata": {},
   "outputs": [
    {
     "data": {
      "text/plain": [
       "(2, 4)"
      ]
     },
     "execution_count": 531,
     "metadata": {},
     "output_type": "execute_result"
    }
   ],
   "source": [
    "b.shape\n"
   ]
  },
  {
   "cell_type": "code",
   "execution_count": 534,
   "id": "7e395cc4-74c2-4e1f-9c82-58a825c1f2aa",
   "metadata": {},
   "outputs": [
    {
     "data": {
      "text/plain": [
       "(4, 2)"
      ]
     },
     "execution_count": 534,
     "metadata": {},
     "output_type": "execute_result"
    }
   ],
   "source": [
    "np.rollaxis(b, 1).shape"
   ]
  },
  {
   "cell_type": "code",
   "execution_count": 535,
   "id": "ffbc4775-9cb8-4c53-b901-1be363f77fb5",
   "metadata": {},
   "outputs": [
    {
     "data": {
      "text/plain": [
       "array([[0, 4],\n",
       "       [1, 5],\n",
       "       [2, 6],\n",
       "       [3, 7]])"
      ]
     },
     "execution_count": 535,
     "metadata": {},
     "output_type": "execute_result"
    }
   ],
   "source": [
    "np.rollaxis(b, 1)"
   ]
  },
  {
   "cell_type": "code",
   "execution_count": 536,
   "id": "f30a505d-3929-4700-bba7-259b08e04ec6",
   "metadata": {},
   "outputs": [
    {
     "data": {
      "text/plain": [
       "(3, 4, 5, 6)"
      ]
     },
     "execution_count": 536,
     "metadata": {},
     "output_type": "execute_result"
    }
   ],
   "source": [
    "arr = np.ones((3,4,5,6))\n",
    "\n",
    "arr.shape"
   ]
  },
  {
   "cell_type": "code",
   "execution_count": 537,
   "id": "ccdcebaa-5074-4815-863d-92c24228c3f9",
   "metadata": {},
   "outputs": [
    {
     "data": {
      "text/plain": [
       "4"
      ]
     },
     "execution_count": 537,
     "metadata": {},
     "output_type": "execute_result"
    }
   ],
   "source": [
    "arr.ndim"
   ]
  },
  {
   "cell_type": "code",
   "execution_count": 538,
   "id": "3bfb3166-faa0-4a78-a0bf-fe54dca9517e",
   "metadata": {},
   "outputs": [
    {
     "data": {
      "text/plain": [
       "(3, 6, 4, 5)"
      ]
     },
     "execution_count": 538,
     "metadata": {},
     "output_type": "execute_result"
    }
   ],
   "source": [
    "new_arr = np.rollaxis(arr, 3, 1)\n",
    "\n",
    "new_arr.shape"
   ]
  },
  {
   "cell_type": "code",
   "execution_count": 543,
   "id": "1a07aa43-6bf8-4e09-8012-50b2e7439c59",
   "metadata": {},
   "outputs": [
    {
     "name": "stdout",
     "output_type": "stream",
     "text": [
      "(3, 4, 5, 6)\n"
     ]
    },
    {
     "data": {
      "text/plain": [
       "(6, 3, 4, 5)"
      ]
     },
     "execution_count": 543,
     "metadata": {},
     "output_type": "execute_result"
    }
   ],
   "source": [
    "#start değeri girmezsek default 0 alır, girilen ekseni 0'a yani en başa alır: \n",
    "\n",
    "print(arr.shape)\n",
    "\n",
    "np.rollaxis(arr, 3).shape"
   ]
  },
  {
   "cell_type": "code",
   "execution_count": 545,
   "id": "3e75eaaa-59aa-4208-9c1d-00e8b06ee835",
   "metadata": {},
   "outputs": [
    {
     "name": "stdout",
     "output_type": "stream",
     "text": [
      "(3, 4, 5, 6)\n"
     ]
    },
    {
     "data": {
      "text/plain": [
       "(3, 5, 4, 6)"
      ]
     },
     "execution_count": 545,
     "metadata": {},
     "output_type": "execute_result"
    }
   ],
   "source": [
    "# Girilen start_değeri > axis_değeri olursa; girilen_axis, start_değeri-1'e gider.\n",
    "# Yani bu durumda girilen start_değeri dahil olmaz.\n",
    "#Örnek :\n",
    "\n",
    "print(arr.shape)\n",
    "\n",
    "np.rollaxis(arr, 1, 3).shape  # index-1 deki axis olan \"4\", 3.indexteki axise değil 2.ye gider."
   ]
  },
  {
   "cell_type": "code",
   "execution_count": 547,
   "id": "c268c8cf-2f3c-431f-9fca-735345aa73b2",
   "metadata": {},
   "outputs": [
    {
     "name": "stdout",
     "output_type": "stream",
     "text": [
      "(3, 4, 5, 6)\n"
     ]
    },
    {
     "data": {
      "text/plain": [
       "(3, 5, 4, 6)"
      ]
     },
     "execution_count": 547,
     "metadata": {},
     "output_type": "execute_result"
    }
   ],
   "source": [
    "\n",
    "print(arr.shape)\n",
    "\n",
    "np.rollaxis(arr, 2, 1).shape"
   ]
  },
  {
   "cell_type": "code",
   "execution_count": 548,
   "id": "adb52468-0eee-416e-8e2b-242cfa915545",
   "metadata": {},
   "outputs": [
    {
     "name": "stdout",
     "output_type": "stream",
     "text": [
      "(3, 4, 5, 6)\n"
     ]
    },
    {
     "data": {
      "text/plain": [
       "(3, 4, 5, 6)"
      ]
     },
     "execution_count": 548,
     "metadata": {},
     "output_type": "execute_result"
    }
   ],
   "source": [
    "\n",
    "print(arr.shape)\n",
    "\n",
    "np.rollaxis(arr, 2, 2).shape"
   ]
  },
  {
   "cell_type": "code",
   "execution_count": 550,
   "id": "cb0df63d-09d9-43a2-bcd0-ee05e4b72646",
   "metadata": {},
   "outputs": [
    {
     "name": "stdout",
     "output_type": "stream",
     "text": [
      "(3, 4, 5, 6)\n"
     ]
    },
    {
     "data": {
      "text/plain": [
       "(4, 5, 3, 6)"
      ]
     },
     "execution_count": 550,
     "metadata": {},
     "output_type": "execute_result"
    }
   ],
   "source": [
    "#start değeri = -1 girilirse; start_değeri = array_boyutu-1 olarak alınır.\n",
    "print(arr.shape)\n",
    "\n",
    "np.rollaxis(arr, 0, -1).shape   #array_boyutu-1 > 0 olacağı için girilen axis 3. indexe değil,\n",
    "                                # bir öncekine gider. axis < start olduğunda start_değeri\n",
    "                                # dahil edilmez."
   ]
  },
  {
   "cell_type": "code",
   "execution_count": 554,
   "id": "df847d18-de40-4df3-9c5b-972206e3f5c5",
   "metadata": {},
   "outputs": [
    {
     "data": {
      "text/plain": [
       "(1, 2, 3, 4, 5, 6)"
      ]
     },
     "execution_count": 554,
     "metadata": {},
     "output_type": "execute_result"
    }
   ],
   "source": [
    "\n",
    "a=np.ones((1, 2, 3, 4, 5, 6))\n",
    "\n",
    "np.rollaxis(a, axis=2, start=2).shape"
   ]
  },
  {
   "cell_type": "code",
   "execution_count": 555,
   "id": "5574f8e5-f32c-4714-9746-f0d2ae0c2cb2",
   "metadata": {},
   "outputs": [
    {
     "data": {
      "text/plain": [
       "(1, 2, 3, 4, 5, 6)"
      ]
     },
     "execution_count": 555,
     "metadata": {},
     "output_type": "execute_result"
    }
   ],
   "source": [
    " np.rollaxis(a, axis=2, start=3).shape"
   ]
  },
  {
   "cell_type": "markdown",
   "id": "250ef84b-1ff8-40da-9e92-e28a17fccc3a",
   "metadata": {},
   "source": [
    "****\n",
    "## unique( )"
   ]
  },
  {
   "cell_type": "markdown",
   "id": "26e3ff78-c8db-4d87-8c8f-531fc9a6f5cf",
   "metadata": {},
   "source": [
    "__Zorunlu parametresi \"array\" dir.__   \n",
    "  \n",
    "__Opsiyonel parametresi olan \"return_index\" default olarak \"False\" değerine sahiptir.__  \n",
    "__\"return_index\" = True yapılırsa unique değerlerin index'lerini döndürür.__  \n",
    "  \n",
    "__Opsiyonel parametresi olan \"return_counts\" default olarak \"False\" değerine sahiptir.__  \n",
    "__\"return_counts\" = True yapılırsa unique değerlerin herbirinin sayısını döndürür.__"
   ]
  },
  {
   "cell_type": "code",
   "execution_count": 149,
   "id": "de001244-c84c-4e20-8988-e91102e3977e",
   "metadata": {},
   "outputs": [
    {
     "name": "stdout",
     "output_type": "stream",
     "text": [
      "[1 2 3]\n"
     ]
    }
   ],
   "source": [
    "arr = np.array([1, 1, 2, 2, 3, 3, 3, 3])\n",
    "\n",
    "print( np.unique(arr) )"
   ]
  },
  {
   "cell_type": "code",
   "execution_count": 147,
   "id": "00667d2d-b038-45d7-bc44-d77fec38131b",
   "metadata": {},
   "outputs": [
    {
     "name": "stdout",
     "output_type": "stream",
     "text": [
      "(array([1, 2, 3]), array([0, 2, 4], dtype=int64))\n"
     ]
    }
   ],
   "source": [
    "print( np.unique(arr, return_index=True) )"
   ]
  },
  {
   "cell_type": "code",
   "execution_count": 150,
   "id": "d80c24f2-ea20-443d-8464-2398f01162dd",
   "metadata": {},
   "outputs": [
    {
     "name": "stdout",
     "output_type": "stream",
     "text": [
      "(array([1, 2, 3]), array([2, 2, 4], dtype=int64))\n"
     ]
    }
   ],
   "source": [
    "print( np.unique(arr, return_counts=True) ) "
   ]
  },
  {
   "cell_type": "code",
   "execution_count": 165,
   "id": "0073583a-1b44-4d39-8d62-7b8e9d46b9d1",
   "metadata": {},
   "outputs": [
    {
     "data": {
      "text/plain": [
       "array([[1, 0, 0],\n",
       "       [1, 0, 0],\n",
       "       [2, 3, 4]])"
      ]
     },
     "execution_count": 165,
     "metadata": {},
     "output_type": "execute_result"
    }
   ],
   "source": [
    "# 2-D array\n",
    "a = np.array([[1, 0, 0], [1, 0, 0], [2, 3, 4]])\n",
    "a"
   ]
  },
  {
   "cell_type": "code",
   "execution_count": 166,
   "id": "8abfe759-6cdc-4b3e-b158-c9946b1e462e",
   "metadata": {},
   "outputs": [
    {
     "data": {
      "text/plain": [
       "array([0, 1, 2, 3, 4])"
      ]
     },
     "execution_count": 166,
     "metadata": {},
     "output_type": "execute_result"
    }
   ],
   "source": [
    "np.unique(a)"
   ]
  },
  {
   "cell_type": "markdown",
   "id": "17330710-d897-4e7b-b45a-1d91ac383e2b",
   "metadata": {},
   "source": [
    "****\n",
    "## sort( ) "
   ]
  },
  {
   "cell_type": "markdown",
   "id": "e08adb5a-1bc7-44b0-bc96-c4324bd79f60",
   "metadata": {},
   "source": [
    "__Nümerik ya da alfabetik array elemanlarını, nümerik veya alfabetik  \n",
    "sıralarına göre sıralamasını yapan methodtur.__"
   ]
  },
  {
   "cell_type": "code",
   "execution_count": 174,
   "id": "62917a63-bac7-46a4-bfa8-cc2b405999fa",
   "metadata": {},
   "outputs": [
    {
     "name": "stdout",
     "output_type": "stream",
     "text": [
      "[0 1 2 3]\n"
     ]
    }
   ],
   "source": [
    "arr = np.array([3, 2, 0, 1])\n",
    "\n",
    "print( np.sort(arr) )"
   ]
  },
  {
   "cell_type": "code",
   "execution_count": 175,
   "id": "fc13fbad-9150-48f1-94fe-f4d5db80f1c3",
   "metadata": {},
   "outputs": [
    {
     "name": "stdout",
     "output_type": "stream",
     "text": [
      "['a' 'b' 'c' 'd' 'e']\n"
     ]
    }
   ],
   "source": [
    "arr = np.array(['e', 'c', 'b', 'd', 'a'])\n",
    "\n",
    "print( np.sort(arr) )"
   ]
  },
  {
   "cell_type": "code",
   "execution_count": 177,
   "id": "5de9f1f3-b30f-4f3a-af5a-d888186fc3cb",
   "metadata": {},
   "outputs": [
    {
     "name": "stdout",
     "output_type": "stream",
     "text": [
      "['apple' 'banana' 'cherry']\n"
     ]
    }
   ],
   "source": [
    "\n",
    "arr = np.array(['banana', 'cherry', 'apple'])\n",
    "\n",
    "print(np.sort(arr))"
   ]
  },
  {
   "cell_type": "code",
   "execution_count": 179,
   "id": "6927c490-a22b-444b-a12d-9da296fad0bd",
   "metadata": {},
   "outputs": [
    {
     "name": "stdout",
     "output_type": "stream",
     "text": [
      "[[2 3 4]\n",
      " [0 1 5]]\n"
     ]
    }
   ],
   "source": [
    "\n",
    "# Sorting a 2-D Array\n",
    "\n",
    "arr = np.array([[3, 2, 4], [5, 0, 1]])\n",
    "\n",
    "print( np.sort(arr) )"
   ]
  },
  {
   "cell_type": "markdown",
   "id": "67810249-97f4-4801-a5fd-c54cabb853e8",
   "metadata": {},
   "source": [
    "****\n",
    "# Broadcasting"
   ]
  },
  {
   "cell_type": "markdown",
   "id": "386a7476-d9d6-4d89-9e4c-84f766c6ce1e",
   "metadata": {},
   "source": [
    "<img src=\"numpy-broadcasting.png\">"
   ]
  },
  {
   "cell_type": "code",
   "execution_count": 257,
   "id": "0de5f70b-fd3c-46f8-bf28-ff122e733e63",
   "metadata": {},
   "outputs": [
    {
     "name": "stdout",
     "output_type": "stream",
     "text": [
      "[11 22 33 44]\n"
     ]
    }
   ],
   "source": [
    "a = np.array([1,2,3,4]) \n",
    "b = np.array([10,20,30,40]) \n",
    "\n",
    "c = a + b \n",
    "\n",
    "print (c)\n"
   ]
  },
  {
   "cell_type": "code",
   "execution_count": 258,
   "id": "9074d4c6-da8c-488e-8d39-0576a5a39109",
   "metadata": {},
   "outputs": [
    {
     "name": "stdout",
     "output_type": "stream",
     "text": [
      "[ 10  40  90 160]\n"
     ]
    }
   ],
   "source": [
    "\n",
    "c = a*b \n",
    "\n",
    "print (c)"
   ]
  },
  {
   "cell_type": "code",
   "execution_count": 260,
   "id": "f0910382-9e6f-47e7-85ae-5dd9b9b8f017",
   "metadata": {},
   "outputs": [
    {
     "name": "stdout",
     "output_type": "stream",
     "text": [
      "[10. 10. 10. 10.]\n"
     ]
    }
   ],
   "source": [
    "\n",
    "c = b / a \n",
    "\n",
    "print (c)"
   ]
  },
  {
   "cell_type": "code",
   "execution_count": 261,
   "id": "3f46c705-8d0f-4b2e-8178-dbe3af9d5275",
   "metadata": {},
   "outputs": [
    {
     "name": "stdout",
     "output_type": "stream",
     "text": [
      "[0.1 0.1 0.1 0.1]\n"
     ]
    }
   ],
   "source": [
    "\n",
    "c = a / b \n",
    "\n",
    "print (c)"
   ]
  },
  {
   "cell_type": "code",
   "execution_count": 262,
   "id": "da617cd4-ab6f-47b4-8e50-e4283a37edf8",
   "metadata": {},
   "outputs": [
    {
     "name": "stdout",
     "output_type": "stream",
     "text": [
      "[[ 0.  0.  0.]\n",
      " [10. 10. 10.]\n",
      " [20. 20. 20.]\n",
      " [30. 30. 30.]] \n",
      " \n",
      "\n",
      "[1. 2. 3.]\n"
     ]
    }
   ],
   "source": [
    "\n",
    "a = np.array([[0.0,0.0,0.0],[10.0,10.0,10.0],[20.0,20.0,20.0],[30.0,30.0,30.0]]) \n",
    "b = np.array([1.0,2.0,3.0])\n",
    "\n",
    "print(a, '\\n \\n')\n",
    "print(b)"
   ]
  },
  {
   "cell_type": "code",
   "execution_count": 263,
   "id": "85f92f99-1c2d-4944-80e8-80ecc56c0fc8",
   "metadata": {},
   "outputs": [
    {
     "name": "stdout",
     "output_type": "stream",
     "text": [
      "[[ 1.  2.  3.]\n",
      " [11. 12. 13.]\n",
      " [21. 22. 23.]\n",
      " [31. 32. 33.]]\n"
     ]
    }
   ],
   "source": [
    "\n",
    "print(a+b)"
   ]
  },
  {
   "cell_type": "code",
   "execution_count": null,
   "id": "a42a5788-13d9-447a-bc28-ca5a5ea4dd4d",
   "metadata": {},
   "outputs": [],
   "source": []
  }
 ],
 "metadata": {
  "kernelspec": {
   "display_name": "Python 3 (ipykernel)",
   "language": "python",
   "name": "python3"
  },
  "language_info": {
   "codemirror_mode": {
    "name": "ipython",
    "version": 3
   },
   "file_extension": ".py",
   "mimetype": "text/x-python",
   "name": "python",
   "nbconvert_exporter": "python",
   "pygments_lexer": "ipython3",
   "version": "3.11.0"
  },
  "toc-autonumbering": false,
  "toc-showtags": false
 },
 "nbformat": 4,
 "nbformat_minor": 5
}
